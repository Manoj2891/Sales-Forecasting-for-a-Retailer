{
 "cells": [
  {
   "cell_type": "markdown",
   "metadata": {
    "colab_type": "text",
    "id": "NX9_mXATnaWk"
   },
   "source": [
    "# **Model Building**"
   ]
  },
  {
   "cell_type": "markdown",
   "metadata": {
    "colab_type": "text",
    "id": "Ntckz8N4sXD-"
   },
   "source": [
    "Importing Libraries"
   ]
  },
  {
   "cell_type": "code",
   "execution_count": 0,
   "metadata": {
    "colab": {},
    "colab_type": "code",
    "id": "kULYdMiZKQe2"
   },
   "outputs": [],
   "source": [
    "import numpy as np\n",
    "import pandas as pd\n",
    "from sklearn import preprocessing, linear_model, model_selection\n",
    "import gc; gc.enable()\n",
    "import random\n",
    "from sklearn.ensemble import RandomForestRegressor"
   ]
  },
  {
   "cell_type": "markdown",
   "metadata": {
    "colab_type": "text",
    "id": "A0uLixw5sf28"
   },
   "source": [
    "Loading the merged train,location and item dataset."
   ]
  },
  {
   "cell_type": "code",
   "execution_count": 0,
   "metadata": {
    "colab": {},
    "colab_type": "code",
    "id": "wkwUg7x4LxK8"
   },
   "outputs": [],
   "source": [
    "train_loc_item = pd.read_pickle('/content/drive/My Drive/PHD/train_loc_item.pkl')"
   ]
  },
  {
   "cell_type": "code",
   "execution_count": 0,
   "metadata": {
    "colab": {
     "base_uri": "https://localhost:8080/",
     "height": 309
    },
    "colab_type": "code",
    "id": "zaX5TwSIMcpz",
    "outputId": "d49549db-b7e5-4209-93e6-f91388cb129e"
   },
   "outputs": [
    {
     "data": {
      "text/html": [
       "<div>\n",
       "<style scoped>\n",
       "    .dataframe tbody tr th:only-of-type {\n",
       "        vertical-align: middle;\n",
       "    }\n",
       "\n",
       "    .dataframe tbody tr th {\n",
       "        vertical-align: top;\n",
       "    }\n",
       "\n",
       "    .dataframe thead th {\n",
       "        text-align: right;\n",
       "    }\n",
       "</style>\n",
       "<table border=\"1\" class=\"dataframe\">\n",
       "  <thead>\n",
       "    <tr style=\"text-align: right;\">\n",
       "      <th></th>\n",
       "      <th>date</th>\n",
       "      <th>locationId</th>\n",
       "      <th>item_id</th>\n",
       "      <th>unit_sales</th>\n",
       "      <th>onpromotion</th>\n",
       "      <th>city</th>\n",
       "      <th>state</th>\n",
       "      <th>type</th>\n",
       "      <th>cluster</th>\n",
       "      <th>category_of_item</th>\n",
       "      <th>class</th>\n",
       "      <th>perishable</th>\n",
       "    </tr>\n",
       "  </thead>\n",
       "  <tbody>\n",
       "    <tr>\n",
       "      <th>0</th>\n",
       "      <td>2015-01-01</td>\n",
       "      <td>location_25</td>\n",
       "      <td>item_103665</td>\n",
       "      <td>7.0</td>\n",
       "      <td>NaN</td>\n",
       "      <td>Kanpur</td>\n",
       "      <td>Uttar Pradesh</td>\n",
       "      <td>D</td>\n",
       "      <td>1</td>\n",
       "      <td>baked_items / bread_based</td>\n",
       "      <td>class_2712</td>\n",
       "      <td>1</td>\n",
       "    </tr>\n",
       "    <tr>\n",
       "      <th>1</th>\n",
       "      <td>2015-01-02</td>\n",
       "      <td>location_25</td>\n",
       "      <td>item_103665</td>\n",
       "      <td>5.0</td>\n",
       "      <td>NaN</td>\n",
       "      <td>Kanpur</td>\n",
       "      <td>Uttar Pradesh</td>\n",
       "      <td>D</td>\n",
       "      <td>1</td>\n",
       "      <td>baked_items / bread_based</td>\n",
       "      <td>class_2712</td>\n",
       "      <td>1</td>\n",
       "    </tr>\n",
       "    <tr>\n",
       "      <th>2</th>\n",
       "      <td>2015-01-04</td>\n",
       "      <td>location_25</td>\n",
       "      <td>item_103665</td>\n",
       "      <td>5.0</td>\n",
       "      <td>NaN</td>\n",
       "      <td>Kanpur</td>\n",
       "      <td>Uttar Pradesh</td>\n",
       "      <td>D</td>\n",
       "      <td>1</td>\n",
       "      <td>baked_items / bread_based</td>\n",
       "      <td>class_2712</td>\n",
       "      <td>1</td>\n",
       "    </tr>\n",
       "    <tr>\n",
       "      <th>3</th>\n",
       "      <td>2015-01-05</td>\n",
       "      <td>location_25</td>\n",
       "      <td>item_103665</td>\n",
       "      <td>5.0</td>\n",
       "      <td>NaN</td>\n",
       "      <td>Kanpur</td>\n",
       "      <td>Uttar Pradesh</td>\n",
       "      <td>D</td>\n",
       "      <td>1</td>\n",
       "      <td>baked_items / bread_based</td>\n",
       "      <td>class_2712</td>\n",
       "      <td>1</td>\n",
       "    </tr>\n",
       "    <tr>\n",
       "      <th>4</th>\n",
       "      <td>2015-01-06</td>\n",
       "      <td>location_25</td>\n",
       "      <td>item_103665</td>\n",
       "      <td>7.0</td>\n",
       "      <td>NaN</td>\n",
       "      <td>Kanpur</td>\n",
       "      <td>Uttar Pradesh</td>\n",
       "      <td>D</td>\n",
       "      <td>1</td>\n",
       "      <td>baked_items / bread_based</td>\n",
       "      <td>class_2712</td>\n",
       "      <td>1</td>\n",
       "    </tr>\n",
       "  </tbody>\n",
       "</table>\n",
       "</div>"
      ],
      "text/plain": [
       "         date   locationId  ...       class  perishable\n",
       "0  2015-01-01  location_25  ...  class_2712           1\n",
       "1  2015-01-02  location_25  ...  class_2712           1\n",
       "2  2015-01-04  location_25  ...  class_2712           1\n",
       "3  2015-01-05  location_25  ...  class_2712           1\n",
       "4  2015-01-06  location_25  ...  class_2712           1\n",
       "\n",
       "[5 rows x 12 columns]"
      ]
     },
     "execution_count": 5,
     "metadata": {
      "tags": []
     },
     "output_type": "execute_result"
    }
   ],
   "source": [
    "train_loc_item.head()"
   ]
  },
  {
   "cell_type": "markdown",
   "metadata": {
    "colab_type": "text",
    "id": "EubAiWCHri2L"
   },
   "source": [
    "Function for Label Encoder:"
   ]
  },
  {
   "cell_type": "code",
   "execution_count": 0,
   "metadata": {
    "colab": {},
    "colab_type": "code",
    "id": "CAQ76wiHNj7m"
   },
   "outputs": [],
   "source": [
    "def df_lbl_enc(df):\n",
    "    for c in df.columns:\n",
    "        if df[c].dtype == 'object':\n",
    "            lbl = preprocessing.LabelEncoder()\n",
    "            df[c] = lbl.fit_transform(df[c])\n",
    "            print(c)\n",
    "    return df"
   ]
  },
  {
   "cell_type": "code",
   "execution_count": 0,
   "metadata": {
    "colab": {},
    "colab_type": "code",
    "id": "z80ZT13KlMlT"
   },
   "outputs": [],
   "source": [
    "train_loc_item['date'] = pd.to_datetime(train_loc_item.date)"
   ]
  },
  {
   "cell_type": "markdown",
   "metadata": {
    "colab_type": "text",
    "id": "IPWtn1GRs0b7"
   },
   "source": [
    "Creating a subset of data from 2017-01-01 for better computation."
   ]
  },
  {
   "cell_type": "code",
   "execution_count": 0,
   "metadata": {
    "colab": {},
    "colab_type": "code",
    "id": "ig4rNz3MsAzS"
   },
   "outputs": [],
   "source": [
    "data_2 = train_loc_item[train_loc_item['date'] >= '2017-01-01']"
   ]
  },
  {
   "cell_type": "markdown",
   "metadata": {
    "colab_type": "text",
    "id": "n1hvLsm1tU6X"
   },
   "source": [
    "Resetting the Index"
   ]
  },
  {
   "cell_type": "code",
   "execution_count": 0,
   "metadata": {
    "colab": {},
    "colab_type": "code",
    "id": "4aErKOqUsK0m"
   },
   "outputs": [],
   "source": [
    "data_2 = data_2.reset_index(drop=True)"
   ]
  },
  {
   "cell_type": "markdown",
   "metadata": {
    "colab_type": "text",
    "id": "bFqzrnWioTJZ"
   },
   "source": [
    "Creating subset of training data and saving as a pickle file so that it can be used for model building for trying different approaches and for better computation efficiency."
   ]
  },
  {
   "cell_type": "code",
   "execution_count": 0,
   "metadata": {
    "colab": {},
    "colab_type": "code",
    "id": "hKhvhY7JtPRy"
   },
   "outputs": [],
   "source": [
    "oneyr = train_loc_item[train_loc_item['date'] >= '2018-01-01']"
   ]
  },
  {
   "cell_type": "code",
   "execution_count": 0,
   "metadata": {
    "colab": {},
    "colab_type": "code",
    "id": "86hKbjtbuOfA"
   },
   "outputs": [],
   "source": [
    "oneyr = oneyr.reset_index(drop=True)"
   ]
  },
  {
   "cell_type": "code",
   "execution_count": 0,
   "metadata": {
    "colab": {},
    "colab_type": "code",
    "id": "fc3ie4bguh-h"
   },
   "outputs": [],
   "source": [
    "oneyr.to_pickle('/content/drive/My Drive/PHD/oneyr.pkl')"
   ]
  },
  {
   "cell_type": "code",
   "execution_count": 0,
   "metadata": {
    "colab": {},
    "colab_type": "code",
    "id": "4JL8bBT0QShz"
   },
   "outputs": [],
   "source": [
    "del train_total['location_identifier']"
   ]
  },
  {
   "cell_type": "markdown",
   "metadata": {
    "colab_type": "text",
    "id": "DcXIiVlMuKTA"
   },
   "source": [
    "Creating a subset of data for the first 15 days of January from 2015 to 2018 for further approaches in model building."
   ]
  },
  {
   "cell_type": "code",
   "execution_count": 0,
   "metadata": {
    "colab": {},
    "colab_type": "code",
    "id": "irXaw7gHTXFM"
   },
   "outputs": [],
   "source": [
    "data_filtered = train_loc_item[(train_loc_item['date'].dt.month == 1) & (train_loc_item['date'].dt.day < 16)]"
   ]
  },
  {
   "cell_type": "code",
   "execution_count": 0,
   "metadata": {
    "colab": {
     "base_uri": "https://localhost:8080/",
     "height": 309
    },
    "colab_type": "code",
    "id": "s110IGVTU3Rd",
    "outputId": "a69e655e-50c6-4f4f-8935-66aca49a4c93"
   },
   "outputs": [
    {
     "data": {
      "text/html": [
       "<div>\n",
       "<style scoped>\n",
       "    .dataframe tbody tr th:only-of-type {\n",
       "        vertical-align: middle;\n",
       "    }\n",
       "\n",
       "    .dataframe tbody tr th {\n",
       "        vertical-align: top;\n",
       "    }\n",
       "\n",
       "    .dataframe thead th {\n",
       "        text-align: right;\n",
       "    }\n",
       "</style>\n",
       "<table border=\"1\" class=\"dataframe\">\n",
       "  <thead>\n",
       "    <tr style=\"text-align: right;\">\n",
       "      <th></th>\n",
       "      <th>date</th>\n",
       "      <th>locationId</th>\n",
       "      <th>item_id</th>\n",
       "      <th>unit_sales</th>\n",
       "      <th>onpromotion</th>\n",
       "      <th>city</th>\n",
       "      <th>state</th>\n",
       "      <th>type</th>\n",
       "      <th>cluster</th>\n",
       "      <th>category_of_item</th>\n",
       "      <th>class</th>\n",
       "      <th>perishable</th>\n",
       "    </tr>\n",
       "  </thead>\n",
       "  <tbody>\n",
       "    <tr>\n",
       "      <th>101686565</th>\n",
       "      <td>2018-01-05</td>\n",
       "      <td>location_47</td>\n",
       "      <td>item_1919674</td>\n",
       "      <td>2.0</td>\n",
       "      <td>False</td>\n",
       "      <td>Bengaluru</td>\n",
       "      <td>Karnataka</td>\n",
       "      <td>A</td>\n",
       "      <td>14</td>\n",
       "      <td>personal_care</td>\n",
       "      <td>class_4138</td>\n",
       "      <td>0</td>\n",
       "    </tr>\n",
       "    <tr>\n",
       "      <th>101686566</th>\n",
       "      <td>2018-01-15</td>\n",
       "      <td>location_47</td>\n",
       "      <td>item_1919674</td>\n",
       "      <td>1.0</td>\n",
       "      <td>False</td>\n",
       "      <td>Bengaluru</td>\n",
       "      <td>Karnataka</td>\n",
       "      <td>A</td>\n",
       "      <td>14</td>\n",
       "      <td>personal_care</td>\n",
       "      <td>class_4138</td>\n",
       "      <td>0</td>\n",
       "    </tr>\n",
       "    <tr>\n",
       "      <th>101686707</th>\n",
       "      <td>2018-01-09</td>\n",
       "      <td>location_50</td>\n",
       "      <td>item_1919674</td>\n",
       "      <td>1.0</td>\n",
       "      <td>False</td>\n",
       "      <td>Gurgaon</td>\n",
       "      <td>Haryana</td>\n",
       "      <td>A</td>\n",
       "      <td>14</td>\n",
       "      <td>personal_care</td>\n",
       "      <td>class_4138</td>\n",
       "      <td>0</td>\n",
       "    </tr>\n",
       "    <tr>\n",
       "      <th>101686708</th>\n",
       "      <td>2018-01-11</td>\n",
       "      <td>location_50</td>\n",
       "      <td>item_1919674</td>\n",
       "      <td>1.0</td>\n",
       "      <td>False</td>\n",
       "      <td>Gurgaon</td>\n",
       "      <td>Haryana</td>\n",
       "      <td>A</td>\n",
       "      <td>14</td>\n",
       "      <td>personal_care</td>\n",
       "      <td>class_4138</td>\n",
       "      <td>0</td>\n",
       "    </tr>\n",
       "    <tr>\n",
       "      <th>101686709</th>\n",
       "      <td>2018-01-15</td>\n",
       "      <td>location_50</td>\n",
       "      <td>item_1919674</td>\n",
       "      <td>1.0</td>\n",
       "      <td>False</td>\n",
       "      <td>Gurgaon</td>\n",
       "      <td>Haryana</td>\n",
       "      <td>A</td>\n",
       "      <td>14</td>\n",
       "      <td>personal_care</td>\n",
       "      <td>class_4138</td>\n",
       "      <td>0</td>\n",
       "    </tr>\n",
       "  </tbody>\n",
       "</table>\n",
       "</div>"
      ],
      "text/plain": [
       "                date   locationId  ...       class  perishable\n",
       "101686565 2018-01-05  location_47  ...  class_4138           0\n",
       "101686566 2018-01-15  location_47  ...  class_4138           0\n",
       "101686707 2018-01-09  location_50  ...  class_4138           0\n",
       "101686708 2018-01-11  location_50  ...  class_4138           0\n",
       "101686709 2018-01-15  location_50  ...  class_4138           0\n",
       "\n",
       "[5 rows x 12 columns]"
      ]
     },
     "execution_count": 8,
     "metadata": {
      "tags": []
     },
     "output_type": "execute_result"
    }
   ],
   "source": [
    "data_filtered.tail()"
   ]
  },
  {
   "cell_type": "code",
   "execution_count": 0,
   "metadata": {
    "colab": {
     "base_uri": "https://localhost:8080/",
     "height": 34
    },
    "colab_type": "code",
    "id": "C0iSU1HRmQgH",
    "outputId": "7a242e3e-4cfc-4c35-e348-0a357bd5d139"
   },
   "outputs": [
    {
     "data": {
      "text/plain": [
       "(3614828, 12)"
      ]
     },
     "execution_count": 9,
     "metadata": {
      "tags": []
     },
     "output_type": "execute_result"
    }
   ],
   "source": [
    "data_filtered.shape"
   ]
  },
  {
   "cell_type": "code",
   "execution_count": 0,
   "metadata": {
    "colab": {},
    "colab_type": "code",
    "id": "3WFSFlI0U-I8"
   },
   "outputs": [],
   "source": [
    "data_filtered = data_filtered.reset_index(drop=True)"
   ]
  },
  {
   "cell_type": "code",
   "execution_count": 0,
   "metadata": {
    "colab": {
     "base_uri": "https://localhost:8080/",
     "height": 309
    },
    "colab_type": "code",
    "id": "PyUZ3iYWVK0b",
    "outputId": "45280c3c-5fb3-4d26-c85e-f15a285ac172"
   },
   "outputs": [
    {
     "data": {
      "text/html": [
       "<div>\n",
       "<style scoped>\n",
       "    .dataframe tbody tr th:only-of-type {\n",
       "        vertical-align: middle;\n",
       "    }\n",
       "\n",
       "    .dataframe tbody tr th {\n",
       "        vertical-align: top;\n",
       "    }\n",
       "\n",
       "    .dataframe thead th {\n",
       "        text-align: right;\n",
       "    }\n",
       "</style>\n",
       "<table border=\"1\" class=\"dataframe\">\n",
       "  <thead>\n",
       "    <tr style=\"text-align: right;\">\n",
       "      <th></th>\n",
       "      <th>date</th>\n",
       "      <th>locationId</th>\n",
       "      <th>item_id</th>\n",
       "      <th>unit_sales</th>\n",
       "      <th>onpromotion</th>\n",
       "      <th>city</th>\n",
       "      <th>state</th>\n",
       "      <th>type</th>\n",
       "      <th>cluster</th>\n",
       "      <th>category_of_item</th>\n",
       "      <th>class</th>\n",
       "      <th>perishable</th>\n",
       "    </tr>\n",
       "  </thead>\n",
       "  <tbody>\n",
       "    <tr>\n",
       "      <th>0</th>\n",
       "      <td>2015-01-01</td>\n",
       "      <td>location_25</td>\n",
       "      <td>item_103665</td>\n",
       "      <td>7.0</td>\n",
       "      <td>NaN</td>\n",
       "      <td>Kanpur</td>\n",
       "      <td>Uttar Pradesh</td>\n",
       "      <td>D</td>\n",
       "      <td>1</td>\n",
       "      <td>baked_items / bread_based</td>\n",
       "      <td>class_2712</td>\n",
       "      <td>1</td>\n",
       "    </tr>\n",
       "    <tr>\n",
       "      <th>1</th>\n",
       "      <td>2015-01-02</td>\n",
       "      <td>location_25</td>\n",
       "      <td>item_103665</td>\n",
       "      <td>5.0</td>\n",
       "      <td>NaN</td>\n",
       "      <td>Kanpur</td>\n",
       "      <td>Uttar Pradesh</td>\n",
       "      <td>D</td>\n",
       "      <td>1</td>\n",
       "      <td>baked_items / bread_based</td>\n",
       "      <td>class_2712</td>\n",
       "      <td>1</td>\n",
       "    </tr>\n",
       "    <tr>\n",
       "      <th>2</th>\n",
       "      <td>2015-01-04</td>\n",
       "      <td>location_25</td>\n",
       "      <td>item_103665</td>\n",
       "      <td>5.0</td>\n",
       "      <td>NaN</td>\n",
       "      <td>Kanpur</td>\n",
       "      <td>Uttar Pradesh</td>\n",
       "      <td>D</td>\n",
       "      <td>1</td>\n",
       "      <td>baked_items / bread_based</td>\n",
       "      <td>class_2712</td>\n",
       "      <td>1</td>\n",
       "    </tr>\n",
       "    <tr>\n",
       "      <th>3</th>\n",
       "      <td>2015-01-05</td>\n",
       "      <td>location_25</td>\n",
       "      <td>item_103665</td>\n",
       "      <td>5.0</td>\n",
       "      <td>NaN</td>\n",
       "      <td>Kanpur</td>\n",
       "      <td>Uttar Pradesh</td>\n",
       "      <td>D</td>\n",
       "      <td>1</td>\n",
       "      <td>baked_items / bread_based</td>\n",
       "      <td>class_2712</td>\n",
       "      <td>1</td>\n",
       "    </tr>\n",
       "    <tr>\n",
       "      <th>4</th>\n",
       "      <td>2015-01-06</td>\n",
       "      <td>location_25</td>\n",
       "      <td>item_103665</td>\n",
       "      <td>7.0</td>\n",
       "      <td>NaN</td>\n",
       "      <td>Kanpur</td>\n",
       "      <td>Uttar Pradesh</td>\n",
       "      <td>D</td>\n",
       "      <td>1</td>\n",
       "      <td>baked_items / bread_based</td>\n",
       "      <td>class_2712</td>\n",
       "      <td>1</td>\n",
       "    </tr>\n",
       "  </tbody>\n",
       "</table>\n",
       "</div>"
      ],
      "text/plain": [
       "        date   locationId  ...       class  perishable\n",
       "0 2015-01-01  location_25  ...  class_2712           1\n",
       "1 2015-01-02  location_25  ...  class_2712           1\n",
       "2 2015-01-04  location_25  ...  class_2712           1\n",
       "3 2015-01-05  location_25  ...  class_2712           1\n",
       "4 2015-01-06  location_25  ...  class_2712           1\n",
       "\n",
       "[5 rows x 12 columns]"
      ]
     },
     "execution_count": 11,
     "metadata": {
      "tags": []
     },
     "output_type": "execute_result"
    }
   ],
   "source": [
    "data_filtered.head()"
   ]
  },
  {
   "cell_type": "code",
   "execution_count": 0,
   "metadata": {
    "colab": {},
    "colab_type": "code",
    "id": "L1s7Q0iYTi4e"
   },
   "outputs": [],
   "source": [
    "data_filtered.to_pickle('./data_filtered.pkl')"
   ]
  },
  {
   "cell_type": "markdown",
   "metadata": {
    "colab_type": "text",
    "id": "cghyDxlQt9zS"
   },
   "source": [
    "Using 2 years data"
   ]
  },
  {
   "cell_type": "code",
   "execution_count": 0,
   "metadata": {
    "colab": {},
    "colab_type": "code",
    "id": "2Dtk3_mEsrl3"
   },
   "outputs": [],
   "source": [
    "data_filtered1 = data_2"
   ]
  },
  {
   "cell_type": "code",
   "execution_count": 0,
   "metadata": {
    "colab": {
     "base_uri": "https://localhost:8080/",
     "height": 238
    },
    "colab_type": "code",
    "id": "7jDk5EGtQaac",
    "outputId": "86b4d6d5-e8d1-4f79-a407-cc5617a9149a"
   },
   "outputs": [
    {
     "data": {
      "text/plain": [
       "date                datetime64[ns]\n",
       "locationId                category\n",
       "item_id                     object\n",
       "unit_sales                 float64\n",
       "onpromotion               category\n",
       "city                      category\n",
       "state                     category\n",
       "type                      category\n",
       "cluster                   category\n",
       "category_of_item          category\n",
       "class                     category\n",
       "perishable                category\n",
       "dtype: object"
      ]
     },
     "execution_count": 13,
     "metadata": {
      "tags": []
     },
     "output_type": "execute_result"
    }
   ],
   "source": [
    "data_filtered1.dtypes"
   ]
  },
  {
   "cell_type": "markdown",
   "metadata": {
    "colab_type": "text",
    "id": "soll1AfmutmH"
   },
   "source": [
    "Creating additional features - Year, Month, Day and Day of Week."
   ]
  },
  {
   "cell_type": "code",
   "execution_count": 0,
   "metadata": {
    "colab": {},
    "colab_type": "code",
    "id": "yffAK8_pQfXX"
   },
   "outputs": [],
   "source": [
    "data_filtered1['date'] = pd.to_datetime(data_filtered1['date'])\n",
    "data_filtered1['year'] = data_filtered1['date'].dt.year\n",
    "data_filtered1['mon'] = data_filtered1['date'].dt.month\n",
    "data_filtered1['day'] = data_filtered1['date'].dt.day\n",
    "data_filtered1['date'] = data_filtered1['date'].dt.dayofweek"
   ]
  },
  {
   "cell_type": "code",
   "execution_count": 0,
   "metadata": {
    "colab": {
     "base_uri": "https://localhost:8080/",
     "height": 309
    },
    "colab_type": "code",
    "id": "g37aHZu4SRO4",
    "outputId": "471071a6-22f5-4563-91b0-c2d62c018df0"
   },
   "outputs": [
    {
     "data": {
      "text/html": [
       "<div>\n",
       "<style scoped>\n",
       "    .dataframe tbody tr th:only-of-type {\n",
       "        vertical-align: middle;\n",
       "    }\n",
       "\n",
       "    .dataframe tbody tr th {\n",
       "        vertical-align: top;\n",
       "    }\n",
       "\n",
       "    .dataframe thead th {\n",
       "        text-align: right;\n",
       "    }\n",
       "</style>\n",
       "<table border=\"1\" class=\"dataframe\">\n",
       "  <thead>\n",
       "    <tr style=\"text-align: right;\">\n",
       "      <th></th>\n",
       "      <th>date</th>\n",
       "      <th>locationId</th>\n",
       "      <th>item_id</th>\n",
       "      <th>unit_sales</th>\n",
       "      <th>onpromotion</th>\n",
       "      <th>city</th>\n",
       "      <th>state</th>\n",
       "      <th>type</th>\n",
       "      <th>cluster</th>\n",
       "      <th>category_of_item</th>\n",
       "      <th>class</th>\n",
       "      <th>perishable</th>\n",
       "      <th>year</th>\n",
       "      <th>mon</th>\n",
       "      <th>day</th>\n",
       "    </tr>\n",
       "  </thead>\n",
       "  <tbody>\n",
       "    <tr>\n",
       "      <th>0</th>\n",
       "      <td>6</td>\n",
       "      <td>location_25</td>\n",
       "      <td>item_103665</td>\n",
       "      <td>12.0</td>\n",
       "      <td>False</td>\n",
       "      <td>Kanpur</td>\n",
       "      <td>Uttar Pradesh</td>\n",
       "      <td>D</td>\n",
       "      <td>1</td>\n",
       "      <td>baked_items / bread_based</td>\n",
       "      <td>class_2712</td>\n",
       "      <td>1</td>\n",
       "      <td>2017</td>\n",
       "      <td>1</td>\n",
       "      <td>1</td>\n",
       "    </tr>\n",
       "    <tr>\n",
       "      <th>1</th>\n",
       "      <td>0</td>\n",
       "      <td>location_25</td>\n",
       "      <td>item_103665</td>\n",
       "      <td>31.0</td>\n",
       "      <td>False</td>\n",
       "      <td>Kanpur</td>\n",
       "      <td>Uttar Pradesh</td>\n",
       "      <td>D</td>\n",
       "      <td>1</td>\n",
       "      <td>baked_items / bread_based</td>\n",
       "      <td>class_2712</td>\n",
       "      <td>1</td>\n",
       "      <td>2017</td>\n",
       "      <td>1</td>\n",
       "      <td>2</td>\n",
       "    </tr>\n",
       "    <tr>\n",
       "      <th>2</th>\n",
       "      <td>1</td>\n",
       "      <td>location_25</td>\n",
       "      <td>item_103665</td>\n",
       "      <td>10.0</td>\n",
       "      <td>False</td>\n",
       "      <td>Kanpur</td>\n",
       "      <td>Uttar Pradesh</td>\n",
       "      <td>D</td>\n",
       "      <td>1</td>\n",
       "      <td>baked_items / bread_based</td>\n",
       "      <td>class_2712</td>\n",
       "      <td>1</td>\n",
       "      <td>2017</td>\n",
       "      <td>1</td>\n",
       "      <td>3</td>\n",
       "    </tr>\n",
       "    <tr>\n",
       "      <th>3</th>\n",
       "      <td>2</td>\n",
       "      <td>location_25</td>\n",
       "      <td>item_103665</td>\n",
       "      <td>5.0</td>\n",
       "      <td>False</td>\n",
       "      <td>Kanpur</td>\n",
       "      <td>Uttar Pradesh</td>\n",
       "      <td>D</td>\n",
       "      <td>1</td>\n",
       "      <td>baked_items / bread_based</td>\n",
       "      <td>class_2712</td>\n",
       "      <td>1</td>\n",
       "      <td>2017</td>\n",
       "      <td>1</td>\n",
       "      <td>4</td>\n",
       "    </tr>\n",
       "    <tr>\n",
       "      <th>4</th>\n",
       "      <td>3</td>\n",
       "      <td>location_25</td>\n",
       "      <td>item_103665</td>\n",
       "      <td>9.0</td>\n",
       "      <td>False</td>\n",
       "      <td>Kanpur</td>\n",
       "      <td>Uttar Pradesh</td>\n",
       "      <td>D</td>\n",
       "      <td>1</td>\n",
       "      <td>baked_items / bread_based</td>\n",
       "      <td>class_2712</td>\n",
       "      <td>1</td>\n",
       "      <td>2017</td>\n",
       "      <td>1</td>\n",
       "      <td>5</td>\n",
       "    </tr>\n",
       "  </tbody>\n",
       "</table>\n",
       "</div>"
      ],
      "text/plain": [
       "   date   locationId      item_id  unit_sales  ... perishable  year mon day\n",
       "0     6  location_25  item_103665        12.0  ...          1  2017   1   1\n",
       "1     0  location_25  item_103665        31.0  ...          1  2017   1   2\n",
       "2     1  location_25  item_103665        10.0  ...          1  2017   1   3\n",
       "3     2  location_25  item_103665         5.0  ...          1  2017   1   4\n",
       "4     3  location_25  item_103665         9.0  ...          1  2017   1   5\n",
       "\n",
       "[5 rows x 15 columns]"
      ]
     },
     "execution_count": 15,
     "metadata": {
      "tags": []
     },
     "output_type": "execute_result"
    }
   ],
   "source": [
    "data_filtered1.head()"
   ]
  },
  {
   "cell_type": "code",
   "execution_count": 0,
   "metadata": {
    "colab": {
     "base_uri": "https://localhost:8080/",
     "height": 289
    },
    "colab_type": "code",
    "id": "s8JOy-VYWoPs",
    "outputId": "c95af08e-6855-41e7-a215-c560e32feea1"
   },
   "outputs": [
    {
     "data": {
      "text/plain": [
       "date                   int64\n",
       "locationId          category\n",
       "item_id               object\n",
       "unit_sales           float64\n",
       "onpromotion         category\n",
       "city                category\n",
       "state               category\n",
       "type                category\n",
       "cluster             category\n",
       "category_of_item    category\n",
       "class               category\n",
       "perishable          category\n",
       "year                   int64\n",
       "mon                    int64\n",
       "day                    int64\n",
       "dtype: object"
      ]
     },
     "execution_count": 16,
     "metadata": {
      "tags": []
     },
     "output_type": "execute_result"
    }
   ],
   "source": [
    "data_filtered1.dtypes"
   ]
  },
  {
   "cell_type": "code",
   "execution_count": 0,
   "metadata": {
    "colab": {},
    "colab_type": "code",
    "id": "95D8dG0uXb1e"
   },
   "outputs": [],
   "source": [
    "data_filtered1['perishable'] = data_filtered1['perishable'].astype('int8')"
   ]
  },
  {
   "cell_type": "code",
   "execution_count": 0,
   "metadata": {
    "colab": {},
    "colab_type": "code",
    "id": "Kp81S2SdYRDO"
   },
   "outputs": [],
   "source": [
    "data_filtered1['item_id'] = data_filtered1['item_id'].astype('object')\n",
    "data_filtered1['city'] = data_filtered1['city'].astype('object')\n",
    "data_filtered1['state'] = data_filtered1['state'].astype('object')\n",
    "data_filtered1['type'] = data_filtered1['type'].astype('object')\n",
    "data_filtered1['cluster'] = data_filtered1['cluster'].astype('int8')\n",
    "data_filtered1['class'] = data_filtered1['class'].astype('object')\n",
    "data_filtered1['category_of_item'] = data_filtered1['category_of_item'].astype('object')\n",
    "data_filtered1['onpromotion'] = data_filtered1['onpromotion'].astype('object')\n",
    "data_filtered1['locationId'] = data_filtered1['locationId'].astype('object')"
   ]
  },
  {
   "cell_type": "code",
   "execution_count": 0,
   "metadata": {
    "colab": {
     "base_uri": "https://localhost:8080/",
     "height": 289
    },
    "colab_type": "code",
    "id": "0rdFwxlHZPQa",
    "outputId": "edfc41f4-2abe-489b-c991-cb90bf5406b6"
   },
   "outputs": [
    {
     "data": {
      "text/plain": [
       "date                  int64\n",
       "locationId           object\n",
       "item_id              object\n",
       "unit_sales          float64\n",
       "onpromotion          object\n",
       "city                 object\n",
       "state                object\n",
       "type                 object\n",
       "cluster                int8\n",
       "category_of_item     object\n",
       "class                object\n",
       "perishable             int8\n",
       "year                  int64\n",
       "mon                   int64\n",
       "day                   int64\n",
       "dtype: object"
      ]
     },
     "execution_count": 23,
     "metadata": {
      "tags": []
     },
     "output_type": "execute_result"
    }
   ],
   "source": [
    "data_filtered1.dtypes"
   ]
  },
  {
   "cell_type": "markdown",
   "metadata": {
    "colab_type": "text",
    "id": "NgNdbUHWvNWx"
   },
   "source": [
    "Using Label Encoding for categorical variables since there are more unique levels in each categorical variables."
   ]
  },
  {
   "cell_type": "code",
   "execution_count": 0,
   "metadata": {
    "colab": {
     "base_uri": "https://localhost:8080/",
     "height": 153
    },
    "colab_type": "code",
    "id": "VpnhQ97EXvHq",
    "outputId": "b44cbd81-fd59-428e-ea81-63c8a463e199"
   },
   "outputs": [
    {
     "name": "stdout",
     "output_type": "stream",
     "text": [
      "locationId\n",
      "item_id\n",
      "onpromotion\n",
      "city\n",
      "state\n",
      "type\n",
      "category_of_item\n",
      "class\n"
     ]
    }
   ],
   "source": [
    "data_filtered1 = df_lbl_enc(data_filtered1)"
   ]
  },
  {
   "cell_type": "code",
   "execution_count": 0,
   "metadata": {
    "colab": {
     "base_uri": "https://localhost:8080/",
     "height": 224
    },
    "colab_type": "code",
    "id": "OYkeEjZmYCUm",
    "outputId": "fa74eab6-447c-41ee-d843-f8597458210a"
   },
   "outputs": [
    {
     "data": {
      "text/html": [
       "<div>\n",
       "<style scoped>\n",
       "    .dataframe tbody tr th:only-of-type {\n",
       "        vertical-align: middle;\n",
       "    }\n",
       "\n",
       "    .dataframe tbody tr th {\n",
       "        vertical-align: top;\n",
       "    }\n",
       "\n",
       "    .dataframe thead th {\n",
       "        text-align: right;\n",
       "    }\n",
       "</style>\n",
       "<table border=\"1\" class=\"dataframe\">\n",
       "  <thead>\n",
       "    <tr style=\"text-align: right;\">\n",
       "      <th></th>\n",
       "      <th>date</th>\n",
       "      <th>locationId</th>\n",
       "      <th>item_id</th>\n",
       "      <th>unit_sales</th>\n",
       "      <th>onpromotion</th>\n",
       "      <th>city</th>\n",
       "      <th>state</th>\n",
       "      <th>type</th>\n",
       "      <th>cluster</th>\n",
       "      <th>category_of_item</th>\n",
       "      <th>class</th>\n",
       "      <th>perishable</th>\n",
       "      <th>year</th>\n",
       "      <th>mon</th>\n",
       "      <th>day</th>\n",
       "    </tr>\n",
       "  </thead>\n",
       "  <tbody>\n",
       "    <tr>\n",
       "      <th>0</th>\n",
       "      <td>6</td>\n",
       "      <td>17</td>\n",
       "      <td>45</td>\n",
       "      <td>12.0</td>\n",
       "      <td>0</td>\n",
       "      <td>10</td>\n",
       "      <td>11</td>\n",
       "      <td>3</td>\n",
       "      <td>1</td>\n",
       "      <td>0</td>\n",
       "      <td>179</td>\n",
       "      <td>1</td>\n",
       "      <td>2017</td>\n",
       "      <td>1</td>\n",
       "      <td>1</td>\n",
       "    </tr>\n",
       "    <tr>\n",
       "      <th>1</th>\n",
       "      <td>0</td>\n",
       "      <td>17</td>\n",
       "      <td>45</td>\n",
       "      <td>31.0</td>\n",
       "      <td>0</td>\n",
       "      <td>10</td>\n",
       "      <td>11</td>\n",
       "      <td>3</td>\n",
       "      <td>1</td>\n",
       "      <td>0</td>\n",
       "      <td>179</td>\n",
       "      <td>1</td>\n",
       "      <td>2017</td>\n",
       "      <td>1</td>\n",
       "      <td>2</td>\n",
       "    </tr>\n",
       "    <tr>\n",
       "      <th>2</th>\n",
       "      <td>1</td>\n",
       "      <td>17</td>\n",
       "      <td>45</td>\n",
       "      <td>10.0</td>\n",
       "      <td>0</td>\n",
       "      <td>10</td>\n",
       "      <td>11</td>\n",
       "      <td>3</td>\n",
       "      <td>1</td>\n",
       "      <td>0</td>\n",
       "      <td>179</td>\n",
       "      <td>1</td>\n",
       "      <td>2017</td>\n",
       "      <td>1</td>\n",
       "      <td>3</td>\n",
       "    </tr>\n",
       "    <tr>\n",
       "      <th>3</th>\n",
       "      <td>2</td>\n",
       "      <td>17</td>\n",
       "      <td>45</td>\n",
       "      <td>5.0</td>\n",
       "      <td>0</td>\n",
       "      <td>10</td>\n",
       "      <td>11</td>\n",
       "      <td>3</td>\n",
       "      <td>1</td>\n",
       "      <td>0</td>\n",
       "      <td>179</td>\n",
       "      <td>1</td>\n",
       "      <td>2017</td>\n",
       "      <td>1</td>\n",
       "      <td>4</td>\n",
       "    </tr>\n",
       "    <tr>\n",
       "      <th>4</th>\n",
       "      <td>3</td>\n",
       "      <td>17</td>\n",
       "      <td>45</td>\n",
       "      <td>9.0</td>\n",
       "      <td>0</td>\n",
       "      <td>10</td>\n",
       "      <td>11</td>\n",
       "      <td>3</td>\n",
       "      <td>1</td>\n",
       "      <td>0</td>\n",
       "      <td>179</td>\n",
       "      <td>1</td>\n",
       "      <td>2017</td>\n",
       "      <td>1</td>\n",
       "      <td>5</td>\n",
       "    </tr>\n",
       "  </tbody>\n",
       "</table>\n",
       "</div>"
      ],
      "text/plain": [
       "   date  locationId  item_id  unit_sales  ...  perishable  year  mon  day\n",
       "0     6          17       45        12.0  ...           1  2017    1    1\n",
       "1     0          17       45        31.0  ...           1  2017    1    2\n",
       "2     1          17       45        10.0  ...           1  2017    1    3\n",
       "3     2          17       45         5.0  ...           1  2017    1    4\n",
       "4     3          17       45         9.0  ...           1  2017    1    5\n",
       "\n",
       "[5 rows x 15 columns]"
      ]
     },
     "execution_count": 25,
     "metadata": {
      "tags": []
     },
     "output_type": "execute_result"
    }
   ],
   "source": [
    "data_filtered1.head()"
   ]
  },
  {
   "cell_type": "code",
   "execution_count": 0,
   "metadata": {
    "colab": {
     "base_uri": "https://localhost:8080/",
     "height": 357
    },
    "colab_type": "code",
    "id": "DPLSGNJ8b8-D",
    "outputId": "06c0d9a3-633b-4e01-8423-3f3540aee9cb"
   },
   "outputs": [
    {
     "name": "stdout",
     "output_type": "stream",
     "text": [
      "<class 'pandas.core.frame.DataFrame'>\n",
      "RangeIndex: 63094515 entries, 0 to 63094514\n",
      "Data columns (total 15 columns):\n",
      "date                int64\n",
      "locationId          int64\n",
      "item_id             int64\n",
      "unit_sales          float64\n",
      "onpromotion         int64\n",
      "city                int64\n",
      "state               int64\n",
      "type                int64\n",
      "cluster             int8\n",
      "category_of_item    int64\n",
      "class               int64\n",
      "perishable          int8\n",
      "year                int64\n",
      "mon                 int64\n",
      "day                 int64\n",
      "dtypes: float64(1), int64(12), int8(2)\n",
      "memory usage: 6.2 GB\n"
     ]
    }
   ],
   "source": [
    "data_filtered1.info()"
   ]
  },
  {
   "cell_type": "code",
   "execution_count": 0,
   "metadata": {
    "colab": {},
    "colab_type": "code",
    "id": "UmyMdWWbZtqY"
   },
   "outputs": [],
   "source": [
    "data_filtered1.to_pickle('./data_filtered1.pkl')"
   ]
  },
  {
   "cell_type": "code",
   "execution_count": 0,
   "metadata": {
    "colab": {},
    "colab_type": "code",
    "id": "sOIP4kwYZ3PG"
   },
   "outputs": [],
   "source": [
    "data_filtered1['item_id'] = data_filtered1['item_id'].astype('int32')\n",
    "data_filtered1['locationId'] = data_filtered1['locationId'].astype('int16')\n",
    "data_filtered1['date'] = data_filtered1['date'].astype('int8')\n",
    "data_filtered1['day'] = data_filtered1['day'].astype('int8')\n",
    "data_filtered1['mon'] = data_filtered1['mon'].astype('int8')\n",
    "data_filtered1['city'] = data_filtered1['city'].astype('int8')\n",
    "data_filtered1['state'] = data_filtered1['state'].astype('int8')\n",
    "data_filtered1['class'] = data_filtered1['class'].astype('int32')\n",
    "data_filtered1['year'] = data_filtered1['year'].astype('int32')\n",
    "data_filtered1['onpromotion'] = data_filtered1['onpromotion'].astype('int8')\n",
    "data_filtered1['type'] = data_filtered1['type'].astype('int8')\n",
    "data_filtered1['category_of_item'] = data_filtered1['type'].astype('int8')"
   ]
  },
  {
   "cell_type": "code",
   "execution_count": 0,
   "metadata": {
    "colab": {
     "base_uri": "https://localhost:8080/",
     "height": 357
    },
    "colab_type": "code",
    "id": "vAktoqridZnf",
    "outputId": "88af54f9-077e-4c9e-d4a2-ca1b30a6d966"
   },
   "outputs": [
    {
     "name": "stdout",
     "output_type": "stream",
     "text": [
      "<class 'pandas.core.frame.DataFrame'>\n",
      "RangeIndex: 63094515 entries, 0 to 63094514\n",
      "Data columns (total 15 columns):\n",
      "date                int8\n",
      "locationId          int16\n",
      "item_id             int32\n",
      "unit_sales          float64\n",
      "onpromotion         int8\n",
      "city                int8\n",
      "state               int8\n",
      "type                int8\n",
      "cluster             int8\n",
      "category_of_item    int8\n",
      "class               int32\n",
      "perishable          int8\n",
      "year                int32\n",
      "mon                 int8\n",
      "day                 int8\n",
      "dtypes: float64(1), int16(1), int32(3), int8(10)\n",
      "memory usage: 1.9 GB\n"
     ]
    }
   ],
   "source": [
    "data_filtered1.info()"
   ]
  },
  {
   "cell_type": "code",
   "execution_count": 0,
   "metadata": {
    "colab": {},
    "colab_type": "code",
    "id": "h5fyyiFQfIJj"
   },
   "outputs": [],
   "source": [
    "data_filtered1['unit_sales'] = data_filtered1['unit_sales'].astype('float32')"
   ]
  },
  {
   "cell_type": "code",
   "execution_count": 0,
   "metadata": {
    "colab": {},
    "colab_type": "code",
    "id": "1uHtDKdNggTD"
   },
   "outputs": [],
   "source": [
    "data_filtered1 = data_filtered1.drop(data_filtered1[data_filtered1.unit_sales > 44000].index)"
   ]
  },
  {
   "cell_type": "markdown",
   "metadata": {
    "colab_type": "text",
    "id": "D1Gt12kPvuIa"
   },
   "source": [
    "Changing the unit sales where the values are negative since unit sales cannot be negative since no specific details has been provided about return goods."
   ]
  },
  {
   "cell_type": "code",
   "execution_count": 0,
   "metadata": {
    "colab": {},
    "colab_type": "code",
    "id": "jP3CIyCdg-8u"
   },
   "outputs": [],
   "source": [
    "data_filtered1['unit_sales'] = np.where((data_filtered1.unit_sales <= 0),0,data_filtered1.unit_sales)"
   ]
  },
  {
   "cell_type": "code",
   "execution_count": 0,
   "metadata": {
    "colab": {
     "base_uri": "https://localhost:8080/",
     "height": 34
    },
    "colab_type": "code",
    "id": "bTKGlQvFjkCz",
    "outputId": "ba518df5-84aa-4dcd-a462-c27b5a018c64"
   },
   "outputs": [
    {
     "data": {
      "text/plain": [
       "(63094513, 15)"
      ]
     },
     "execution_count": 36,
     "metadata": {
      "tags": []
     },
     "output_type": "execute_result"
    }
   ],
   "source": [
    "data_filtered1.shape"
   ]
  },
  {
   "cell_type": "code",
   "execution_count": 0,
   "metadata": {
    "colab": {},
    "colab_type": "code",
    "id": "AUYuUEv3jmhr"
   },
   "outputs": [],
   "source": [
    "data_filtered1.to_pickle('./data_filtered1.pkl')"
   ]
  },
  {
   "cell_type": "code",
   "execution_count": 0,
   "metadata": {
    "colab": {},
    "colab_type": "code",
    "id": "kHqQvKTkkFvc"
   },
   "outputs": [],
   "source": [
    "tgt = data_filtered1['unit_sales'].values\n",
    "data_filtered1['unit_sales'] = np.log1p(tgt)"
   ]
  },
  {
   "cell_type": "code",
   "execution_count": 0,
   "metadata": {
    "colab": {
     "base_uri": "https://localhost:8080/",
     "height": 224
    },
    "colab_type": "code",
    "id": "Rk5G_DJAl39U",
    "outputId": "77209efd-ad51-45bd-89cc-537302291c43"
   },
   "outputs": [
    {
     "data": {
      "text/html": [
       "<div>\n",
       "<style scoped>\n",
       "    .dataframe tbody tr th:only-of-type {\n",
       "        vertical-align: middle;\n",
       "    }\n",
       "\n",
       "    .dataframe tbody tr th {\n",
       "        vertical-align: top;\n",
       "    }\n",
       "\n",
       "    .dataframe thead th {\n",
       "        text-align: right;\n",
       "    }\n",
       "</style>\n",
       "<table border=\"1\" class=\"dataframe\">\n",
       "  <thead>\n",
       "    <tr style=\"text-align: right;\">\n",
       "      <th></th>\n",
       "      <th>date</th>\n",
       "      <th>locationId</th>\n",
       "      <th>item_id</th>\n",
       "      <th>unit_sales</th>\n",
       "      <th>onpromotion</th>\n",
       "      <th>city</th>\n",
       "      <th>state</th>\n",
       "      <th>type</th>\n",
       "      <th>cluster</th>\n",
       "      <th>category_of_item</th>\n",
       "      <th>class</th>\n",
       "      <th>perishable</th>\n",
       "      <th>year</th>\n",
       "      <th>mon</th>\n",
       "      <th>day</th>\n",
       "    </tr>\n",
       "  </thead>\n",
       "  <tbody>\n",
       "    <tr>\n",
       "      <th>0</th>\n",
       "      <td>6</td>\n",
       "      <td>17</td>\n",
       "      <td>45</td>\n",
       "      <td>2.564949</td>\n",
       "      <td>0</td>\n",
       "      <td>10</td>\n",
       "      <td>11</td>\n",
       "      <td>3</td>\n",
       "      <td>1</td>\n",
       "      <td>3</td>\n",
       "      <td>179</td>\n",
       "      <td>1</td>\n",
       "      <td>2017</td>\n",
       "      <td>1</td>\n",
       "      <td>1</td>\n",
       "    </tr>\n",
       "    <tr>\n",
       "      <th>1</th>\n",
       "      <td>0</td>\n",
       "      <td>17</td>\n",
       "      <td>45</td>\n",
       "      <td>3.465736</td>\n",
       "      <td>0</td>\n",
       "      <td>10</td>\n",
       "      <td>11</td>\n",
       "      <td>3</td>\n",
       "      <td>1</td>\n",
       "      <td>3</td>\n",
       "      <td>179</td>\n",
       "      <td>1</td>\n",
       "      <td>2017</td>\n",
       "      <td>1</td>\n",
       "      <td>2</td>\n",
       "    </tr>\n",
       "    <tr>\n",
       "      <th>2</th>\n",
       "      <td>1</td>\n",
       "      <td>17</td>\n",
       "      <td>45</td>\n",
       "      <td>2.397895</td>\n",
       "      <td>0</td>\n",
       "      <td>10</td>\n",
       "      <td>11</td>\n",
       "      <td>3</td>\n",
       "      <td>1</td>\n",
       "      <td>3</td>\n",
       "      <td>179</td>\n",
       "      <td>1</td>\n",
       "      <td>2017</td>\n",
       "      <td>1</td>\n",
       "      <td>3</td>\n",
       "    </tr>\n",
       "    <tr>\n",
       "      <th>3</th>\n",
       "      <td>2</td>\n",
       "      <td>17</td>\n",
       "      <td>45</td>\n",
       "      <td>1.791759</td>\n",
       "      <td>0</td>\n",
       "      <td>10</td>\n",
       "      <td>11</td>\n",
       "      <td>3</td>\n",
       "      <td>1</td>\n",
       "      <td>3</td>\n",
       "      <td>179</td>\n",
       "      <td>1</td>\n",
       "      <td>2017</td>\n",
       "      <td>1</td>\n",
       "      <td>4</td>\n",
       "    </tr>\n",
       "    <tr>\n",
       "      <th>4</th>\n",
       "      <td>3</td>\n",
       "      <td>17</td>\n",
       "      <td>45</td>\n",
       "      <td>2.302585</td>\n",
       "      <td>0</td>\n",
       "      <td>10</td>\n",
       "      <td>11</td>\n",
       "      <td>3</td>\n",
       "      <td>1</td>\n",
       "      <td>3</td>\n",
       "      <td>179</td>\n",
       "      <td>1</td>\n",
       "      <td>2017</td>\n",
       "      <td>1</td>\n",
       "      <td>5</td>\n",
       "    </tr>\n",
       "  </tbody>\n",
       "</table>\n",
       "</div>"
      ],
      "text/plain": [
       "   date  locationId  item_id  unit_sales  ...  perishable  year  mon  day\n",
       "0     6          17       45    2.564949  ...           1  2017    1    1\n",
       "1     0          17       45    3.465736  ...           1  2017    1    2\n",
       "2     1          17       45    2.397895  ...           1  2017    1    3\n",
       "3     2          17       45    1.791759  ...           1  2017    1    4\n",
       "4     3          17       45    2.302585  ...           1  2017    1    5\n",
       "\n",
       "[5 rows x 15 columns]"
      ]
     },
     "execution_count": 40,
     "metadata": {
      "tags": []
     },
     "output_type": "execute_result"
    }
   ],
   "source": [
    "data_filtered1.head()"
   ]
  },
  {
   "cell_type": "code",
   "execution_count": 0,
   "metadata": {
    "colab": {
     "base_uri": "https://localhost:8080/",
     "height": 357
    },
    "colab_type": "code",
    "id": "YEmhZiLPniI3",
    "outputId": "7d12e744-a481-4abb-c3b5-1f270b1bbbf2"
   },
   "outputs": [
    {
     "name": "stdout",
     "output_type": "stream",
     "text": [
      "<class 'pandas.core.frame.DataFrame'>\n",
      "Int64Index: 63094513 entries, 0 to 63094514\n",
      "Data columns (total 15 columns):\n",
      "date                int8\n",
      "locationId          int16\n",
      "item_id             int32\n",
      "unit_sales          float32\n",
      "onpromotion         int8\n",
      "city                int8\n",
      "state               int8\n",
      "type                int8\n",
      "cluster             int8\n",
      "category_of_item    int8\n",
      "class               int32\n",
      "perishable          int8\n",
      "year                int32\n",
      "mon                 int8\n",
      "day                 int8\n",
      "dtypes: float32(1), int16(1), int32(3), int8(10)\n",
      "memory usage: 2.1 GB\n"
     ]
    }
   ],
   "source": [
    "data_filtered1.info()"
   ]
  },
  {
   "cell_type": "code",
   "execution_count": 0,
   "metadata": {
    "colab": {},
    "colab_type": "code",
    "id": "H82XxCKMnmng"
   },
   "outputs": [],
   "source": [
    "data1 = data_filtered1"
   ]
  },
  {
   "cell_type": "code",
   "execution_count": 0,
   "metadata": {
    "colab": {},
    "colab_type": "code",
    "id": "sPl7X10Powxr"
   },
   "outputs": [],
   "source": [
    "data1.to_pickle('./data1.pkl')"
   ]
  },
  {
   "cell_type": "code",
   "execution_count": 0,
   "metadata": {
    "colab": {},
    "colab_type": "code",
    "id": "hB4T0Qt0pllG"
   },
   "outputs": [],
   "source": [
    "from sklearn.model_selection import train_test_split"
   ]
  },
  {
   "cell_type": "code",
   "execution_count": 0,
   "metadata": {
    "colab": {},
    "colab_type": "code",
    "id": "IgkFpYKiqn7I"
   },
   "outputs": [],
   "source": [
    "data2 = data1"
   ]
  },
  {
   "cell_type": "code",
   "execution_count": 0,
   "metadata": {
    "colab": {},
    "colab_type": "code",
    "id": "IUqXC-XQVDtw"
   },
   "outputs": [],
   "source": [
    "data2.to_pickle('./data2.pkl')"
   ]
  },
  {
   "cell_type": "code",
   "execution_count": 0,
   "metadata": {
    "colab": {},
    "colab_type": "code",
    "id": "jFk85BVjAeZ2"
   },
   "outputs": [],
   "source": [
    "data2 = pd.read_pickle('/content/drive/My Drive/PHD/data2.pkl')"
   ]
  },
  {
   "cell_type": "code",
   "execution_count": 0,
   "metadata": {
    "colab": {},
    "colab_type": "code",
    "id": "3EuxWkxTBTP3"
   },
   "outputs": [],
   "source": [
    "X, y = data2.loc[:,data2.columns!='unit_sales'].values, data2.loc[:,'unit_sales'].values"
   ]
  },
  {
   "cell_type": "markdown",
   "metadata": {
    "colab_type": "text",
    "id": "zPUyYX-iwy4g"
   },
   "source": [
    "Train-Test Split:"
   ]
  },
  {
   "cell_type": "code",
   "execution_count": 0,
   "metadata": {
    "colab": {},
    "colab_type": "code",
    "id": "i9bvGBiACos3"
   },
   "outputs": [],
   "source": [
    "X_train, X_val, y_train, y_val = train_test_split(X, y, test_size=0.3, random_state=123)"
   ]
  },
  {
   "cell_type": "markdown",
   "metadata": {
    "colab_type": "text",
    "id": "P-Q74G9Jw3qj"
   },
   "source": [
    "# Model Building:"
   ]
  },
  {
   "cell_type": "markdown",
   "metadata": {
    "colab_type": "text",
    "id": "WbzgDixVw-zr"
   },
   "source": [
    "**Linear Regression:**"
   ]
  },
  {
   "cell_type": "code",
   "execution_count": 0,
   "metadata": {
    "colab": {},
    "colab_type": "code",
    "id": "ufZAiYSWuuzS"
   },
   "outputs": [],
   "source": [
    "from sklearn.linear_model import LinearRegression"
   ]
  },
  {
   "cell_type": "code",
   "execution_count": 0,
   "metadata": {
    "colab": {
     "base_uri": "https://localhost:8080/",
     "height": 34
    },
    "colab_type": "code",
    "id": "P1stac_xvn6F",
    "outputId": "6db9f1af-2058-44f9-a17c-37977593a590"
   },
   "outputs": [
    {
     "data": {
      "text/plain": [
       "LinearRegression(copy_X=True, fit_intercept=True, n_jobs=None, normalize=False)"
      ]
     },
     "execution_count": 125,
     "metadata": {
      "tags": []
     },
     "output_type": "execute_result"
    }
   ],
   "source": [
    "lr_model = LinearRegression()\n",
    "lr_model.fit(X_train, y_train)"
   ]
  },
  {
   "cell_type": "code",
   "execution_count": 0,
   "metadata": {
    "colab": {},
    "colab_type": "code",
    "id": "HAYoEmIgv4Oz"
   },
   "outputs": [],
   "source": [
    "y_val_pred = lr_model.predict(X_val)"
   ]
  },
  {
   "cell_type": "code",
   "execution_count": 0,
   "metadata": {
    "colab": {},
    "colab_type": "code",
    "id": "scnHqGE1wH92"
   },
   "outputs": [],
   "source": [
    "y_trainpred = lr_model.predict(X_train)"
   ]
  },
  {
   "cell_type": "code",
   "execution_count": 0,
   "metadata": {
    "colab": {},
    "colab_type": "code",
    "id": "uwgwbfG65IOB"
   },
   "outputs": [],
   "source": [
    "from sklearn.metrics import mean_absolute_error"
   ]
  },
  {
   "cell_type": "code",
   "execution_count": 0,
   "metadata": {
    "colab": {
     "base_uri": "https://localhost:8080/",
     "height": 34
    },
    "colab_type": "code",
    "id": "ALr38Fhe5LfP",
    "outputId": "36ab0c33-4993-4f30-93b7-144529a3bef4"
   },
   "outputs": [
    {
     "data": {
      "text/plain": [
       "0.6690341099943388"
      ]
     },
     "execution_count": 129,
     "metadata": {
      "tags": []
     },
     "output_type": "execute_result"
    }
   ],
   "source": [
    "mean_absolute_error(y_train,y_trainpred)"
   ]
  },
  {
   "cell_type": "code",
   "execution_count": 0,
   "metadata": {
    "colab": {
     "base_uri": "https://localhost:8080/",
     "height": 34
    },
    "colab_type": "code",
    "id": "O1HbZgKi5TtA",
    "outputId": "fc830903-3a7f-43cf-8fe4-70536b9c1137"
   },
   "outputs": [
    {
     "data": {
      "text/plain": [
       "0.6690853781193292"
      ]
     },
     "execution_count": 130,
     "metadata": {
      "tags": []
     },
     "output_type": "execute_result"
    }
   ],
   "source": [
    "mean_absolute_error(y_val,y_val_pred)"
   ]
  },
  {
   "cell_type": "markdown",
   "metadata": {
    "colab_type": "text",
    "id": "RW2kphU_xVnf"
   },
   "source": [
    "Test Data(Unseen Data) Prediction:"
   ]
  },
  {
   "cell_type": "code",
   "execution_count": 0,
   "metadata": {
    "colab": {},
    "colab_type": "code",
    "id": "zJNhgFb5wby3"
   },
   "outputs": [],
   "source": [
    "test = pd.read_csv('/content/drive/My Drive/PHD/test.csv')   # Reading Test Data"
   ]
  },
  {
   "cell_type": "code",
   "execution_count": 0,
   "metadata": {
    "colab": {
     "base_uri": "https://localhost:8080/",
     "height": 204
    },
    "colab_type": "code",
    "id": "4HobTtFizK4X",
    "outputId": "646c6439-dec4-4505-da30-c71a1e6572fc"
   },
   "outputs": [
    {
     "data": {
      "text/html": [
       "<div>\n",
       "<style scoped>\n",
       "    .dataframe tbody tr th:only-of-type {\n",
       "        vertical-align: middle;\n",
       "    }\n",
       "\n",
       "    .dataframe tbody tr th {\n",
       "        vertical-align: top;\n",
       "    }\n",
       "\n",
       "    .dataframe thead th {\n",
       "        text-align: right;\n",
       "    }\n",
       "</style>\n",
       "<table border=\"1\" class=\"dataframe\">\n",
       "  <thead>\n",
       "    <tr style=\"text-align: right;\">\n",
       "      <th></th>\n",
       "      <th>id</th>\n",
       "      <th>date</th>\n",
       "      <th>locationId</th>\n",
       "      <th>item_id</th>\n",
       "      <th>onpromotion</th>\n",
       "    </tr>\n",
       "  </thead>\n",
       "  <tbody>\n",
       "    <tr>\n",
       "      <th>1482290</th>\n",
       "      <td>1482290</td>\n",
       "      <td>2019-01-15</td>\n",
       "      <td>location_54</td>\n",
       "      <td>item_2048381</td>\n",
       "      <td>False</td>\n",
       "    </tr>\n",
       "    <tr>\n",
       "      <th>1482291</th>\n",
       "      <td>1482291</td>\n",
       "      <td>2019-01-15</td>\n",
       "      <td>location_54</td>\n",
       "      <td>item_2048421</td>\n",
       "      <td>False</td>\n",
       "    </tr>\n",
       "    <tr>\n",
       "      <th>1482292</th>\n",
       "      <td>1482292</td>\n",
       "      <td>2019-01-15</td>\n",
       "      <td>location_54</td>\n",
       "      <td>item_2048471</td>\n",
       "      <td>False</td>\n",
       "    </tr>\n",
       "    <tr>\n",
       "      <th>1482293</th>\n",
       "      <td>1482293</td>\n",
       "      <td>2019-01-15</td>\n",
       "      <td>location_54</td>\n",
       "      <td>item_2048515</td>\n",
       "      <td>False</td>\n",
       "    </tr>\n",
       "    <tr>\n",
       "      <th>1482294</th>\n",
       "      <td>1482294</td>\n",
       "      <td>2019-01-15</td>\n",
       "      <td>location_54</td>\n",
       "      <td>item_2048674</td>\n",
       "      <td>False</td>\n",
       "    </tr>\n",
       "  </tbody>\n",
       "</table>\n",
       "</div>"
      ],
      "text/plain": [
       "              id        date   locationId       item_id  onpromotion\n",
       "1482290  1482290  2019-01-15  location_54  item_2048381        False\n",
       "1482291  1482291  2019-01-15  location_54  item_2048421        False\n",
       "1482292  1482292  2019-01-15  location_54  item_2048471        False\n",
       "1482293  1482293  2019-01-15  location_54  item_2048515        False\n",
       "1482294  1482294  2019-01-15  location_54  item_2048674        False"
      ]
     },
     "execution_count": 133,
     "metadata": {
      "tags": []
     },
     "output_type": "execute_result"
    }
   ],
   "source": [
    "test.tail()"
   ]
  },
  {
   "cell_type": "code",
   "execution_count": 0,
   "metadata": {
    "colab": {
     "base_uri": "https://localhost:8080/",
     "height": 34
    },
    "colab_type": "code",
    "id": "fbah1d-3zOq5",
    "outputId": "94f85b4a-5d52-470c-f2c4-4d63e5ece403"
   },
   "outputs": [
    {
     "data": {
      "text/plain": [
       "(1482295, 5)"
      ]
     },
     "execution_count": 134,
     "metadata": {
      "tags": []
     },
     "output_type": "execute_result"
    }
   ],
   "source": [
    "test.shape"
   ]
  },
  {
   "cell_type": "code",
   "execution_count": 0,
   "metadata": {
    "colab": {},
    "colab_type": "code",
    "id": "7_8u9n2Uzdti"
   },
   "outputs": [],
   "source": [
    "item_data = pd.read_csv(\"/content/drive/My Drive/PHD/item_details.csv\")\n",
    "location_data = pd.read_csv('/content/drive/My Drive/PHD/location_details.csv')"
   ]
  },
  {
   "cell_type": "code",
   "execution_count": 0,
   "metadata": {
    "colab": {},
    "colab_type": "code",
    "id": "iNsHue1tzSkf"
   },
   "outputs": [],
   "source": [
    "test = pd.merge(test,location_data,left_on=\"locationId\",right_on=\"location_id\") # Merging Test data with location_data"
   ]
  },
  {
   "cell_type": "code",
   "execution_count": 0,
   "metadata": {
    "colab": {},
    "colab_type": "code",
    "id": "hhsHtWPb0XPi"
   },
   "outputs": [],
   "source": [
    "del test['location_id']"
   ]
  },
  {
   "cell_type": "code",
   "execution_count": 0,
   "metadata": {
    "colab": {
     "base_uri": "https://localhost:8080/",
     "height": 204
    },
    "colab_type": "code",
    "id": "zeHQCS1p0cZ8",
    "outputId": "06d104f7-b045-4c89-a8b6-ee62d25433e0"
   },
   "outputs": [
    {
     "data": {
      "text/html": [
       "<div>\n",
       "<style scoped>\n",
       "    .dataframe tbody tr th:only-of-type {\n",
       "        vertical-align: middle;\n",
       "    }\n",
       "\n",
       "    .dataframe tbody tr th {\n",
       "        vertical-align: top;\n",
       "    }\n",
       "\n",
       "    .dataframe thead th {\n",
       "        text-align: right;\n",
       "    }\n",
       "</style>\n",
       "<table border=\"1\" class=\"dataframe\">\n",
       "  <thead>\n",
       "    <tr style=\"text-align: right;\">\n",
       "      <th></th>\n",
       "      <th>id</th>\n",
       "      <th>date</th>\n",
       "      <th>locationId</th>\n",
       "      <th>item_id</th>\n",
       "      <th>onpromotion</th>\n",
       "      <th>city</th>\n",
       "      <th>state</th>\n",
       "      <th>type</th>\n",
       "      <th>cluster</th>\n",
       "    </tr>\n",
       "  </thead>\n",
       "  <tbody>\n",
       "    <tr>\n",
       "      <th>0</th>\n",
       "      <td>0</td>\n",
       "      <td>2019-01-01</td>\n",
       "      <td>location_25</td>\n",
       "      <td>item_99197</td>\n",
       "      <td>False</td>\n",
       "      <td>Kanpur</td>\n",
       "      <td>Uttar Pradesh</td>\n",
       "      <td>D</td>\n",
       "      <td>1</td>\n",
       "    </tr>\n",
       "    <tr>\n",
       "      <th>1</th>\n",
       "      <td>1</td>\n",
       "      <td>2019-01-01</td>\n",
       "      <td>location_25</td>\n",
       "      <td>item_103665</td>\n",
       "      <td>False</td>\n",
       "      <td>Kanpur</td>\n",
       "      <td>Uttar Pradesh</td>\n",
       "      <td>D</td>\n",
       "      <td>1</td>\n",
       "    </tr>\n",
       "    <tr>\n",
       "      <th>2</th>\n",
       "      <td>2</td>\n",
       "      <td>2019-01-01</td>\n",
       "      <td>location_25</td>\n",
       "      <td>item_105574</td>\n",
       "      <td>False</td>\n",
       "      <td>Kanpur</td>\n",
       "      <td>Uttar Pradesh</td>\n",
       "      <td>D</td>\n",
       "      <td>1</td>\n",
       "    </tr>\n",
       "    <tr>\n",
       "      <th>3</th>\n",
       "      <td>3</td>\n",
       "      <td>2019-01-01</td>\n",
       "      <td>location_25</td>\n",
       "      <td>item_105857</td>\n",
       "      <td>False</td>\n",
       "      <td>Kanpur</td>\n",
       "      <td>Uttar Pradesh</td>\n",
       "      <td>D</td>\n",
       "      <td>1</td>\n",
       "    </tr>\n",
       "    <tr>\n",
       "      <th>4</th>\n",
       "      <td>4</td>\n",
       "      <td>2019-01-01</td>\n",
       "      <td>location_25</td>\n",
       "      <td>item_106716</td>\n",
       "      <td>False</td>\n",
       "      <td>Kanpur</td>\n",
       "      <td>Uttar Pradesh</td>\n",
       "      <td>D</td>\n",
       "      <td>1</td>\n",
       "    </tr>\n",
       "  </tbody>\n",
       "</table>\n",
       "</div>"
      ],
      "text/plain": [
       "   id        date   locationId  ...          state  type cluster\n",
       "0   0  2019-01-01  location_25  ...  Uttar Pradesh     D       1\n",
       "1   1  2019-01-01  location_25  ...  Uttar Pradesh     D       1\n",
       "2   2  2019-01-01  location_25  ...  Uttar Pradesh     D       1\n",
       "3   3  2019-01-01  location_25  ...  Uttar Pradesh     D       1\n",
       "4   4  2019-01-01  location_25  ...  Uttar Pradesh     D       1\n",
       "\n",
       "[5 rows x 9 columns]"
      ]
     },
     "execution_count": 139,
     "metadata": {
      "tags": []
     },
     "output_type": "execute_result"
    }
   ],
   "source": [
    "test.head()"
   ]
  },
  {
   "cell_type": "code",
   "execution_count": 0,
   "metadata": {
    "colab": {},
    "colab_type": "code",
    "id": "XdttX2se0guE"
   },
   "outputs": [],
   "source": [
    "test = pd.merge(test,item_data,left_on=\"item_id\",right_on=\"item_id\") # Merging with item_data"
   ]
  },
  {
   "cell_type": "code",
   "execution_count": 0,
   "metadata": {
    "colab": {
     "base_uri": "https://localhost:8080/",
     "height": 309
    },
    "colab_type": "code",
    "id": "ie9dzeJH8jrD",
    "outputId": "3cb85ba0-9ed6-40a8-b892-b2f7e8f339aa"
   },
   "outputs": [
    {
     "data": {
      "text/html": [
       "<div>\n",
       "<style scoped>\n",
       "    .dataframe tbody tr th:only-of-type {\n",
       "        vertical-align: middle;\n",
       "    }\n",
       "\n",
       "    .dataframe tbody tr th {\n",
       "        vertical-align: top;\n",
       "    }\n",
       "\n",
       "    .dataframe thead th {\n",
       "        text-align: right;\n",
       "    }\n",
       "</style>\n",
       "<table border=\"1\" class=\"dataframe\">\n",
       "  <thead>\n",
       "    <tr style=\"text-align: right;\">\n",
       "      <th></th>\n",
       "      <th>id</th>\n",
       "      <th>date</th>\n",
       "      <th>locationId</th>\n",
       "      <th>item_id</th>\n",
       "      <th>onpromotion</th>\n",
       "      <th>city</th>\n",
       "      <th>state</th>\n",
       "      <th>type</th>\n",
       "      <th>cluster</th>\n",
       "      <th>category_of_item</th>\n",
       "      <th>class</th>\n",
       "      <th>perishable</th>\n",
       "    </tr>\n",
       "  </thead>\n",
       "  <tbody>\n",
       "    <tr>\n",
       "      <th>0</th>\n",
       "      <td>0</td>\n",
       "      <td>2019-01-01</td>\n",
       "      <td>location_25</td>\n",
       "      <td>item_99197</td>\n",
       "      <td>False</td>\n",
       "      <td>Kanpur</td>\n",
       "      <td>Uttar Pradesh</td>\n",
       "      <td>D</td>\n",
       "      <td>1</td>\n",
       "      <td>grocery_items</td>\n",
       "      <td>class_1067</td>\n",
       "      <td>0</td>\n",
       "    </tr>\n",
       "    <tr>\n",
       "      <th>1</th>\n",
       "      <td>164818</td>\n",
       "      <td>2019-01-03</td>\n",
       "      <td>location_25</td>\n",
       "      <td>item_99197</td>\n",
       "      <td>False</td>\n",
       "      <td>Kanpur</td>\n",
       "      <td>Uttar Pradesh</td>\n",
       "      <td>D</td>\n",
       "      <td>1</td>\n",
       "      <td>grocery_items</td>\n",
       "      <td>class_1067</td>\n",
       "      <td>0</td>\n",
       "    </tr>\n",
       "    <tr>\n",
       "      <th>2</th>\n",
       "      <td>273422</td>\n",
       "      <td>2019-01-04</td>\n",
       "      <td>location_25</td>\n",
       "      <td>item_99197</td>\n",
       "      <td>False</td>\n",
       "      <td>Kanpur</td>\n",
       "      <td>Uttar Pradesh</td>\n",
       "      <td>D</td>\n",
       "      <td>1</td>\n",
       "      <td>grocery_items</td>\n",
       "      <td>class_1067</td>\n",
       "      <td>0</td>\n",
       "    </tr>\n",
       "    <tr>\n",
       "      <th>3</th>\n",
       "      <td>378240</td>\n",
       "      <td>2019-01-05</td>\n",
       "      <td>location_25</td>\n",
       "      <td>item_99197</td>\n",
       "      <td>False</td>\n",
       "      <td>Kanpur</td>\n",
       "      <td>Uttar Pradesh</td>\n",
       "      <td>D</td>\n",
       "      <td>1</td>\n",
       "      <td>grocery_items</td>\n",
       "      <td>class_1067</td>\n",
       "      <td>0</td>\n",
       "    </tr>\n",
       "    <tr>\n",
       "      <th>4</th>\n",
       "      <td>587109</td>\n",
       "      <td>2019-01-07</td>\n",
       "      <td>location_25</td>\n",
       "      <td>item_99197</td>\n",
       "      <td>False</td>\n",
       "      <td>Kanpur</td>\n",
       "      <td>Uttar Pradesh</td>\n",
       "      <td>D</td>\n",
       "      <td>1</td>\n",
       "      <td>grocery_items</td>\n",
       "      <td>class_1067</td>\n",
       "      <td>0</td>\n",
       "    </tr>\n",
       "  </tbody>\n",
       "</table>\n",
       "</div>"
      ],
      "text/plain": [
       "       id        date   locationId  ... category_of_item       class perishable\n",
       "0       0  2019-01-01  location_25  ...    grocery_items  class_1067          0\n",
       "1  164818  2019-01-03  location_25  ...    grocery_items  class_1067          0\n",
       "2  273422  2019-01-04  location_25  ...    grocery_items  class_1067          0\n",
       "3  378240  2019-01-05  location_25  ...    grocery_items  class_1067          0\n",
       "4  587109  2019-01-07  location_25  ...    grocery_items  class_1067          0\n",
       "\n",
       "[5 rows x 12 columns]"
      ]
     },
     "execution_count": 141,
     "metadata": {
      "tags": []
     },
     "output_type": "execute_result"
    }
   ],
   "source": [
    "test.head()"
   ]
  },
  {
   "cell_type": "code",
   "execution_count": 0,
   "metadata": {
    "colab": {},
    "colab_type": "code",
    "id": "fc-TWk4_84RV"
   },
   "outputs": [],
   "source": [
    "test = test.sort_values(by='id')  # Sorting the data by id."
   ]
  },
  {
   "cell_type": "code",
   "execution_count": 0,
   "metadata": {
    "colab": {
     "base_uri": "https://localhost:8080/",
     "height": 309
    },
    "colab_type": "code",
    "id": "cHg2nITw87Zk",
    "outputId": "744d608d-209a-4f29-df48-5356a5c4dc90"
   },
   "outputs": [
    {
     "data": {
      "text/html": [
       "<div>\n",
       "<style scoped>\n",
       "    .dataframe tbody tr th:only-of-type {\n",
       "        vertical-align: middle;\n",
       "    }\n",
       "\n",
       "    .dataframe tbody tr th {\n",
       "        vertical-align: top;\n",
       "    }\n",
       "\n",
       "    .dataframe thead th {\n",
       "        text-align: right;\n",
       "    }\n",
       "</style>\n",
       "<table border=\"1\" class=\"dataframe\">\n",
       "  <thead>\n",
       "    <tr style=\"text-align: right;\">\n",
       "      <th></th>\n",
       "      <th>id</th>\n",
       "      <th>date</th>\n",
       "      <th>locationId</th>\n",
       "      <th>item_id</th>\n",
       "      <th>onpromotion</th>\n",
       "      <th>city</th>\n",
       "      <th>state</th>\n",
       "      <th>type</th>\n",
       "      <th>cluster</th>\n",
       "      <th>category_of_item</th>\n",
       "      <th>class</th>\n",
       "      <th>perishable</th>\n",
       "    </tr>\n",
       "  </thead>\n",
       "  <tbody>\n",
       "    <tr>\n",
       "      <th>0</th>\n",
       "      <td>0</td>\n",
       "      <td>2019-01-01</td>\n",
       "      <td>location_25</td>\n",
       "      <td>item_99197</td>\n",
       "      <td>False</td>\n",
       "      <td>Kanpur</td>\n",
       "      <td>Uttar Pradesh</td>\n",
       "      <td>D</td>\n",
       "      <td>1</td>\n",
       "      <td>grocery_items</td>\n",
       "      <td>class_1067</td>\n",
       "      <td>0</td>\n",
       "    </tr>\n",
       "    <tr>\n",
       "      <th>173</th>\n",
       "      <td>1</td>\n",
       "      <td>2019-01-01</td>\n",
       "      <td>location_25</td>\n",
       "      <td>item_103665</td>\n",
       "      <td>False</td>\n",
       "      <td>Kanpur</td>\n",
       "      <td>Uttar Pradesh</td>\n",
       "      <td>D</td>\n",
       "      <td>1</td>\n",
       "      <td>baked_items / bread_based</td>\n",
       "      <td>class_2712</td>\n",
       "      <td>1</td>\n",
       "    </tr>\n",
       "    <tr>\n",
       "      <th>637</th>\n",
       "      <td>2</td>\n",
       "      <td>2019-01-01</td>\n",
       "      <td>location_25</td>\n",
       "      <td>item_105574</td>\n",
       "      <td>False</td>\n",
       "      <td>Kanpur</td>\n",
       "      <td>Uttar Pradesh</td>\n",
       "      <td>D</td>\n",
       "      <td>1</td>\n",
       "      <td>grocery_items</td>\n",
       "      <td>class_1045</td>\n",
       "      <td>0</td>\n",
       "    </tr>\n",
       "    <tr>\n",
       "      <th>990</th>\n",
       "      <td>3</td>\n",
       "      <td>2019-01-01</td>\n",
       "      <td>location_25</td>\n",
       "      <td>item_105857</td>\n",
       "      <td>False</td>\n",
       "      <td>Kanpur</td>\n",
       "      <td>Uttar Pradesh</td>\n",
       "      <td>D</td>\n",
       "      <td>1</td>\n",
       "      <td>grocery_items</td>\n",
       "      <td>class_1092</td>\n",
       "      <td>0</td>\n",
       "    </tr>\n",
       "    <tr>\n",
       "      <th>1518</th>\n",
       "      <td>4</td>\n",
       "      <td>2019-01-01</td>\n",
       "      <td>location_25</td>\n",
       "      <td>item_106716</td>\n",
       "      <td>False</td>\n",
       "      <td>Kanpur</td>\n",
       "      <td>Uttar Pradesh</td>\n",
       "      <td>D</td>\n",
       "      <td>1</td>\n",
       "      <td>grocery_items</td>\n",
       "      <td>class_1032</td>\n",
       "      <td>0</td>\n",
       "    </tr>\n",
       "  </tbody>\n",
       "</table>\n",
       "</div>"
      ],
      "text/plain": [
       "      id        date  ...       class perishable\n",
       "0      0  2019-01-01  ...  class_1067          0\n",
       "173    1  2019-01-01  ...  class_2712          1\n",
       "637    2  2019-01-01  ...  class_1045          0\n",
       "990    3  2019-01-01  ...  class_1092          0\n",
       "1518   4  2019-01-01  ...  class_1032          0\n",
       "\n",
       "[5 rows x 12 columns]"
      ]
     },
     "execution_count": 143,
     "metadata": {
      "tags": []
     },
     "output_type": "execute_result"
    }
   ],
   "source": [
    "test.head()"
   ]
  },
  {
   "cell_type": "markdown",
   "metadata": {
    "colab_type": "text",
    "id": "gumvquZCx8q-"
   },
   "source": [
    "Creating new features as in train data"
   ]
  },
  {
   "cell_type": "code",
   "execution_count": 0,
   "metadata": {
    "colab": {},
    "colab_type": "code",
    "id": "54gYNQCW0-Uq"
   },
   "outputs": [],
   "source": [
    "test['date'] = pd.to_datetime(test['date'])\n",
    "test['year'] = test['date'].dt.year\n",
    "test['mon'] = test['date'].dt.month\n",
    "test['day'] = test['date'].dt.day\n",
    "test['date'] = test['date'].dt.dayofweek"
   ]
  },
  {
   "cell_type": "code",
   "execution_count": 0,
   "metadata": {
    "colab": {
     "base_uri": "https://localhost:8080/",
     "height": 289
    },
    "colab_type": "code",
    "id": "xTP63gfh4OVz",
    "outputId": "e8eab619-803f-4d71-c9e2-a7ab54b81918"
   },
   "outputs": [
    {
     "data": {
      "text/plain": [
       "id                   int64\n",
       "date                 int64\n",
       "locationId          object\n",
       "item_id             object\n",
       "onpromotion           bool\n",
       "city                object\n",
       "state               object\n",
       "type                object\n",
       "cluster              int64\n",
       "category_of_item    object\n",
       "class               object\n",
       "perishable           int64\n",
       "year                 int64\n",
       "mon                  int64\n",
       "day                  int64\n",
       "dtype: object"
      ]
     },
     "execution_count": 146,
     "metadata": {
      "tags": []
     },
     "output_type": "execute_result"
    }
   ],
   "source": [
    "test.dtypes"
   ]
  },
  {
   "cell_type": "code",
   "execution_count": 0,
   "metadata": {
    "colab": {},
    "colab_type": "code",
    "id": "rd9oPmptGtOW"
   },
   "outputs": [],
   "source": [
    "test['onpromotion'] = test['onpromotion'].astype('object')"
   ]
  },
  {
   "cell_type": "code",
   "execution_count": 0,
   "metadata": {
    "colab": {
     "base_uri": "https://localhost:8080/",
     "height": 34
    },
    "colab_type": "code",
    "id": "XX2jj6yp13au",
    "outputId": "b0f84472-d265-4963-9ccb-84fe4cd8d722"
   },
   "outputs": [
    {
     "data": {
      "text/plain": [
       "(1482295, 15)"
      ]
     },
     "execution_count": 148,
     "metadata": {
      "tags": []
     },
     "output_type": "execute_result"
    }
   ],
   "source": [
    "test.shape"
   ]
  },
  {
   "cell_type": "code",
   "execution_count": 0,
   "metadata": {
    "colab": {
     "base_uri": "https://localhost:8080/",
     "height": 153
    },
    "colab_type": "code",
    "id": "-bD2842C2w_M",
    "outputId": "104eddb8-5188-4782-beb2-ef9254831dde"
   },
   "outputs": [
    {
     "name": "stdout",
     "output_type": "stream",
     "text": [
      "locationId\n",
      "item_id\n",
      "onpromotion\n",
      "city\n",
      "state\n",
      "type\n",
      "category_of_item\n",
      "class\n"
     ]
    }
   ],
   "source": [
    "test = df_lbl_enc(test)  # Label encoding categorical variables in test data."
   ]
  },
  {
   "cell_type": "code",
   "execution_count": 0,
   "metadata": {
    "colab": {
     "base_uri": "https://localhost:8080/",
     "height": 357
    },
    "colab_type": "code",
    "id": "1jE7CSJq6vgb",
    "outputId": "70d2d420-47a0-4ac9-86e6-ae06efe184e0"
   },
   "outputs": [
    {
     "name": "stdout",
     "output_type": "stream",
     "text": [
      "<class 'pandas.core.frame.DataFrame'>\n",
      "Int64Index: 1482295 entries, 0 to 1471564\n",
      "Data columns (total 15 columns):\n",
      "id                  1482295 non-null int64\n",
      "date                1482295 non-null int64\n",
      "locationId          1482295 non-null int64\n",
      "item_id             1482295 non-null int64\n",
      "onpromotion         1482295 non-null int64\n",
      "city                1482295 non-null int64\n",
      "state               1482295 non-null int64\n",
      "type                1482295 non-null int64\n",
      "cluster             1482295 non-null int64\n",
      "category_of_item    1482295 non-null int64\n",
      "class               1482295 non-null int64\n",
      "perishable          1482295 non-null int64\n",
      "year                1482295 non-null int64\n",
      "mon                 1482295 non-null int64\n",
      "day                 1482295 non-null int64\n",
      "dtypes: int64(15)\n",
      "memory usage: 180.9 MB\n"
     ]
    }
   ],
   "source": [
    "test.info()"
   ]
  },
  {
   "cell_type": "code",
   "execution_count": 0,
   "metadata": {
    "colab": {},
    "colab_type": "code",
    "id": "OmUH-P056yF4"
   },
   "outputs": [],
   "source": [
    "test['item_id'] = test['item_id'].astype('int32')\n",
    "test['locationId'] = test['locationId'].astype('int16')\n",
    "test['date'] = test['date'].astype('int8')\n",
    "test['day'] = test['day'].astype('int8')\n",
    "test['mon'] = test['mon'].astype('int8')\n",
    "test['city'] = test['city'].astype('int8')\n",
    "test['state'] = test['state'].astype('int8')\n",
    "test['class'] = test['class'].astype('int32')\n",
    "test['year'] = test['year'].astype('int32')\n",
    "test['onpromotion'] = test['onpromotion'].astype('int8')\n",
    "test['type'] = test['type'].astype('int8')"
   ]
  },
  {
   "cell_type": "code",
   "execution_count": 0,
   "metadata": {
    "colab": {},
    "colab_type": "code",
    "id": "jjtT5Bx17R91"
   },
   "outputs": [],
   "source": [
    "test = test.sort_values(by='id')"
   ]
  },
  {
   "cell_type": "code",
   "execution_count": 0,
   "metadata": {
    "colab": {
     "base_uri": "https://localhost:8080/",
     "height": 224
    },
    "colab_type": "code",
    "id": "ahFLH4lL751D",
    "outputId": "7082fd4b-05ef-4899-d452-4240faed6871"
   },
   "outputs": [
    {
     "data": {
      "text/html": [
       "<div>\n",
       "<style scoped>\n",
       "    .dataframe tbody tr th:only-of-type {\n",
       "        vertical-align: middle;\n",
       "    }\n",
       "\n",
       "    .dataframe tbody tr th {\n",
       "        vertical-align: top;\n",
       "    }\n",
       "\n",
       "    .dataframe thead th {\n",
       "        text-align: right;\n",
       "    }\n",
       "</style>\n",
       "<table border=\"1\" class=\"dataframe\">\n",
       "  <thead>\n",
       "    <tr style=\"text-align: right;\">\n",
       "      <th></th>\n",
       "      <th>id</th>\n",
       "      <th>date</th>\n",
       "      <th>locationId</th>\n",
       "      <th>item_id</th>\n",
       "      <th>onpromotion</th>\n",
       "      <th>city</th>\n",
       "      <th>state</th>\n",
       "      <th>type</th>\n",
       "      <th>cluster</th>\n",
       "      <th>category_of_item</th>\n",
       "      <th>class</th>\n",
       "      <th>perishable</th>\n",
       "      <th>year</th>\n",
       "      <th>mon</th>\n",
       "      <th>day</th>\n",
       "    </tr>\n",
       "  </thead>\n",
       "  <tbody>\n",
       "    <tr>\n",
       "      <th>0</th>\n",
       "      <td>0</td>\n",
       "      <td>1</td>\n",
       "      <td>17</td>\n",
       "      <td>3818</td>\n",
       "      <td>0</td>\n",
       "      <td>10</td>\n",
       "      <td>11</td>\n",
       "      <td>3</td>\n",
       "      <td>1</td>\n",
       "      <td>8</td>\n",
       "      <td>42</td>\n",
       "      <td>0</td>\n",
       "      <td>2019</td>\n",
       "      <td>1</td>\n",
       "      <td>1</td>\n",
       "    </tr>\n",
       "    <tr>\n",
       "      <th>173</th>\n",
       "      <td>1</td>\n",
       "      <td>1</td>\n",
       "      <td>17</td>\n",
       "      <td>45</td>\n",
       "      <td>0</td>\n",
       "      <td>10</td>\n",
       "      <td>11</td>\n",
       "      <td>3</td>\n",
       "      <td>1</td>\n",
       "      <td>0</td>\n",
       "      <td>179</td>\n",
       "      <td>1</td>\n",
       "      <td>2019</td>\n",
       "      <td>1</td>\n",
       "      <td>1</td>\n",
       "    </tr>\n",
       "    <tr>\n",
       "      <th>637</th>\n",
       "      <td>2</td>\n",
       "      <td>1</td>\n",
       "      <td>17</td>\n",
       "      <td>119</td>\n",
       "      <td>0</td>\n",
       "      <td>10</td>\n",
       "      <td>11</td>\n",
       "      <td>3</td>\n",
       "      <td>1</td>\n",
       "      <td>8</td>\n",
       "      <td>30</td>\n",
       "      <td>0</td>\n",
       "      <td>2019</td>\n",
       "      <td>1</td>\n",
       "      <td>1</td>\n",
       "    </tr>\n",
       "    <tr>\n",
       "      <th>990</th>\n",
       "      <td>3</td>\n",
       "      <td>1</td>\n",
       "      <td>17</td>\n",
       "      <td>132</td>\n",
       "      <td>0</td>\n",
       "      <td>10</td>\n",
       "      <td>11</td>\n",
       "      <td>3</td>\n",
       "      <td>1</td>\n",
       "      <td>8</td>\n",
       "      <td>60</td>\n",
       "      <td>0</td>\n",
       "      <td>2019</td>\n",
       "      <td>1</td>\n",
       "      <td>1</td>\n",
       "    </tr>\n",
       "    <tr>\n",
       "      <th>1518</th>\n",
       "      <td>4</td>\n",
       "      <td>1</td>\n",
       "      <td>17</td>\n",
       "      <td>143</td>\n",
       "      <td>0</td>\n",
       "      <td>10</td>\n",
       "      <td>11</td>\n",
       "      <td>3</td>\n",
       "      <td>1</td>\n",
       "      <td>8</td>\n",
       "      <td>19</td>\n",
       "      <td>0</td>\n",
       "      <td>2019</td>\n",
       "      <td>1</td>\n",
       "      <td>1</td>\n",
       "    </tr>\n",
       "  </tbody>\n",
       "</table>\n",
       "</div>"
      ],
      "text/plain": [
       "      id  date  locationId  item_id  ...  perishable  year  mon  day\n",
       "0      0     1          17     3818  ...           0  2019    1    1\n",
       "173    1     1          17       45  ...           1  2019    1    1\n",
       "637    2     1          17      119  ...           0  2019    1    1\n",
       "990    3     1          17      132  ...           0  2019    1    1\n",
       "1518   4     1          17      143  ...           0  2019    1    1\n",
       "\n",
       "[5 rows x 15 columns]"
      ]
     },
     "execution_count": 154,
     "metadata": {
      "tags": []
     },
     "output_type": "execute_result"
    }
   ],
   "source": [
    "test.head()"
   ]
  },
  {
   "cell_type": "code",
   "execution_count": 0,
   "metadata": {
    "colab": {},
    "colab_type": "code",
    "id": "6846XFpILtB-"
   },
   "outputs": [],
   "source": [
    "test['cluster'] = test['type'].astype('int8')\n",
    "test['category_of_item'] = test['type'].astype('int8')"
   ]
  },
  {
   "cell_type": "code",
   "execution_count": 0,
   "metadata": {
    "colab": {
     "base_uri": "https://localhost:8080/",
     "height": 357
    },
    "colab_type": "code",
    "id": "5MPvM3e08ACN",
    "outputId": "5bb74217-f2eb-4c95-962b-38178d111d58"
   },
   "outputs": [
    {
     "name": "stdout",
     "output_type": "stream",
     "text": [
      "<class 'pandas.core.frame.DataFrame'>\n",
      "Int64Index: 1482295 entries, 0 to 1471564\n",
      "Data columns (total 15 columns):\n",
      "id                  1482295 non-null int64\n",
      "date                1482295 non-null int8\n",
      "locationId          1482295 non-null int16\n",
      "item_id             1482295 non-null int32\n",
      "onpromotion         1482295 non-null int8\n",
      "city                1482295 non-null int8\n",
      "state               1482295 non-null int8\n",
      "type                1482295 non-null int8\n",
      "cluster             1482295 non-null int8\n",
      "category_of_item    1482295 non-null int8\n",
      "class               1482295 non-null int32\n",
      "perishable          1482295 non-null int64\n",
      "year                1482295 non-null int32\n",
      "mon                 1482295 non-null int8\n",
      "day                 1482295 non-null int8\n",
      "dtypes: int16(1), int32(3), int64(2), int8(9)\n",
      "memory usage: 66.4 MB\n"
     ]
    }
   ],
   "source": [
    "test.info()"
   ]
  },
  {
   "cell_type": "code",
   "execution_count": 0,
   "metadata": {
    "colab": {},
    "colab_type": "code",
    "id": "VfZfYOZ2Kv3C"
   },
   "outputs": [],
   "source": [
    "submission = test[['id']].copy()"
   ]
  },
  {
   "cell_type": "code",
   "execution_count": 0,
   "metadata": {
    "colab": {},
    "colab_type": "code",
    "id": "xx5KiAAeLIOJ"
   },
   "outputs": [],
   "source": [
    "del test['id']   #dropping id column from test data."
   ]
  },
  {
   "cell_type": "code",
   "execution_count": 0,
   "metadata": {
    "colab": {
     "base_uri": "https://localhost:8080/",
     "height": 131
    },
    "colab_type": "code",
    "id": "UlrKHDCIL-9f",
    "outputId": "5c3b7214-2a56-484d-d7cf-73f407be1e48"
   },
   "outputs": [
    {
     "data": {
      "text/html": [
       "<div>\n",
       "<style scoped>\n",
       "    .dataframe tbody tr th:only-of-type {\n",
       "        vertical-align: middle;\n",
       "    }\n",
       "\n",
       "    .dataframe tbody tr th {\n",
       "        vertical-align: top;\n",
       "    }\n",
       "\n",
       "    .dataframe thead th {\n",
       "        text-align: right;\n",
       "    }\n",
       "</style>\n",
       "<table border=\"1\" class=\"dataframe\">\n",
       "  <thead>\n",
       "    <tr style=\"text-align: right;\">\n",
       "      <th></th>\n",
       "      <th>date</th>\n",
       "      <th>locationId</th>\n",
       "      <th>item_id</th>\n",
       "      <th>onpromotion</th>\n",
       "      <th>city</th>\n",
       "      <th>state</th>\n",
       "      <th>type</th>\n",
       "      <th>cluster</th>\n",
       "      <th>category_of_item</th>\n",
       "      <th>class</th>\n",
       "      <th>perishable</th>\n",
       "      <th>year</th>\n",
       "      <th>mon</th>\n",
       "      <th>day</th>\n",
       "    </tr>\n",
       "  </thead>\n",
       "  <tbody>\n",
       "    <tr>\n",
       "      <th>0</th>\n",
       "      <td>1</td>\n",
       "      <td>17</td>\n",
       "      <td>3818</td>\n",
       "      <td>0</td>\n",
       "      <td>10</td>\n",
       "      <td>11</td>\n",
       "      <td>3</td>\n",
       "      <td>3</td>\n",
       "      <td>3</td>\n",
       "      <td>42</td>\n",
       "      <td>0</td>\n",
       "      <td>2019</td>\n",
       "      <td>1</td>\n",
       "      <td>1</td>\n",
       "    </tr>\n",
       "    <tr>\n",
       "      <th>173</th>\n",
       "      <td>1</td>\n",
       "      <td>17</td>\n",
       "      <td>45</td>\n",
       "      <td>0</td>\n",
       "      <td>10</td>\n",
       "      <td>11</td>\n",
       "      <td>3</td>\n",
       "      <td>3</td>\n",
       "      <td>3</td>\n",
       "      <td>179</td>\n",
       "      <td>1</td>\n",
       "      <td>2019</td>\n",
       "      <td>1</td>\n",
       "      <td>1</td>\n",
       "    </tr>\n",
       "  </tbody>\n",
       "</table>\n",
       "</div>"
      ],
      "text/plain": [
       "     date  locationId  item_id  onpromotion  ...  perishable  year  mon  day\n",
       "0       1          17     3818            0  ...           0  2019    1    1\n",
       "173     1          17       45            0  ...           1  2019    1    1\n",
       "\n",
       "[2 rows x 14 columns]"
      ]
     },
     "execution_count": 159,
     "metadata": {
      "tags": []
     },
     "output_type": "execute_result"
    }
   ],
   "source": [
    "test.head(2)"
   ]
  },
  {
   "cell_type": "code",
   "execution_count": 0,
   "metadata": {
    "colab": {},
    "colab_type": "code",
    "id": "bkNqYbA9UyOx"
   },
   "outputs": [],
   "source": [
    "test.to_pickle('./test.pkl')"
   ]
  },
  {
   "cell_type": "code",
   "execution_count": 0,
   "metadata": {
    "colab": {
     "base_uri": "https://localhost:8080/",
     "height": 34
    },
    "colab_type": "code",
    "id": "dS_DvGXvMst4",
    "outputId": "126a28da-6451-4464-dfbb-5efb113f00a1"
   },
   "outputs": [
    {
     "data": {
      "text/plain": [
       "(1482295, 14)"
      ]
     },
     "execution_count": 162,
     "metadata": {
      "tags": []
     },
     "output_type": "execute_result"
    }
   ],
   "source": [
    "test.shape"
   ]
  },
  {
   "cell_type": "code",
   "execution_count": 0,
   "metadata": {
    "colab": {},
    "colab_type": "code",
    "id": "Jftix3cdM5Zj"
   },
   "outputs": [],
   "source": [
    "prediction = lr_model.predict(test)   # Prediction of test data using linear regression model."
   ]
  },
  {
   "cell_type": "code",
   "execution_count": 0,
   "metadata": {
    "colab": {
     "base_uri": "https://localhost:8080/",
     "height": 51
    },
    "colab_type": "code",
    "id": "GPH_32LwNHmF",
    "outputId": "b97f57e8-17d2-4a9e-c9ff-9af2a95af5bc"
   },
   "outputs": [
    {
     "data": {
      "text/plain": [
       "array([1.55039722, 1.67617601, 1.58417355, ..., 1.75825246, 1.7582477 ,\n",
       "       1.75822869])"
      ]
     },
     "execution_count": 164,
     "metadata": {
      "tags": []
     },
     "output_type": "execute_result"
    }
   ],
   "source": [
    "prediction"
   ]
  },
  {
   "cell_type": "code",
   "execution_count": 0,
   "metadata": {
    "colab": {
     "base_uri": "https://localhost:8080/",
     "height": 34
    },
    "colab_type": "code",
    "id": "QB7PcDW8HtTC",
    "outputId": "7facc56b-69a9-4180-ac5d-3b9c7784ab9c"
   },
   "outputs": [
    {
     "data": {
      "text/plain": [
       "2.591796457657807"
      ]
     },
     "execution_count": 165,
     "metadata": {
      "tags": []
     },
     "output_type": "execute_result"
    }
   ],
   "source": [
    "prediction.max()"
   ]
  },
  {
   "cell_type": "code",
   "execution_count": 0,
   "metadata": {
    "colab": {},
    "colab_type": "code",
    "id": "1Kbmu3aGNMOc"
   },
   "outputs": [],
   "source": [
    "prediction = np.expm1(prediction)   # Inversing log transformation"
   ]
  },
  {
   "cell_type": "code",
   "execution_count": 0,
   "metadata": {
    "colab": {},
    "colab_type": "code",
    "id": "qUrEnRM7NhDP"
   },
   "outputs": [],
   "source": [
    "submission['unit_sales'] = prediction  # saving the prediction in submission dataframe."
   ]
  },
  {
   "cell_type": "code",
   "execution_count": 0,
   "metadata": {
    "colab": {
     "base_uri": "https://localhost:8080/",
     "height": 204
    },
    "colab_type": "code",
    "id": "58aiZKhcNqRX",
    "outputId": "3f99bff9-ae6c-4835-9385-1ebdf1d08b37"
   },
   "outputs": [
    {
     "data": {
      "text/html": [
       "<div>\n",
       "<style scoped>\n",
       "    .dataframe tbody tr th:only-of-type {\n",
       "        vertical-align: middle;\n",
       "    }\n",
       "\n",
       "    .dataframe tbody tr th {\n",
       "        vertical-align: top;\n",
       "    }\n",
       "\n",
       "    .dataframe thead th {\n",
       "        text-align: right;\n",
       "    }\n",
       "</style>\n",
       "<table border=\"1\" class=\"dataframe\">\n",
       "  <thead>\n",
       "    <tr style=\"text-align: right;\">\n",
       "      <th></th>\n",
       "      <th>id</th>\n",
       "      <th>unit_sales</th>\n",
       "    </tr>\n",
       "  </thead>\n",
       "  <tbody>\n",
       "    <tr>\n",
       "      <th>0</th>\n",
       "      <td>0</td>\n",
       "      <td>3.713342</td>\n",
       "    </tr>\n",
       "    <tr>\n",
       "      <th>173</th>\n",
       "      <td>1</td>\n",
       "      <td>4.345077</td>\n",
       "    </tr>\n",
       "    <tr>\n",
       "      <th>637</th>\n",
       "      <td>2</td>\n",
       "      <td>3.875261</td>\n",
       "    </tr>\n",
       "    <tr>\n",
       "      <th>990</th>\n",
       "      <td>3</td>\n",
       "      <td>3.681517</td>\n",
       "    </tr>\n",
       "    <tr>\n",
       "      <th>1518</th>\n",
       "      <td>4</td>\n",
       "      <td>3.947615</td>\n",
       "    </tr>\n",
       "  </tbody>\n",
       "</table>\n",
       "</div>"
      ],
      "text/plain": [
       "      id  unit_sales\n",
       "0      0    3.713342\n",
       "173    1    4.345077\n",
       "637    2    3.875261\n",
       "990    3    3.681517\n",
       "1518   4    3.947615"
      ]
     },
     "execution_count": 168,
     "metadata": {
      "tags": []
     },
     "output_type": "execute_result"
    }
   ],
   "source": [
    "submission.head()"
   ]
  },
  {
   "cell_type": "code",
   "execution_count": 0,
   "metadata": {
    "colab": {},
    "colab_type": "code",
    "id": "2NZTl7rLNsop"
   },
   "outputs": [],
   "source": [
    "submission.to_csv('submission_testwithpromo.csv', index=False, header=True)"
   ]
  },
  {
   "cell_type": "markdown",
   "metadata": {
    "colab_type": "text",
    "id": "TcapiwqeXKCD"
   },
   "source": [
    "# Model 2:"
   ]
  },
  {
   "cell_type": "markdown",
   "metadata": {
    "colab_type": "text",
    "id": "Fd6CyjKG0z6l"
   },
   "source": [
    "**Decision Tree:**"
   ]
  },
  {
   "cell_type": "code",
   "execution_count": 0,
   "metadata": {
    "colab": {},
    "colab_type": "code",
    "id": "2umZkspfIKFi"
   },
   "outputs": [],
   "source": [
    "from sklearn.tree import DecisionTreeRegressor"
   ]
  },
  {
   "cell_type": "code",
   "execution_count": 0,
   "metadata": {
    "colab": {},
    "colab_type": "code",
    "id": "FoMP81d8IU0O"
   },
   "outputs": [],
   "source": [
    "dt = DecisionTreeRegressor(max_depth=6)"
   ]
  },
  {
   "cell_type": "code",
   "execution_count": 0,
   "metadata": {
    "colab": {
     "base_uri": "https://localhost:8080/",
     "height": 119
    },
    "colab_type": "code",
    "id": "0gxQOL2pIUuW",
    "outputId": "a178a289-23fa-4de8-ea7d-38dbf2a920e5"
   },
   "outputs": [
    {
     "data": {
      "text/plain": [
       "DecisionTreeRegressor(ccp_alpha=0.0, criterion='mse', max_depth=6,\n",
       "                      max_features=None, max_leaf_nodes=None,\n",
       "                      min_impurity_decrease=0.0, min_impurity_split=None,\n",
       "                      min_samples_leaf=1, min_samples_split=2,\n",
       "                      min_weight_fraction_leaf=0.0, presort='deprecated',\n",
       "                      random_state=None, splitter='best')"
      ]
     },
     "execution_count": 172,
     "metadata": {
      "tags": []
     },
     "output_type": "execute_result"
    }
   ],
   "source": [
    "dt.fit(X_train,y_train)  # fitting the model"
   ]
  },
  {
   "cell_type": "code",
   "execution_count": 0,
   "metadata": {
    "colab": {},
    "colab_type": "code",
    "id": "aR0L-DPTIUn_"
   },
   "outputs": [],
   "source": [
    "y_trainpreddt = dt.predict(X_train) #prediction\n",
    "y_valpreddt = dt.predict(X_val)"
   ]
  },
  {
   "cell_type": "code",
   "execution_count": 0,
   "metadata": {
    "colab": {
     "base_uri": "https://localhost:8080/",
     "height": 34
    },
    "colab_type": "code",
    "id": "iRI5QpV_IUgg",
    "outputId": "1273ebc1-d151-48c4-a1d0-19aa56c9c70e"
   },
   "outputs": [
    {
     "data": {
      "text/plain": [
       "0.6469684654920445"
      ]
     },
     "execution_count": 174,
     "metadata": {
      "tags": []
     },
     "output_type": "execute_result"
    }
   ],
   "source": [
    "mean_absolute_error(y_train,y_trainpreddt)"
   ]
  },
  {
   "cell_type": "code",
   "execution_count": 0,
   "metadata": {
    "colab": {
     "base_uri": "https://localhost:8080/",
     "height": 34
    },
    "colab_type": "code",
    "id": "BEYyDIswIUaa",
    "outputId": "1868939c-f6b3-452d-b4ab-0961fa632fb7"
   },
   "outputs": [
    {
     "data": {
      "text/plain": [
       "0.647038862407728"
      ]
     },
     "execution_count": 175,
     "metadata": {
      "tags": []
     },
     "output_type": "execute_result"
    }
   ],
   "source": [
    "mean_absolute_error(y_val,y_valpreddt)"
   ]
  },
  {
   "cell_type": "code",
   "execution_count": 0,
   "metadata": {
    "colab": {},
    "colab_type": "code",
    "id": "9TmLDELXIUT2"
   },
   "outputs": [],
   "source": [
    "testdt = dt.predict(test)   # Test data prediction"
   ]
  },
  {
   "cell_type": "code",
   "execution_count": 0,
   "metadata": {
    "colab": {},
    "colab_type": "code",
    "id": "SZSAhOFzMEGi"
   },
   "outputs": [],
   "source": [
    "prediction = np.expm1(testdt)"
   ]
  },
  {
   "cell_type": "code",
   "execution_count": 0,
   "metadata": {
    "colab": {},
    "colab_type": "code",
    "id": "lUNGq4e_LKRW"
   },
   "outputs": [],
   "source": [
    "submission2 = submission[['id']]"
   ]
  },
  {
   "cell_type": "code",
   "execution_count": 0,
   "metadata": {
    "colab": {},
    "colab_type": "code",
    "id": "sdCOssGULY-6"
   },
   "outputs": [],
   "source": [
    "submission2['unit_sales'] = prediction"
   ]
  },
  {
   "cell_type": "code",
   "execution_count": 0,
   "metadata": {
    "colab": {},
    "colab_type": "code",
    "id": "kiIPAZvhLxiF"
   },
   "outputs": [],
   "source": [
    "submission.to_csv('submission_testdt.csv', index=False, header=True)"
   ]
  },
  {
   "cell_type": "markdown",
   "metadata": {
    "colab_type": "text",
    "id": "L3qDbGrvMnFt"
   },
   "source": [
    "**Model 3:**"
   ]
  },
  {
   "cell_type": "markdown",
   "metadata": {
    "colab_type": "text",
    "id": "IOPQsTmH0_U6"
   },
   "source": [
    "Random Forest Regressor with hyper parameter tuning."
   ]
  },
  {
   "cell_type": "code",
   "execution_count": 0,
   "metadata": {
    "colab": {},
    "colab_type": "code",
    "id": "LdMnFyMiod0W"
   },
   "outputs": [],
   "source": [
    "data = pd.read_pickle('/content/drive/My Drive/PHD/data_filtered.pkl') # loading the subset of data from Jan 1 - Jan 15 for every year."
   ]
  },
  {
   "cell_type": "code",
   "execution_count": 0,
   "metadata": {
    "colab": {},
    "colab_type": "code",
    "id": "XG-4-1f1o5jQ"
   },
   "outputs": [],
   "source": [
    "X1, y1 = data.loc[:,data.columns!='unit_sales'].values, data.loc[:,'unit_sales'].values"
   ]
  },
  {
   "cell_type": "code",
   "execution_count": 0,
   "metadata": {
    "colab": {},
    "colab_type": "code",
    "id": "fZcBU6ycpHF_"
   },
   "outputs": [],
   "source": [
    "X_train1, X_val1, y_train1, y_val1 = train_test_split(X1, y1, test_size=0.3, random_state=123)"
   ]
  },
  {
   "cell_type": "code",
   "execution_count": 0,
   "metadata": {
    "colab": {},
    "colab_type": "code",
    "id": "8m_v6tyfN0aA"
   },
   "outputs": [],
   "source": [
    "from sklearn.ensemble import RandomForestRegressor\n",
    "from sklearn import tree"
   ]
  },
  {
   "cell_type": "code",
   "execution_count": 0,
   "metadata": {
    "colab": {},
    "colab_type": "code",
    "id": "lbnjigGQtaNQ"
   },
   "outputs": [],
   "source": [
    "rfc = RandomForestRegressor(n_jobs=-1, max_features='sqrt') \n",
    " \n",
    "# Use a grid over parameters of interest\n",
    "param_grid = { \n",
    "           \"n_estimators\" : [9, 18, 27, 36, 100, 150],\n",
    "           \"max_depth\" : [2,3,5,7,9],\n",
    "           \"min_samples_leaf\" : [2, 4]}\n"
   ]
  },
  {
   "cell_type": "code",
   "execution_count": 0,
   "metadata": {
    "colab": {},
    "colab_type": "code",
    "id": "7BuBHPQhuo8E"
   },
   "outputs": [],
   "source": [
    "from sklearn.model_selection import GridSearchCV, RandomizedSearchCV"
   ]
  },
  {
   "cell_type": "code",
   "execution_count": 0,
   "metadata": {
    "colab": {},
    "colab_type": "code",
    "id": "7chJjO2Ftj4V"
   },
   "outputs": [],
   "source": [
    "clf_randomgrid = RandomizedSearchCV(rfc, param_distributions=param_grid, cv=5) # Randomsearch CV for selecting optimal model"
   ]
  },
  {
   "cell_type": "code",
   "execution_count": 13,
   "metadata": {
    "colab": {
     "base_uri": "https://localhost:8080/",
     "height": 425
    },
    "colab_type": "code",
    "id": "FhlHIqbRXRAL",
    "outputId": "f6e3f3de-42eb-4f88-eef6-f697d42c33b1"
   },
   "outputs": [
    {
     "data": {
      "text/plain": [
       "RandomizedSearchCV(cv=5, error_score=nan,\n",
       "                   estimator=RandomForestRegressor(bootstrap=True,\n",
       "                                                   ccp_alpha=0.0,\n",
       "                                                   criterion='mse',\n",
       "                                                   max_depth=None,\n",
       "                                                   max_features='sqrt',\n",
       "                                                   max_leaf_nodes=None,\n",
       "                                                   max_samples=None,\n",
       "                                                   min_impurity_decrease=0.0,\n",
       "                                                   min_impurity_split=None,\n",
       "                                                   min_samples_leaf=1,\n",
       "                                                   min_samples_split=2,\n",
       "                                                   min_weight_fraction_leaf=0.0,\n",
       "                                                   n_estimators=100, n_jobs=-1,\n",
       "                                                   oob_score=False,\n",
       "                                                   random_state=None, verbose=0,\n",
       "                                                   warm_start=False),\n",
       "                   iid='deprecated', n_iter=10, n_jobs=None,\n",
       "                   param_distributions={'max_depth': [2, 3, 5, 7, 9],\n",
       "                                        'min_samples_leaf': [2, 4],\n",
       "                                        'n_estimators': [9, 18, 27, 36, 100,\n",
       "                                                         150]},\n",
       "                   pre_dispatch='2*n_jobs', random_state=None, refit=True,\n",
       "                   return_train_score=False, scoring=None, verbose=0)"
      ]
     },
     "execution_count": 13,
     "metadata": {
      "tags": []
     },
     "output_type": "execute_result"
    }
   ],
   "source": [
    "clf_randomgrid.fit(X=X_train1, y=y_train1)"
   ]
  },
  {
   "cell_type": "code",
   "execution_count": 0,
   "metadata": {
    "colab": {},
    "colab_type": "code",
    "id": "yl7nPnehv8CM"
   },
   "outputs": [],
   "source": [
    "best_est = clf_randomgrid.best_estimator_    # Finding the best estimator"
   ]
  },
  {
   "cell_type": "code",
   "execution_count": 0,
   "metadata": {
    "colab": {},
    "colab_type": "code",
    "id": "ohv3WtRbNFK8"
   },
   "outputs": [],
   "source": [
    "y_val_predrf = best_est.predict(X_val1)"
   ]
  },
  {
   "cell_type": "code",
   "execution_count": 0,
   "metadata": {
    "colab": {},
    "colab_type": "code",
    "id": "Mc3GEALANW8R"
   },
   "outputs": [],
   "source": [
    "y_trainpredrf = best_est.predict(X_train1)"
   ]
  },
  {
   "cell_type": "code",
   "execution_count": 19,
   "metadata": {
    "colab": {
     "base_uri": "https://localhost:8080/",
     "height": 34
    },
    "colab_type": "code",
    "id": "EqlCskvhN1KK",
    "outputId": "1d02a6e5-7e64-443e-ff07-fe98e33c6007"
   },
   "outputs": [
    {
     "data": {
      "text/plain": [
       "7.559024883179713"
      ]
     },
     "execution_count": 19,
     "metadata": {
      "tags": []
     },
     "output_type": "execute_result"
    }
   ],
   "source": [
    "mean_absolute_error(y_train1,y_trainpredrf)"
   ]
  },
  {
   "cell_type": "code",
   "execution_count": 20,
   "metadata": {
    "colab": {
     "base_uri": "https://localhost:8080/",
     "height": 34
    },
    "colab_type": "code",
    "id": "g0Dg6gRlOdE_",
    "outputId": "fc7d42eb-5c3c-4737-91b7-ed0ee771db8a"
   },
   "outputs": [
    {
     "data": {
      "text/plain": [
       "7.543291713511397"
      ]
     },
     "execution_count": 20,
     "metadata": {
      "tags": []
     },
     "output_type": "execute_result"
    }
   ],
   "source": [
    "mean_absolute_error(y_val1,y_val_predrf)"
   ]
  },
  {
   "cell_type": "code",
   "execution_count": 0,
   "metadata": {
    "colab": {
     "base_uri": "https://localhost:8080/",
     "height": 34
    },
    "colab_type": "code",
    "id": "j5dMoiGTObh0",
    "outputId": "19b89cfa-b863-4d7a-ba76-a3a92a24922f"
   },
   "outputs": [
    {
     "data": {
      "text/plain": [
       "5018"
      ]
     },
     "execution_count": 227,
     "metadata": {
      "tags": []
     },
     "output_type": "execute_result"
    }
   ],
   "source": [
    "del data1\n",
    "gc.collect()"
   ]
  },
  {
   "cell_type": "code",
   "execution_count": 0,
   "metadata": {
    "colab": {},
    "colab_type": "code",
    "id": "PUw4hW51PFZU"
   },
   "outputs": [],
   "source": [
    "predictiondt = best_est.predict(test)"
   ]
  },
  {
   "cell_type": "code",
   "execution_count": 0,
   "metadata": {
    "colab": {
     "base_uri": "https://localhost:8080/",
     "height": 51
    },
    "colab_type": "code",
    "id": "uzZ02T9FPd91",
    "outputId": "b5efe7d1-6b80-4664-9d52-cdbc2a7880b9"
   },
   "outputs": [
    {
     "data": {
      "text/plain": [
       "array([1.66733106, 1.75525901, 1.70081649, ..., 1.62833377, 1.62833377,\n",
       "       1.62833377])"
      ]
     },
     "execution_count": 230,
     "metadata": {
      "tags": []
     },
     "output_type": "execute_result"
    }
   ],
   "source": [
    "predictiondt"
   ]
  },
  {
   "cell_type": "code",
   "execution_count": 0,
   "metadata": {
    "colab": {},
    "colab_type": "code",
    "id": "zUmuf1d4PnAW"
   },
   "outputs": [],
   "source": [
    "predictiondt = np.expm1(predictiondt)"
   ]
  },
  {
   "cell_type": "code",
   "execution_count": 0,
   "metadata": {
    "colab": {},
    "colab_type": "code",
    "id": "P5LQ9NrsPxBZ"
   },
   "outputs": [],
   "source": [
    "del submission['unit_sales']"
   ]
  },
  {
   "cell_type": "code",
   "execution_count": 0,
   "metadata": {
    "colab": {},
    "colab_type": "code",
    "id": "F_pw7pz4P9SW"
   },
   "outputs": [],
   "source": [
    "submission['unit_sales'] = predictiondt"
   ]
  },
  {
   "cell_type": "code",
   "execution_count": 0,
   "metadata": {
    "colab": {},
    "colab_type": "code",
    "id": "kADB_rt_QG9q"
   },
   "outputs": [],
   "source": [
    "submission.to_csv('submission_testwithpromorandomtree.csv', index=False, header=True)"
   ]
  },
  {
   "cell_type": "markdown",
   "metadata": {
    "colab_type": "text",
    "id": "tZgYyf-c2ZcH"
   },
   "source": [
    "Feature Importances:"
   ]
  },
  {
   "cell_type": "code",
   "execution_count": 0,
   "metadata": {
    "colab": {},
    "colab_type": "code",
    "id": "wTp9xPmnxEwD"
   },
   "outputs": [],
   "source": [
    "importances = best_est.feature_importances_"
   ]
  },
  {
   "cell_type": "code",
   "execution_count": 0,
   "metadata": {
    "colab": {
     "base_uri": "https://localhost:8080/",
     "height": 34
    },
    "colab_type": "code",
    "id": "mVr0ZagmxEbc",
    "outputId": "a9fb996f-0122-4f4e-e056-e70da93581fb"
   },
   "outputs": [
    {
     "name": "stdout",
     "output_type": "stream",
     "text": [
      "[11 10  3  5  2  0 12  7  4  8  6  1  9]\n"
     ]
    }
   ],
   "source": [
    "importances = best_est.feature_importances_\n",
    "indices = np.argsort(importances)\n",
    "print(indices)"
   ]
  },
  {
   "cell_type": "code",
   "execution_count": 0,
   "metadata": {
    "colab": {
     "base_uri": "https://localhost:8080/",
     "height": 295
    },
    "colab_type": "code",
    "id": "HYKFCUzfQaO1",
    "outputId": "d47231f4-d375-4607-d4b5-9b89833fe645"
   },
   "outputs": [
    {
     "data": {
      "image/png": "[encoded data removed]",
      "text/plain": [
       "<Figure size 432x288 with 1 Axes>"
      ]
     },
     "metadata": {
      "tags": []
     },
     "output_type": "display_data"
    }
   ],
   "source": [
    "import matplotlib.pyplot as plt\n",
    "%matplotlib inline\n",
    "features = X_train.columns\n",
    "\n",
    "plt.title('Feature Importances')\n",
    "plt.barh(range(len(indices)),importances[indices], color='b')\n",
    "plt.yticks(range(len(indices)), [features[i] for i in indices])\n",
    "plt.xlabel('Relative Importance')\n",
    "plt.show()"
   ]
  },
  {
   "cell_type": "markdown",
   "metadata": {
    "colab_type": "text",
    "id": "H00y2txzB1QN"
   },
   "source": [
    "Model 3 - **XGBoost** for 2 years data"
   ]
  },
  {
   "cell_type": "code",
   "execution_count": 0,
   "metadata": {
    "colab": {},
    "colab_type": "code",
    "id": "ars5BfJcB899"
   },
   "outputs": [],
   "source": [
    "from sklearn.tree import DecisionTreeRegressor\n",
    "from sklearn.ensemble import GradientBoostingRegressor\n",
    "from sklearn.ensemble import AdaBoostRegressor\n",
    "\n",
    "from xgboost import XGBRegressor"
   ]
  },
  {
   "cell_type": "code",
   "execution_count": 0,
   "metadata": {
    "colab": {},
    "colab_type": "code",
    "id": "_iWjKmGLCJy4"
   },
   "outputs": [],
   "source": [
    "xgb = XGBRegressor(n_estimators=50,objective='reg:linear',eta = 0.5,booster='gbtree',max_depth =  3,subsample= .8,colsample_bytree= 0.7,silent= 1,min_child_weight=5)"
   ]
  },
  {
   "cell_type": "code",
   "execution_count": 0,
   "metadata": {
    "colab": {
     "base_uri": "https://localhost:8080/",
     "height": 136
    },
    "colab_type": "code",
    "id": "k1wCYKgZCkhN",
    "outputId": "c507411c-1205-465a-b53e-8e7bc019b53e"
   },
   "outputs": [
    {
     "data": {
      "text/plain": [
       "XGBRegressor(base_score=0.5, booster='gbtree', colsample_bylevel=1,\n",
       "             colsample_bynode=1, colsample_bytree=0.7, eta=0.5, gamma=0,\n",
       "             importance_type='gain', learning_rate=0.1, max_delta_step=0,\n",
       "             max_depth=3, min_child_weight=5, missing=None, n_estimators=50,\n",
       "             n_jobs=1, nthread=None, objective='reg:linear', random_state=0,\n",
       "             reg_alpha=0, reg_lambda=1, scale_pos_weight=1, seed=None, silent=1,\n",
       "             subsample=0.8, verbosity=1)"
      ]
     },
     "execution_count": 22,
     "metadata": {
      "tags": []
     },
     "output_type": "execute_result"
    }
   ],
   "source": [
    "xgb.fit(X=X_train, y=y_train)"
   ]
  },
  {
   "cell_type": "code",
   "execution_count": 0,
   "metadata": {
    "colab": {},
    "colab_type": "code",
    "id": "79WKhQmaHQoF"
   },
   "outputs": [],
   "source": [
    "y_val_predxgb = xgb.predict(X_val)"
   ]
  },
  {
   "cell_type": "code",
   "execution_count": 0,
   "metadata": {
    "colab": {
     "base_uri": "https://localhost:8080/",
     "height": 34
    },
    "colab_type": "code",
    "id": "h7PhiXdlTWJg",
    "outputId": "d1bb736d-db4f-4762-ae6a-c38d3fc68b18"
   },
   "outputs": [
    {
     "data": {
      "text/plain": [
       "2"
      ]
     },
     "execution_count": 24,
     "metadata": {
      "tags": []
     },
     "output_type": "execute_result"
    }
   ],
   "source": [
    "import gc\n",
    "gc.collect()"
   ]
  },
  {
   "cell_type": "code",
   "execution_count": 0,
   "metadata": {
    "colab": {},
    "colab_type": "code",
    "id": "DLtK6JOqTf_z"
   },
   "outputs": [],
   "source": [
    "y_trainpredxgb = xgb.predict(X_train)"
   ]
  },
  {
   "cell_type": "code",
   "execution_count": 0,
   "metadata": {
    "colab": {},
    "colab_type": "code",
    "id": "PExwprfnTrkO"
   },
   "outputs": [],
   "source": [
    "from sklearn.metrics import mean_absolute_error"
   ]
  },
  {
   "cell_type": "code",
   "execution_count": 0,
   "metadata": {
    "colab": {
     "base_uri": "https://localhost:8080/",
     "height": 34
    },
    "colab_type": "code",
    "id": "2PIjDGS2Qg1L",
    "outputId": "34e1ac32-d61c-4ca4-df02-72f9ff363273"
   },
   "outputs": [
    {
     "data": {
      "text/plain": [
       "0.6423372"
      ]
     },
     "execution_count": 27,
     "metadata": {
      "tags": []
     },
     "output_type": "execute_result"
    }
   ],
   "source": [
    "mean_absolute_error(y_val,y_val_predxgb)"
   ]
  },
  {
   "cell_type": "code",
   "execution_count": 0,
   "metadata": {
    "colab": {
     "base_uri": "https://localhost:8080/",
     "height": 34
    },
    "colab_type": "code",
    "id": "En-Xb0XKQqWN",
    "outputId": "a020e9ee-ba0b-469a-eccd-8c8ef0c12e29"
   },
   "outputs": [
    {
     "data": {
      "text/plain": [
       "0.6423442"
      ]
     },
     "execution_count": 28,
     "metadata": {
      "tags": []
     },
     "output_type": "execute_result"
    }
   ],
   "source": [
    "mean_absolute_error(y_train,y_trainpredxgb)"
   ]
  },
  {
   "cell_type": "code",
   "execution_count": 0,
   "metadata": {
    "colab": {},
    "colab_type": "code",
    "id": "EEE-mgjeQxnv"
   },
   "outputs": [],
   "source": [
    "predictiontr = np.expm1(y_trainpredxgb)\n",
    "ytrainexp = np.expm1(y_train)\n",
    "predictionval = np.expm1(y_val_predxgb)\n",
    "yvalexp = np.expm1(y_val)"
   ]
  },
  {
   "cell_type": "code",
   "execution_count": 0,
   "metadata": {
    "colab": {
     "base_uri": "https://localhost:8080/",
     "height": 34
    },
    "colab_type": "code",
    "id": "tkKfzYWARf3S",
    "outputId": "9dc189f9-08f5-4f29-e706-f6e4f5ce83f2"
   },
   "outputs": [
    {
     "data": {
      "text/plain": [
       "6.0962377"
      ]
     },
     "execution_count": 30,
     "metadata": {
      "tags": []
     },
     "output_type": "execute_result"
    }
   ],
   "source": [
    "mean_absolute_error(ytrainexp,predictiontr)"
   ]
  },
  {
   "cell_type": "code",
   "execution_count": 0,
   "metadata": {
    "colab": {
     "base_uri": "https://localhost:8080/",
     "height": 34
    },
    "colab_type": "code",
    "id": "zmZl0TH3RrUu",
    "outputId": "fe6a1ea6-4507-45ea-ea27-bb6ee686262a"
   },
   "outputs": [
    {
     "data": {
      "text/plain": [
       "6.095197"
      ]
     },
     "execution_count": 31,
     "metadata": {
      "tags": []
     },
     "output_type": "execute_result"
    }
   ],
   "source": [
    "mean_absolute_error(yvalexp,predictionval)"
   ]
  },
  {
   "cell_type": "code",
   "execution_count": 0,
   "metadata": {
    "colab": {},
    "colab_type": "code",
    "id": "QY-ZkURySDrd"
   },
   "outputs": [],
   "source": [
    "predictionxgb = xgb.predict(test)   # Prediction on test data."
   ]
  },
  {
   "cell_type": "code",
   "execution_count": 0,
   "metadata": {
    "colab": {
     "base_uri": "https://localhost:8080/",
     "height": 34
    },
    "colab_type": "code",
    "id": "0MmpZO5BU-hn",
    "outputId": "5528db15-d3d6-46e4-8577-73f4e784a478"
   },
   "outputs": [
    {
     "data": {
      "text/plain": [
       "array([1.57, 1.6 , 1.58, ..., 1.68, 1.68, 1.68], dtype=float32)"
      ]
     },
     "execution_count": 81,
     "metadata": {
      "tags": []
     },
     "output_type": "execute_result"
    }
   ],
   "source": [
    "np.round(predictionxgb,2)"
   ]
  },
  {
   "cell_type": "code",
   "execution_count": 0,
   "metadata": {
    "colab": {},
    "colab_type": "code",
    "id": "i--v9pfeSgz2"
   },
   "outputs": [],
   "source": [
    "predictionxgb = np.expm1(predictionxgb)"
   ]
  },
  {
   "cell_type": "code",
   "execution_count": 0,
   "metadata": {
    "colab": {},
    "colab_type": "code",
    "id": "9NP6P59zVhYy"
   },
   "outputs": [],
   "source": [
    "predictionxgb = np.round(predictionxgb,2)  #Rounding off the prediction to two decimal places"
   ]
  },
  {
   "cell_type": "code",
   "execution_count": 0,
   "metadata": {
    "colab": {},
    "colab_type": "code",
    "id": "hocoPJ1pSwVS"
   },
   "outputs": [],
   "source": [
    "submission['unit_sales'] = predictionxgb"
   ]
  },
  {
   "cell_type": "code",
   "execution_count": 0,
   "metadata": {
    "colab": {},
    "colab_type": "code",
    "id": "_tEs3njpTEd_"
   },
   "outputs": [],
   "source": [
    "submission.to_csv('submission_testwithpromoxgb.csv', index=False, header=True)"
   ]
  },
  {
   "cell_type": "markdown",
   "metadata": {
    "colab_type": "text",
    "id": "Ya9Vr6YXzLHl"
   },
   "source": [
    "**XGB for Randomized Search CV**\n",
    "\n",
    "Random Search CV is used for finding the best estimator.\n",
    "\n"
   ]
  },
  {
   "cell_type": "code",
   "execution_count": 0,
   "metadata": {
    "colab": {},
    "colab_type": "code",
    "id": "2lUKFfLwzHZA"
   },
   "outputs": [],
   "source": [
    "xgbr = XGBRegressor(n_jobs=-1,objective='reg:linear',booster='gbtree') \n",
    " \n",
    "# Use a grid over parameters of interest\n",
    "param_grid = {\n",
    "                  'n_estimators' :[50,100,150],\n",
    "                  \"learning_rate\" : [0.05, 0.10, 0.15, 0.20, 0.25, 0.30 ],\n",
    "                  \"gamma\"            : [ 0.0, 0.1, 0.2 , 0.3 ],\n",
    "                  \"colsample_bytree\" : [ 0.3, 0.4, 0.5,0.7],\n",
    "                  'max_depth': [3,4,6,8,9]\n",
    "              }"
   ]
  },
  {
   "cell_type": "code",
   "execution_count": 0,
   "metadata": {
    "colab": {},
    "colab_type": "code",
    "id": "SKZwoUkK5tW1"
   },
   "outputs": [],
   "source": [
    "xgb_randomgrid = RandomizedSearchCV(xgbr, param_distributions=param_grid, cv=5)"
   ]
  },
  {
   "cell_type": "code",
   "execution_count": 0,
   "metadata": {
    "colab": {
     "base_uri": "https://localhost:8080/",
     "height": 105
    },
    "colab_type": "code",
    "id": "-3PE9SNA6hJM",
    "outputId": "b2b998e8-0fa8-43b3-ba28-5ddf7edb044c"
   },
   "outputs": [
    {
     "name": "stdout",
     "output_type": "stream",
     "text": [
      "[16:52:22] WARNING: /workspace/src/objective/regression_obj.cu:152: reg:linear is now deprecated in favor of reg:squarederror.\n",
      "[16:52:22] WARNING: /workspace/src/learner.cc:686: Tree method is automatically selected to be 'approx' for faster speed. To use old behavior (exact greedy algorithm on single machine), set tree_method to 'exact'.\n",
      "[17:38:16] WARNING: /workspace/src/objective/regression_obj.cu:152: reg:linear is now deprecated in favor of reg:squarederror.\n",
      "[17:38:16] WARNING: /workspace/src/learner.cc:686: Tree method is automatically selected to be 'approx' for faster speed. To use old behavior (exact greedy algorithm on single machine), set tree_method to 'exact'.\n"
     ]
    }
   ],
   "source": [
    "xgb_randomgrid.fit(X=X_train, y=y_train)"
   ]
  },
  {
   "cell_type": "code",
   "execution_count": 0,
   "metadata": {
    "colab": {},
    "colab_type": "code",
    "id": "UWWZDLIo62gG"
   },
   "outputs": [],
   "source": [
    "bsxgb = xgb_randomgrid.best_estimator_"
   ]
  },
  {
   "cell_type": "code",
   "execution_count": 0,
   "metadata": {
    "colab": {},
    "colab_type": "code",
    "id": "9QR-eSLBfJWF"
   },
   "outputs": [],
   "source": [
    "y_val_predxgb1 = bsxgb.predict(X_val)"
   ]
  },
  {
   "cell_type": "code",
   "execution_count": 0,
   "metadata": {
    "colab": {},
    "colab_type": "code",
    "id": "LxaAbFfhfX9n"
   },
   "outputs": [],
   "source": [
    "y_trainpredxgb1 = bsxgb.predict(X_train)"
   ]
  },
  {
   "cell_type": "code",
   "execution_count": 0,
   "metadata": {
    "colab": {
     "base_uri": "https://localhost:8080/",
     "height": 34
    },
    "colab_type": "code",
    "id": "vSn-wEbPfijS",
    "outputId": "f6ca2eb3-ab37-4ee0-f5ea-3895f3c00a3f"
   },
   "outputs": [
    {
     "data": {
      "text/plain": [
       "0.4926329"
      ]
     },
     "execution_count": 134,
     "metadata": {
      "tags": []
     },
     "output_type": "execute_result"
    }
   ],
   "source": [
    "mean_absolute_error(y_val,y_val_predxgb1)"
   ]
  },
  {
   "cell_type": "code",
   "execution_count": 0,
   "metadata": {
    "colab": {
     "base_uri": "https://localhost:8080/",
     "height": 34
    },
    "colab_type": "code",
    "id": "AnuAucJcfvf_",
    "outputId": "f6b2bf93-a614-4b28-c3ef-6f2a6cfe45c2"
   },
   "outputs": [
    {
     "data": {
      "text/plain": [
       "0.4878121"
      ]
     },
     "execution_count": 135,
     "metadata": {
      "tags": []
     },
     "output_type": "execute_result"
    }
   ],
   "source": [
    "mean_absolute_error(y_train,y_trainpredxgb1)"
   ]
  },
  {
   "cell_type": "markdown",
   "metadata": {
    "colab_type": "text",
    "id": "XjM8I4GO3qmd"
   },
   "source": [
    "There is a decrease in residual when compared to previous models."
   ]
  },
  {
   "cell_type": "code",
   "execution_count": 0,
   "metadata": {
    "colab": {},
    "colab_type": "code",
    "id": "mnpdSCN-E0yj"
   },
   "outputs": [],
   "source": [
    "predictiontr = np.expm1(y_trainpredxgb1)\n",
    "ytrainexp = np.expm1(y_train)\n",
    "predictionval = np.expm1(y_val_predxgb1)\n",
    "yvalexp = np.expm1(y_val)"
   ]
  },
  {
   "cell_type": "code",
   "execution_count": 0,
   "metadata": {
    "colab": {},
    "colab_type": "code",
    "id": "hulIxkPIFHXJ"
   },
   "outputs": [],
   "source": [
    "mean_absolute_error(ytrainexp,predictiontr)"
   ]
  },
  {
   "cell_type": "code",
   "execution_count": 0,
   "metadata": {
    "colab": {},
    "colab_type": "code",
    "id": "FaK3-9MoFInQ"
   },
   "outputs": [],
   "source": [
    "mean_absolute_error(yvalexp,predictionval)"
   ]
  },
  {
   "cell_type": "code",
   "execution_count": 0,
   "metadata": {
    "colab": {},
    "colab_type": "code",
    "id": "j6k6rimff6uT"
   },
   "outputs": [],
   "source": [
    "predxgb1 = bsxgb.predict(test)   # Predicting test data"
   ]
  },
  {
   "cell_type": "code",
   "execution_count": 0,
   "metadata": {
    "colab": {},
    "colab_type": "code",
    "id": "glDU0-z2gBiq"
   },
   "outputs": [],
   "source": [
    "predictionxgb1 = np.expm1(predxgb1)"
   ]
  },
  {
   "cell_type": "code",
   "execution_count": 0,
   "metadata": {
    "colab": {
     "base_uri": "https://localhost:8080/",
     "height": 51
    },
    "colab_type": "code",
    "id": "sJth_DVqgrG2",
    "outputId": "cfac08de-e1aa-4ac1-ba1d-faa4927fde60"
   },
   "outputs": [
    {
     "data": {
      "text/plain": [
       "array([ 3.3333282, 10.935629 ,  4.7174196, ...,  2.8887389,  2.8887389,\n",
       "        3.860108 ], dtype=float32)"
      ]
     },
     "execution_count": 141,
     "metadata": {
      "tags": []
     },
     "output_type": "execute_result"
    }
   ],
   "source": [
    "predictionxgb1"
   ]
  },
  {
   "cell_type": "code",
   "execution_count": 0,
   "metadata": {
    "colab": {},
    "colab_type": "code",
    "id": "2yXB-tLLggQB"
   },
   "outputs": [],
   "source": [
    "del submission['unit_sales']"
   ]
  },
  {
   "cell_type": "code",
   "execution_count": 0,
   "metadata": {
    "colab": {
     "base_uri": "https://localhost:8080/",
     "height": 204
    },
    "colab_type": "code",
    "id": "obl4O2sZgj4K",
    "outputId": "92900260-7d18-4a70-bbe5-805690d3ddf7"
   },
   "outputs": [
    {
     "data": {
      "text/html": [
       "<div>\n",
       "<style scoped>\n",
       "    .dataframe tbody tr th:only-of-type {\n",
       "        vertical-align: middle;\n",
       "    }\n",
       "\n",
       "    .dataframe tbody tr th {\n",
       "        vertical-align: top;\n",
       "    }\n",
       "\n",
       "    .dataframe thead th {\n",
       "        text-align: right;\n",
       "    }\n",
       "</style>\n",
       "<table border=\"1\" class=\"dataframe\">\n",
       "  <thead>\n",
       "    <tr style=\"text-align: right;\">\n",
       "      <th></th>\n",
       "      <th>id</th>\n",
       "    </tr>\n",
       "  </thead>\n",
       "  <tbody>\n",
       "    <tr>\n",
       "      <th>0</th>\n",
       "      <td>0</td>\n",
       "    </tr>\n",
       "    <tr>\n",
       "      <th>173</th>\n",
       "      <td>1</td>\n",
       "    </tr>\n",
       "    <tr>\n",
       "      <th>637</th>\n",
       "      <td>2</td>\n",
       "    </tr>\n",
       "    <tr>\n",
       "      <th>990</th>\n",
       "      <td>3</td>\n",
       "    </tr>\n",
       "    <tr>\n",
       "      <th>1518</th>\n",
       "      <td>4</td>\n",
       "    </tr>\n",
       "  </tbody>\n",
       "</table>\n",
       "</div>"
      ],
      "text/plain": [
       "      id\n",
       "0      0\n",
       "173    1\n",
       "637    2\n",
       "990    3\n",
       "1518   4"
      ]
     },
     "execution_count": 140,
     "metadata": {
      "tags": []
     },
     "output_type": "execute_result"
    }
   ],
   "source": [
    "submission.head()"
   ]
  },
  {
   "cell_type": "code",
   "execution_count": 0,
   "metadata": {
    "colab": {},
    "colab_type": "code",
    "id": "n20hl-72gndP"
   },
   "outputs": [],
   "source": [
    "submission['unit_sales'] = predictionxgb1  # Appending predicted sales data to submission file."
   ]
  },
  {
   "cell_type": "code",
   "execution_count": 0,
   "metadata": {
    "colab": {},
    "colab_type": "code",
    "id": "H4Dco1Qlg8N4"
   },
   "outputs": [],
   "source": [
    "submission.to_csv('submission_testwithpromoxgbrandom.csv', index=False, header=True) # saving as CSV file."
   ]
  },
  {
   "cell_type": "markdown",
   "metadata": {
    "colab_type": "text",
    "id": "1nTRDq5MvS5I"
   },
   "source": [
    "# **NeuralNetworks**"
   ]
  },
  {
   "cell_type": "code",
   "execution_count": 0,
   "metadata": {
    "colab": {},
    "colab_type": "code",
    "id": "gJXVFZYyhGdK"
   },
   "outputs": [],
   "source": [
    "data = pd.read_pickle('/content/drive/My Drive/PHD/oneyr.pkl') # loading last year data for better computational efficiency"
   ]
  },
  {
   "cell_type": "code",
   "execution_count": 0,
   "metadata": {
    "colab": {},
    "colab_type": "code",
    "id": "HJD_MYSwwi0v"
   },
   "outputs": [],
   "source": [
    "data = data.sort_values(by='date')"
   ]
  },
  {
   "cell_type": "code",
   "execution_count": 0,
   "metadata": {
    "colab": {
     "base_uri": "https://localhost:8080/",
     "height": 309
    },
    "colab_type": "code",
    "id": "FpkpxTR9xAP0",
    "outputId": "823b1979-0e48-48d9-a6a5-c4f716a93a67"
   },
   "outputs": [
    {
     "data": {
      "text/html": [
       "<div>\n",
       "<style scoped>\n",
       "    .dataframe tbody tr th:only-of-type {\n",
       "        vertical-align: middle;\n",
       "    }\n",
       "\n",
       "    .dataframe tbody tr th {\n",
       "        vertical-align: top;\n",
       "    }\n",
       "\n",
       "    .dataframe thead th {\n",
       "        text-align: right;\n",
       "    }\n",
       "</style>\n",
       "<table border=\"1\" class=\"dataframe\">\n",
       "  <thead>\n",
       "    <tr style=\"text-align: right;\">\n",
       "      <th></th>\n",
       "      <th>date</th>\n",
       "      <th>locationId</th>\n",
       "      <th>item_id</th>\n",
       "      <th>unit_sales</th>\n",
       "      <th>onpromotion</th>\n",
       "      <th>city</th>\n",
       "      <th>state</th>\n",
       "      <th>type</th>\n",
       "      <th>cluster</th>\n",
       "      <th>category_of_item</th>\n",
       "      <th>class</th>\n",
       "      <th>perishable</th>\n",
       "    </tr>\n",
       "  </thead>\n",
       "  <tbody>\n",
       "    <tr>\n",
       "      <th>5964113</th>\n",
       "      <td>2018-01-01</td>\n",
       "      <td>location_25</td>\n",
       "      <td>item_957098</td>\n",
       "      <td>5.0</td>\n",
       "      <td>False</td>\n",
       "      <td>Kanpur</td>\n",
       "      <td>Uttar Pradesh</td>\n",
       "      <td>D</td>\n",
       "      <td>1</td>\n",
       "      <td>dairy_items</td>\n",
       "      <td>class_2130</td>\n",
       "      <td>1</td>\n",
       "    </tr>\n",
       "    <tr>\n",
       "      <th>3252760</th>\n",
       "      <td>2018-01-01</td>\n",
       "      <td>location_25</td>\n",
       "      <td>item_564272</td>\n",
       "      <td>15.0</td>\n",
       "      <td>False</td>\n",
       "      <td>Kanpur</td>\n",
       "      <td>Uttar Pradesh</td>\n",
       "      <td>D</td>\n",
       "      <td>1</td>\n",
       "      <td>grocery_items</td>\n",
       "      <td>class_1016</td>\n",
       "      <td>0</td>\n",
       "    </tr>\n",
       "    <tr>\n",
       "      <th>1066701</th>\n",
       "      <td>2018-01-01</td>\n",
       "      <td>location_25</td>\n",
       "      <td>item_258396</td>\n",
       "      <td>11.0</td>\n",
       "      <td>False</td>\n",
       "      <td>Kanpur</td>\n",
       "      <td>Uttar Pradesh</td>\n",
       "      <td>D</td>\n",
       "      <td>1</td>\n",
       "      <td>grocery_items</td>\n",
       "      <td>class_1010</td>\n",
       "      <td>0</td>\n",
       "    </tr>\n",
       "    <tr>\n",
       "      <th>13401387</th>\n",
       "      <td>2018-01-01</td>\n",
       "      <td>location_25</td>\n",
       "      <td>item_127534</td>\n",
       "      <td>1.0</td>\n",
       "      <td>False</td>\n",
       "      <td>Kanpur</td>\n",
       "      <td>Uttar Pradesh</td>\n",
       "      <td>D</td>\n",
       "      <td>1</td>\n",
       "      <td>grocery_items</td>\n",
       "      <td>class_1032</td>\n",
       "      <td>0</td>\n",
       "    </tr>\n",
       "    <tr>\n",
       "      <th>16559414</th>\n",
       "      <td>2018-01-01</td>\n",
       "      <td>location_25</td>\n",
       "      <td>item_1178696</td>\n",
       "      <td>1.0</td>\n",
       "      <td>False</td>\n",
       "      <td>Kanpur</td>\n",
       "      <td>Uttar Pradesh</td>\n",
       "      <td>D</td>\n",
       "      <td>1</td>\n",
       "      <td>cleaning_utilities</td>\n",
       "      <td>class_3020</td>\n",
       "      <td>0</td>\n",
       "    </tr>\n",
       "  </tbody>\n",
       "</table>\n",
       "</div>"
      ],
      "text/plain": [
       "               date   locationId  ...       class  perishable\n",
       "5964113  2018-01-01  location_25  ...  class_2130           1\n",
       "3252760  2018-01-01  location_25  ...  class_1016           0\n",
       "1066701  2018-01-01  location_25  ...  class_1010           0\n",
       "13401387 2018-01-01  location_25  ...  class_1032           0\n",
       "16559414 2018-01-01  location_25  ...  class_3020           0\n",
       "\n",
       "[5 rows x 12 columns]"
      ]
     },
     "execution_count": 92,
     "metadata": {
      "tags": []
     },
     "output_type": "execute_result"
    }
   ],
   "source": [
    "data.head()"
   ]
  },
  {
   "cell_type": "code",
   "execution_count": 0,
   "metadata": {
    "colab": {},
    "colab_type": "code",
    "id": "64pneEIQxDl_"
   },
   "outputs": [],
   "source": [
    "data = data.reset_index(drop=True)   # Resetting the index."
   ]
  },
  {
   "cell_type": "markdown",
   "metadata": {
    "colab_type": "text",
    "id": "m-Cp9cF-4lH0"
   },
   "source": [
    "Adding additional features."
   ]
  },
  {
   "cell_type": "code",
   "execution_count": 0,
   "metadata": {
    "colab": {},
    "colab_type": "code",
    "id": "CWMx7QJevh_x"
   },
   "outputs": [],
   "source": [
    "data['date'] = pd.to_datetime(data['date'])   \n",
    "data['mon'] = data['date'].dt.month\n",
    "data['day'] = data['date'].dt.day\n",
    "data['date'] = data['date'].dt.dayofweek"
   ]
  },
  {
   "cell_type": "code",
   "execution_count": 0,
   "metadata": {
    "colab": {
     "base_uri": "https://localhost:8080/",
     "height": 309
    },
    "colab_type": "code",
    "id": "KYuxRh-8wMyV",
    "outputId": "86379553-3a6c-495d-bf96-3c302c1a9db6"
   },
   "outputs": [
    {
     "data": {
      "text/html": [
       "<div>\n",
       "<style scoped>\n",
       "    .dataframe tbody tr th:only-of-type {\n",
       "        vertical-align: middle;\n",
       "    }\n",
       "\n",
       "    .dataframe tbody tr th {\n",
       "        vertical-align: top;\n",
       "    }\n",
       "\n",
       "    .dataframe thead th {\n",
       "        text-align: right;\n",
       "    }\n",
       "</style>\n",
       "<table border=\"1\" class=\"dataframe\">\n",
       "  <thead>\n",
       "    <tr style=\"text-align: right;\">\n",
       "      <th></th>\n",
       "      <th>date</th>\n",
       "      <th>locationId</th>\n",
       "      <th>item_id</th>\n",
       "      <th>unit_sales</th>\n",
       "      <th>onpromotion</th>\n",
       "      <th>city</th>\n",
       "      <th>state</th>\n",
       "      <th>type</th>\n",
       "      <th>cluster</th>\n",
       "      <th>category_of_item</th>\n",
       "      <th>class</th>\n",
       "      <th>perishable</th>\n",
       "      <th>mon</th>\n",
       "      <th>day</th>\n",
       "    </tr>\n",
       "  </thead>\n",
       "  <tbody>\n",
       "    <tr>\n",
       "      <th>0</th>\n",
       "      <td>0</td>\n",
       "      <td>location_25</td>\n",
       "      <td>item_957098</td>\n",
       "      <td>5.0</td>\n",
       "      <td>False</td>\n",
       "      <td>Kanpur</td>\n",
       "      <td>Uttar Pradesh</td>\n",
       "      <td>D</td>\n",
       "      <td>1</td>\n",
       "      <td>dairy_items</td>\n",
       "      <td>class_2130</td>\n",
       "      <td>1</td>\n",
       "      <td>1</td>\n",
       "      <td>1</td>\n",
       "    </tr>\n",
       "    <tr>\n",
       "      <th>1</th>\n",
       "      <td>0</td>\n",
       "      <td>location_25</td>\n",
       "      <td>item_564272</td>\n",
       "      <td>15.0</td>\n",
       "      <td>False</td>\n",
       "      <td>Kanpur</td>\n",
       "      <td>Uttar Pradesh</td>\n",
       "      <td>D</td>\n",
       "      <td>1</td>\n",
       "      <td>grocery_items</td>\n",
       "      <td>class_1016</td>\n",
       "      <td>0</td>\n",
       "      <td>1</td>\n",
       "      <td>1</td>\n",
       "    </tr>\n",
       "    <tr>\n",
       "      <th>2</th>\n",
       "      <td>0</td>\n",
       "      <td>location_25</td>\n",
       "      <td>item_258396</td>\n",
       "      <td>11.0</td>\n",
       "      <td>False</td>\n",
       "      <td>Kanpur</td>\n",
       "      <td>Uttar Pradesh</td>\n",
       "      <td>D</td>\n",
       "      <td>1</td>\n",
       "      <td>grocery_items</td>\n",
       "      <td>class_1010</td>\n",
       "      <td>0</td>\n",
       "      <td>1</td>\n",
       "      <td>1</td>\n",
       "    </tr>\n",
       "    <tr>\n",
       "      <th>3</th>\n",
       "      <td>0</td>\n",
       "      <td>location_25</td>\n",
       "      <td>item_127534</td>\n",
       "      <td>1.0</td>\n",
       "      <td>False</td>\n",
       "      <td>Kanpur</td>\n",
       "      <td>Uttar Pradesh</td>\n",
       "      <td>D</td>\n",
       "      <td>1</td>\n",
       "      <td>grocery_items</td>\n",
       "      <td>class_1032</td>\n",
       "      <td>0</td>\n",
       "      <td>1</td>\n",
       "      <td>1</td>\n",
       "    </tr>\n",
       "    <tr>\n",
       "      <th>4</th>\n",
       "      <td>0</td>\n",
       "      <td>location_25</td>\n",
       "      <td>item_1178696</td>\n",
       "      <td>1.0</td>\n",
       "      <td>False</td>\n",
       "      <td>Kanpur</td>\n",
       "      <td>Uttar Pradesh</td>\n",
       "      <td>D</td>\n",
       "      <td>1</td>\n",
       "      <td>cleaning_utilities</td>\n",
       "      <td>class_3020</td>\n",
       "      <td>0</td>\n",
       "      <td>1</td>\n",
       "      <td>1</td>\n",
       "    </tr>\n",
       "  </tbody>\n",
       "</table>\n",
       "</div>"
      ],
      "text/plain": [
       "   date   locationId       item_id  unit_sales  ...       class perishable mon day\n",
       "0     0  location_25   item_957098         5.0  ...  class_2130          1   1   1\n",
       "1     0  location_25   item_564272        15.0  ...  class_1016          0   1   1\n",
       "2     0  location_25   item_258396        11.0  ...  class_1010          0   1   1\n",
       "3     0  location_25   item_127534         1.0  ...  class_1032          0   1   1\n",
       "4     0  location_25  item_1178696         1.0  ...  class_3020          0   1   1\n",
       "\n",
       "[5 rows x 14 columns]"
      ]
     },
     "execution_count": 95,
     "metadata": {
      "tags": []
     },
     "output_type": "execute_result"
    }
   ],
   "source": [
    "data.head(5)"
   ]
  },
  {
   "cell_type": "code",
   "execution_count": 0,
   "metadata": {
    "colab": {},
    "colab_type": "code",
    "id": "b-Gw-zB_xd8S"
   },
   "outputs": [],
   "source": [
    "data = data.drop(['item_id'],axis=1)"
   ]
  },
  {
   "cell_type": "code",
   "execution_count": 0,
   "metadata": {
    "colab": {
     "base_uri": "https://localhost:8080/",
     "height": 323
    },
    "colab_type": "code",
    "id": "cR0hpVyMx2Pu",
    "outputId": "0643a94f-f4ca-4ee5-f8a3-df2bbe8d35e7"
   },
   "outputs": [
    {
     "name": "stdout",
     "output_type": "stream",
     "text": [
      "<class 'pandas.core.frame.DataFrame'>\n",
      "Int64Index: 35229869 entries, 0 to 35229870\n",
      "Data columns (total 13 columns):\n",
      "date                int64\n",
      "locationId          category\n",
      "unit_sales          float64\n",
      "onpromotion         category\n",
      "city                category\n",
      "state               category\n",
      "type                category\n",
      "cluster             category\n",
      "category_of_item    category\n",
      "class               category\n",
      "perishable          category\n",
      "mon                 int64\n",
      "day                 int64\n",
      "dtypes: category(9), float64(1), int64(3)\n",
      "memory usage: 1.6 GB\n"
     ]
    }
   ],
   "source": [
    "data.info()"
   ]
  },
  {
   "cell_type": "code",
   "execution_count": 0,
   "metadata": {
    "colab": {},
    "colab_type": "code",
    "id": "rfBrDYkVx5QV"
   },
   "outputs": [],
   "source": [
    "data = data.drop(data[data.unit_sales > 44000].index)\n",
    "\n",
    "data['unit_sales'] = np.where((data.unit_sales <= 0),0,data.unit_sales)"
   ]
  },
  {
   "cell_type": "code",
   "execution_count": 0,
   "metadata": {
    "colab": {},
    "colab_type": "code",
    "id": "0tQBe47BytKY"
   },
   "outputs": [],
   "source": [
    "data['type'] = data['type'].astype('object')\n",
    "data['cluster'] = data['cluster'].astype('object')\n",
    "data['class'] = data['class'].astype('object')\n",
    "data['category_of_item'] = data['category_of_item'].astype('object')\n",
    "data['onpromotion'] = data['onpromotion'].astype('object')\n",
    "data['locationId'] = data['locationId'].astype('object')\n",
    "data['day'] = data['day'].astype('object')\n",
    "data['date'] = data['onpromotion'].astype('object')\n",
    "data['mon'] = data['mon'].astype('object')\n",
    "data['perishable'] = data['perishable'].astype('int8')\n",
    "data['city'] = data['city'].astype('object')\n",
    "data['state'] = data['state'].astype('object')"
   ]
  },
  {
   "cell_type": "markdown",
   "metadata": {
    "colab_type": "text",
    "id": "4fuib2oP40Cr"
   },
   "source": [
    "Label Encoding the categorical variables:"
   ]
  },
  {
   "cell_type": "code",
   "execution_count": 0,
   "metadata": {
    "colab": {
     "base_uri": "https://localhost:8080/",
     "height": 204
    },
    "colab_type": "code",
    "id": "TxzDNIjCzMga",
    "outputId": "c90c088f-2bfe-4363-aeaa-32bd3e9f1d01"
   },
   "outputs": [
    {
     "name": "stdout",
     "output_type": "stream",
     "text": [
      "date\n",
      "locationId\n",
      "onpromotion\n",
      "city\n",
      "state\n",
      "type\n",
      "cluster\n",
      "category_of_item\n",
      "class\n",
      "mon\n",
      "day\n"
     ]
    }
   ],
   "source": [
    "data = df_lbl_enc(data)"
   ]
  },
  {
   "cell_type": "code",
   "execution_count": 0,
   "metadata": {
    "colab": {
     "base_uri": "https://localhost:8080/",
     "height": 255
    },
    "colab_type": "code",
    "id": "YKLR_qV-0rb1",
    "outputId": "dea87004-0e2c-4222-befa-c788734af66f"
   },
   "outputs": [
    {
     "data": {
      "text/plain": [
       "date                  int64\n",
       "locationId            int64\n",
       "unit_sales          float64\n",
       "onpromotion           int64\n",
       "city                  int64\n",
       "state                 int64\n",
       "type                  int64\n",
       "cluster               int64\n",
       "category_of_item      int64\n",
       "class                 int64\n",
       "perishable             int8\n",
       "mon                   int64\n",
       "day                   int64\n",
       "dtype: object"
      ]
     },
     "execution_count": 103,
     "metadata": {
      "tags": []
     },
     "output_type": "execute_result"
    }
   ],
   "source": [
    "data.dtypes"
   ]
  },
  {
   "cell_type": "code",
   "execution_count": 0,
   "metadata": {
    "colab": {},
    "colab_type": "code",
    "id": "uLoUXKPt1Vi3"
   },
   "outputs": [],
   "source": [
    "for col in ['date', 'locationId', 'type', 'cluster', 'category_of_item','class','mon','day','city','state']:\n",
    "    data[col] = data[col].astype('category')      # converting to categorical variables"
   ]
  },
  {
   "cell_type": "code",
   "execution_count": 0,
   "metadata": {
    "colab": {
     "base_uri": "https://localhost:8080/",
     "height": 255
    },
    "colab_type": "code",
    "id": "GB5nxDgX133v",
    "outputId": "55d4ab6e-192a-49f0-e386-736b667d6ec5"
   },
   "outputs": [
    {
     "data": {
      "text/plain": [
       "date                category\n",
       "locationId          category\n",
       "unit_sales           float64\n",
       "onpromotion            int64\n",
       "city                category\n",
       "state               category\n",
       "type                category\n",
       "cluster             category\n",
       "category_of_item    category\n",
       "class               category\n",
       "perishable              int8\n",
       "mon                 category\n",
       "day                 category\n",
       "dtype: object"
      ]
     },
     "execution_count": 106,
     "metadata": {
      "tags": []
     },
     "output_type": "execute_result"
    }
   ],
   "source": [
    "data.dtypes"
   ]
  },
  {
   "cell_type": "code",
   "execution_count": 0,
   "metadata": {
    "colab": {},
    "colab_type": "code",
    "id": "M-n3m4vG2KfY"
   },
   "outputs": [],
   "source": [
    "num_ind_attr_names = data.select_dtypes(include=['int64','int8']).columns # selecting the numerical attributes"
   ]
  },
  {
   "cell_type": "code",
   "execution_count": 0,
   "metadata": {
    "colab": {},
    "colab_type": "code",
    "id": "ZGKBnjef2WvB"
   },
   "outputs": [],
   "source": [
    "num_ind_attr = data[num_ind_attr_names]"
   ]
  },
  {
   "cell_type": "code",
   "execution_count": 0,
   "metadata": {
    "colab": {},
    "colab_type": "code",
    "id": "94TNS8tY2fx3"
   },
   "outputs": [],
   "source": [
    "data.to_pickle('/content/drive/My Drive/PHD/data.pkl')   # saving as pickle file"
   ]
  },
  {
   "cell_type": "code",
   "execution_count": 0,
   "metadata": {
    "colab": {},
    "colab_type": "code",
    "id": "m11QHvmHR4bj"
   },
   "outputs": [],
   "source": [
    "data = pd.read_pickle('/content/drive/My Drive/PHD/data.pkl')  # Reading Pickle file"
   ]
  },
  {
   "cell_type": "code",
   "execution_count": 0,
   "metadata": {
    "colab": {},
    "colab_type": "code",
    "id": "yj9kC-tm4Dme"
   },
   "outputs": [],
   "source": [
    "from keras.models import Sequential, Model\n",
    "from keras.layers import Dense, Activation, Embedding, concatenate, Flatten, Input\n",
    "\n",
    "from sklearn.model_selection import train_test_split\n",
    "from sklearn.preprocessing import MinMaxScaler"
   ]
  },
  {
   "cell_type": "markdown",
   "metadata": {
    "colab_type": "text",
    "id": "rVA2BJ4350K8"
   },
   "source": [
    "**Min Max Scaling**"
   ]
  },
  {
   "cell_type": "code",
   "execution_count": 0,
   "metadata": {
    "colab": {},
    "colab_type": "code",
    "id": "adhF74WK2svd"
   },
   "outputs": [],
   "source": [
    "scaler = MinMaxScaler()      # Scaling numerical attributes\n",
    "\n",
    "scaled_num_ind_attr = scaler.fit_transform(num_ind_attr) "
   ]
  },
  {
   "cell_type": "code",
   "execution_count": 0,
   "metadata": {
    "colab": {},
    "colab_type": "code",
    "id": "Tqr1Viht4Fgy"
   },
   "outputs": [],
   "source": [
    "category_ind_attr = data.category_of_item.values\n",
    "class_ind_attr = data['class'].values\n",
    "loc_ind_attr = data.locationId.values\n",
    "cluster_ind_attr = data.cluster.values \n",
    "type_ind_attr = data['type'].values\n",
    "day_ind_attr = data.day.values\n",
    "mon_ind_attr = data.mon.values\n",
    "date_ind_attr = data.date.values\n",
    "city_ind_attr = data.city.values\n",
    "state_ind_attr = data.state.values "
   ]
  },
  {
   "cell_type": "markdown",
   "metadata": {
    "colab_type": "text",
    "id": "tptJ5zeJ5_R1"
   },
   "source": [
    "Select Categorical attributes"
   ]
  },
  {
   "cell_type": "code",
   "execution_count": 0,
   "metadata": {
    "colab": {
     "base_uri": "https://localhost:8080/",
     "height": 68
    },
    "colab_type": "code",
    "id": "tw4ykn6X5FNg",
    "outputId": "11026475-7b2b-474f-d00a-171ca7010b37"
   },
   "outputs": [
    {
     "data": {
      "text/plain": [
       "Index(['date', 'locationId', 'city', 'state', 'type', 'cluster',\n",
       "       'category_of_item', 'class', 'mon', 'day'],\n",
       "      dtype='object')"
      ]
     },
     "execution_count": 116,
     "metadata": {
      "tags": []
     },
     "output_type": "execute_result"
    }
   ],
   "source": [
    "cat_attr_names = data.select_dtypes(include=['category']).columns\n",
    "\n",
    "cat_attr_names"
   ]
  },
  {
   "cell_type": "code",
   "execution_count": 0,
   "metadata": {
    "colab": {
     "base_uri": "https://localhost:8080/",
     "height": 34
    },
    "colab_type": "code",
    "id": "V7ukxmAY5edn",
    "outputId": "9010cff7-d608-4346-a561-25a6d7e7ff9e"
   },
   "outputs": [
    {
     "data": {
      "text/plain": [
       "(35229869, 2)"
      ]
     },
     "execution_count": 117,
     "metadata": {
      "tags": []
     },
     "output_type": "execute_result"
    }
   ],
   "source": [
    "scaled_num_ind_attr.shape"
   ]
  },
  {
   "cell_type": "code",
   "execution_count": 0,
   "metadata": {
    "colab": {},
    "colab_type": "code",
    "id": "JM5dJrtbRT_z"
   },
   "outputs": [],
   "source": [
    "int_tar_attr_names = data['unit_sales']"
   ]
  },
  {
   "cell_type": "code",
   "execution_count": 0,
   "metadata": {
    "colab": {},
    "colab_type": "code",
    "id": "ZUSqPv_RTZ0f"
   },
   "outputs": [],
   "source": [
    "n_cat_levels = np.size(np.unique(category_ind_attr, return_counts=True)[0])\n",
    "n_class_levels = np.size(np.unique(class_ind_attr, return_counts=True)[0])\n",
    "n_loc_levels = np.size(np.unique(loc_ind_attr, return_counts=True)[0])\n",
    "n_cluster_levels = np.size(np.unique(cluster_ind_attr, return_counts=True)[0])\n",
    "n_type_levels = np.size(np.unique(type_ind_attr, return_counts=True)[0])\n",
    "n_day_levels = np.size(np.unique(day_ind_attr, return_counts=True)[0])\n",
    "n_mon_levels = np.size(np.unique(mon_ind_attr, return_counts=True)[0])\n",
    "n_date_levels = np.size(np.unique(date_ind_attr, return_counts=True)[0])\n",
    "n_city_levels = np.size(np.unique(city_ind_attr, return_counts=True)[0])\n",
    "n_state_levels = np.size(np.unique(state_ind_attr, return_counts=True)[0])"
   ]
  },
  {
   "cell_type": "markdown",
   "metadata": {
    "colab_type": "text",
    "id": "SDPDTbZs6byA"
   },
   "source": [
    "Categorical unique levels of each categorical variable"
   ]
  },
  {
   "cell_type": "code",
   "execution_count": 0,
   "metadata": {
    "colab": {
     "base_uri": "https://localhost:8080/",
     "height": 34
    },
    "colab_type": "code",
    "id": "BFt_KEqgUkKP",
    "outputId": "09ea981e-5594-4609-a55d-d03f7c0b1f2b"
   },
   "outputs": [
    {
     "name": "stdout",
     "output_type": "stream",
     "text": [
      "30 328 53 17 5 2 12 31 22 13\n"
     ]
    }
   ],
   "source": [
    "print(n_cat_levels, n_class_levels, n_loc_levels, n_cluster_levels,n_type_levels,n_date_levels,n_mon_levels,n_day_levels,n_city_levels,n_state_levels)"
   ]
  },
  {
   "cell_type": "code",
   "execution_count": 0,
   "metadata": {
    "colab": {},
    "colab_type": "code",
    "id": "0Yapt34OU_j7"
   },
   "outputs": [],
   "source": [
    "scaled_num_ind_attr_train, scaled_num_ind_attr_test, \\\n",
    "category_ind_attr_train, category_ind_attr_test, \\\n",
    "class_ind_attr_train, class_ind_attr_test, \\\n",
    "loc_ind_attr_train, loc_ind_attr_test, \\\n",
    "cluster_ind_attr_train, cluster_ind_attr_test, \\\n",
    "type_ind_attr_train, type_ind_attr_test, \\\n",
    "day_ind_attr_train, day_ind_attr_test, \\\n",
    "mon_ind_attr_train, mon_ind_attr_test, \\\n",
    "date_ind_attr_train, date_ind_attr_test, \\\n",
    "city_ind_attr_train,city_ind_attr_test, \\\n",
    "state_ind_attr_train,state_ind_attr_test, \\\n",
    "Y_train, Y_test = train_test_split(scaled_num_ind_attr,\n",
    "                                                         category_ind_attr, \n",
    "                                                         class_ind_attr, \n",
    "                                                         loc_ind_attr,\n",
    "                                                         cluster_ind_attr,\n",
    "                                                         type_ind_attr,\n",
    "                                                         day_ind_attr,\n",
    "                                                         mon_ind_attr,\n",
    "                                                         date_ind_attr,\n",
    "                                                         city_ind_attr,\n",
    "                                                         state_ind_attr,\n",
    "                                                         int_tar_attr_names,\n",
    "                                                         test_size=0.1, random_state=123)"
   ]
  },
  {
   "cell_type": "markdown",
   "metadata": {
    "colab_type": "text",
    "id": "E57qok4D6quY"
   },
   "source": [
    "**Categorical Embedding:**"
   ]
  },
  {
   "cell_type": "code",
   "execution_count": 0,
   "metadata": {
    "colab": {},
    "colab_type": "code",
    "id": "WcbNCMfsbYVK"
   },
   "outputs": [],
   "source": [
    "category_input = Input(shape=(1, ), name=\"category\")\n",
    "cat_embed = Embedding(input_dim=n_cat_levels, output_dim=8,)(category_input)"
   ]
  },
  {
   "cell_type": "code",
   "execution_count": 0,
   "metadata": {
    "colab": {},
    "colab_type": "code",
    "id": "9ANLAkOIbzFy"
   },
   "outputs": [],
   "source": [
    "class_input = Input(shape=(1, ), name=\"cls\")\n",
    "class_embed = Embedding(input_dim=n_class_levels, output_dim=20,)(class_input)"
   ]
  },
  {
   "cell_type": "code",
   "execution_count": 0,
   "metadata": {
    "colab": {},
    "colab_type": "code",
    "id": "9g0qCU-ScC3Z"
   },
   "outputs": [],
   "source": [
    "loc_input = Input(shape=(1, ), name=\"loc\")\n",
    "loc_embed = Embedding(input_dim=n_loc_levels, output_dim=6,)(loc_input)"
   ]
  },
  {
   "cell_type": "code",
   "execution_count": 0,
   "metadata": {
    "colab": {},
    "colab_type": "code",
    "id": "b1mO-DTRcNut"
   },
   "outputs": [],
   "source": [
    "cluster_input = Input(shape=(1, ), name=\"cluster\")\n",
    "cluster_embed = Embedding(input_dim=n_cluster_levels, output_dim=4,)(cluster_input)"
   ]
  },
  {
   "cell_type": "code",
   "execution_count": 0,
   "metadata": {
    "colab": {},
    "colab_type": "code",
    "id": "bWN_mjLMcYJw"
   },
   "outputs": [],
   "source": [
    "type_input = Input(shape=(1, ), name=\"type\")\n",
    "type_embed = Embedding(input_dim=n_type_levels, output_dim=2,)(type_input)"
   ]
  },
  {
   "cell_type": "code",
   "execution_count": 0,
   "metadata": {
    "colab": {},
    "colab_type": "code",
    "id": "5N-amkqRcg7h"
   },
   "outputs": [],
   "source": [
    "day_input = Input(shape=(1, ), name=\"day\")\n",
    "day_embed = Embedding(input_dim=n_day_levels, output_dim=7,)(day_input)"
   ]
  },
  {
   "cell_type": "code",
   "execution_count": 0,
   "metadata": {
    "colab": {},
    "colab_type": "code",
    "id": "HLUnry6OcooK"
   },
   "outputs": [],
   "source": [
    "mon_input = Input(shape=(1, ), name=\"mon\")\n",
    "mon_embed = Embedding(input_dim=n_mon_levels, output_dim=4,)(mon_input)"
   ]
  },
  {
   "cell_type": "code",
   "execution_count": 0,
   "metadata": {
    "colab": {},
    "colab_type": "code",
    "id": "7b9HfGgicz_i"
   },
   "outputs": [],
   "source": [
    "date_input = Input(shape=(1, ), name=\"week\")\n",
    "date_embed = Embedding(input_dim=n_date_levels, output_dim=3,)(date_input)"
   ]
  },
  {
   "cell_type": "code",
   "execution_count": 0,
   "metadata": {
    "colab": {},
    "colab_type": "code",
    "id": "aUn5znSPeKNv"
   },
   "outputs": [],
   "source": [
    "city_input = Input(shape=(1, ), name=\"city\")\n",
    "city_embed = Embedding(input_dim=n_city_levels, output_dim=5,)(city_input)"
   ]
  },
  {
   "cell_type": "code",
   "execution_count": 0,
   "metadata": {
    "colab": {},
    "colab_type": "code",
    "id": "DaCAXNaXeNqE"
   },
   "outputs": [],
   "source": [
    "state_input = Input(shape=(1, ), name=\"state\")\n",
    "state_embed = Embedding(input_dim=n_state_levels, output_dim=4,)(state_input)"
   ]
  },
  {
   "cell_type": "code",
   "execution_count": 0,
   "metadata": {
    "colab": {},
    "colab_type": "code",
    "id": "JMpBlB8YdBd_"
   },
   "outputs": [],
   "source": [
    "merge_cat_emb = concatenate([cat_embed, class_embed, loc_embed, cluster_embed,type_embed,day_embed,mon_embed,date_embed,city_embed,state_embed])\n",
    "merge_cat_emb_flat = Flatten()(merge_cat_emb)"
   ]
  },
  {
   "cell_type": "code",
   "execution_count": 0,
   "metadata": {
    "colab": {},
    "colab_type": "code",
    "id": "fgBNqBnYChh8"
   },
   "outputs": [],
   "source": [
    "from keras.layers import Dense, Dropout, BatchNormalization, Input"
   ]
  },
  {
   "cell_type": "markdown",
   "metadata": {
    "colab_type": "text",
    "id": "f-4tEN3D6x_4"
   },
   "source": [
    "**Defining Layers**"
   ]
  },
  {
   "cell_type": "code",
   "execution_count": 0,
   "metadata": {
    "colab": {},
    "colab_type": "code",
    "id": "mj1jl71jdiXX"
   },
   "outputs": [],
   "source": [
    "num_input = Input(shape=(scaled_num_ind_attr_train.shape[1], ))\n",
    "\n",
    "x = concatenate([merge_cat_emb_flat, num_input])\n",
    "x = Dense(10, activation= 'relu',kernel_initializer='glorot_normal')(x)\n",
    "x = BatchNormalization()(x)\n",
    "x = Dense(5, activation='relu',kernel_initializer='glorot_normal')(x)\n",
    "x = BatchNormalization()(x)\n",
    "output_layer = Dense(1, activation='linear',kernel_initializer=\"glorot_normal\")(x)\n",
    "\n",
    "model = Model(inputs=[category_input, class_input, loc_input, cluster_input,type_input,day_input,mon_input,date_input,city_input,state_input,num_input], outputs=output_layer)"
   ]
  },
  {
   "cell_type": "code",
   "execution_count": 0,
   "metadata": {
    "colab": {
     "base_uri": "https://localhost:8080/",
     "height": 1000
    },
    "colab_type": "code",
    "id": "ebx0D3WVes-E",
    "outputId": "af63a78f-253f-478e-9ca9-b5d479dafcd7"
   },
   "outputs": [
    {
     "name": "stdout",
     "output_type": "stream",
     "text": [
      "Model: \"model_6\"\n",
      "__________________________________________________________________________________________________\n",
      "Layer (type)                    Output Shape         Param #     Connected to                     \n",
      "==================================================================================================\n",
      "category (InputLayer)           (None, 1)            0                                            \n",
      "__________________________________________________________________________________________________\n",
      "cls (InputLayer)                (None, 1)            0                                            \n",
      "__________________________________________________________________________________________________\n",
      "loc (InputLayer)                (None, 1)            0                                            \n",
      "__________________________________________________________________________________________________\n",
      "cluster (InputLayer)            (None, 1)            0                                            \n",
      "__________________________________________________________________________________________________\n",
      "type (InputLayer)               (None, 1)            0                                            \n",
      "__________________________________________________________________________________________________\n",
      "day (InputLayer)                (None, 1)            0                                            \n",
      "__________________________________________________________________________________________________\n",
      "mon (InputLayer)                (None, 1)            0                                            \n",
      "__________________________________________________________________________________________________\n",
      "week (InputLayer)               (None, 1)            0                                            \n",
      "__________________________________________________________________________________________________\n",
      "city (InputLayer)               (None, 1)            0                                            \n",
      "__________________________________________________________________________________________________\n",
      "state (InputLayer)              (None, 1)            0                                            \n",
      "__________________________________________________________________________________________________\n",
      "embedding_13 (Embedding)        (None, 1, 8)         240         category[0][0]                   \n",
      "__________________________________________________________________________________________________\n",
      "embedding_14 (Embedding)        (None, 1, 20)        6560        cls[0][0]                        \n",
      "__________________________________________________________________________________________________\n",
      "embedding_15 (Embedding)        (None, 1, 6)         318         loc[0][0]                        \n",
      "__________________________________________________________________________________________________\n",
      "embedding_16 (Embedding)        (None, 1, 4)         68          cluster[0][0]                    \n",
      "__________________________________________________________________________________________________\n",
      "embedding_17 (Embedding)        (None, 1, 2)         10          type[0][0]                       \n",
      "__________________________________________________________________________________________________\n",
      "embedding_18 (Embedding)        (None, 1, 7)         217         day[0][0]                        \n",
      "__________________________________________________________________________________________________\n",
      "embedding_19 (Embedding)        (None, 1, 4)         48          mon[0][0]                        \n",
      "__________________________________________________________________________________________________\n",
      "embedding_20 (Embedding)        (None, 1, 3)         6           week[0][0]                       \n",
      "__________________________________________________________________________________________________\n",
      "embedding_21 (Embedding)        (None, 1, 5)         110         city[0][0]                       \n",
      "__________________________________________________________________________________________________\n",
      "embedding_22 (Embedding)        (None, 1, 4)         52          state[0][0]                      \n",
      "__________________________________________________________________________________________________\n",
      "concatenate_7 (Concatenate)     (None, 1, 63)        0           embedding_13[0][0]               \n",
      "                                                                 embedding_14[0][0]               \n",
      "                                                                 embedding_15[0][0]               \n",
      "                                                                 embedding_16[0][0]               \n",
      "                                                                 embedding_17[0][0]               \n",
      "                                                                 embedding_18[0][0]               \n",
      "                                                                 embedding_19[0][0]               \n",
      "                                                                 embedding_20[0][0]               \n",
      "                                                                 embedding_21[0][0]               \n",
      "                                                                 embedding_22[0][0]               \n",
      "__________________________________________________________________________________________________\n",
      "flatten_2 (Flatten)             (None, 63)           0           concatenate_7[0][0]              \n",
      "__________________________________________________________________________________________________\n",
      "input_7 (InputLayer)            (None, 2)            0                                            \n",
      "__________________________________________________________________________________________________\n",
      "concatenate_9 (Concatenate)     (None, 65)           0           flatten_2[0][0]                  \n",
      "                                                                 input_7[0][0]                    \n",
      "__________________________________________________________________________________________________\n",
      "dense_20 (Dense)                (None, 10)           660         concatenate_9[0][0]              \n",
      "__________________________________________________________________________________________________\n",
      "batch_normalization_13 (BatchNo (None, 10)           40          dense_20[0][0]                   \n",
      "__________________________________________________________________________________________________\n",
      "dense_21 (Dense)                (None, 5)            55          batch_normalization_13[0][0]     \n",
      "__________________________________________________________________________________________________\n",
      "batch_normalization_14 (BatchNo (None, 5)            20          dense_21[0][0]                   \n",
      "__________________________________________________________________________________________________\n",
      "dense_22 (Dense)                (None, 1)            6           batch_normalization_14[0][0]     \n",
      "==================================================================================================\n",
      "Total params: 8,410\n",
      "Trainable params: 8,380\n",
      "Non-trainable params: 30\n",
      "__________________________________________________________________________________________________\n"
     ]
    }
   ],
   "source": [
    "model.summary()"
   ]
  },
  {
   "cell_type": "code",
   "execution_count": 0,
   "metadata": {
    "colab": {},
    "colab_type": "code",
    "id": "BZ8CaSmzewGw"
   },
   "outputs": [],
   "source": [
    "model.compile(optimizer='adam', loss='mean_absolute_error')"
   ]
  },
  {
   "cell_type": "code",
   "execution_count": 0,
   "metadata": {
    "colab": {
     "base_uri": "https://localhost:8080/",
     "height": 1000
    },
    "colab_type": "code",
    "id": "QeJ-2rNee9kV",
    "outputId": "119296ca-5490-4ba3-8843-55b9ae82757a"
   },
   "outputs": [
    {
     "name": "stdout",
     "output_type": "stream",
     "text": [
      "Epoch 1/30\n",
      " - 63s - loss: 7.5453\n",
      "Epoch 2/30\n",
      " - 61s - loss: 6.1129\n",
      "Epoch 3/30\n",
      " - 61s - loss: 5.6434\n",
      "Epoch 4/30\n",
      " - 61s - loss: 5.5953\n",
      "Epoch 5/30\n",
      " - 61s - loss: 5.5887\n",
      "Epoch 6/30\n",
      " - 61s - loss: 5.5856\n",
      "Epoch 7/30\n",
      " - 61s - loss: 5.5839\n",
      "Epoch 8/30\n",
      " - 61s - loss: 5.5827\n",
      "Epoch 9/30\n",
      " - 61s - loss: 5.5818\n",
      "Epoch 10/30\n",
      " - 61s - loss: 5.5810\n",
      "Epoch 11/30\n",
      " - 61s - loss: 5.5802\n",
      "Epoch 12/30\n",
      " - 61s - loss: 5.5795\n",
      "Epoch 13/30\n",
      " - 62s - loss: 5.5788\n",
      "Epoch 14/30\n",
      " - 61s - loss: 5.5783\n",
      "Epoch 15/30\n",
      " - 61s - loss: 5.5776\n",
      "Epoch 16/30\n",
      " - 61s - loss: 5.5772\n",
      "Epoch 17/30\n",
      " - 61s - loss: 5.5768\n",
      "Epoch 18/30\n",
      " - 61s - loss: 5.5766\n",
      "Epoch 19/30\n",
      " - 61s - loss: 5.5763\n",
      "Epoch 20/30\n",
      " - 61s - loss: 5.5761\n",
      "Epoch 21/30\n",
      " - 61s - loss: 5.5760\n",
      "Epoch 22/30\n",
      " - 61s - loss: 5.5757\n",
      "Epoch 23/30\n",
      " - 61s - loss: 5.5755\n",
      "Epoch 24/30\n",
      " - 61s - loss: 5.5753\n",
      "Epoch 25/30\n",
      " - 61s - loss: 5.5751\n",
      "Epoch 26/30\n",
      " - 62s - loss: 5.5750\n",
      "Epoch 27/30\n",
      " - 62s - loss: 5.5749\n",
      "Epoch 28/30\n",
      " - 62s - loss: 5.5747\n",
      "Epoch 29/30\n",
      " - 61s - loss: 5.5746\n",
      "Epoch 30/30\n",
      " - 61s - loss: 5.5746\n"
     ]
    },
    {
     "data": {
      "text/plain": [
       "<keras.callbacks.History at 0x7fe8a0904eb8>"
      ]
     },
     "execution_count": 139,
     "metadata": {
      "tags": []
     },
     "output_type": "execute_result"
    }
   ],
   "source": [
    "model.fit([category_ind_attr_train, class_ind_attr_train,\n",
    "           loc_ind_attr_train, cluster_ind_attr_train,\n",
    "           type_ind_attr_train,day_ind_attr_train,\n",
    "           mon_ind_attr_train,date_ind_attr_train,\n",
    "           city_ind_attr_train,state_ind_attr_train, \n",
    "           scaled_num_ind_attr_train], \n",
    "          y=Y_train, \n",
    "          epochs=30, batch_size=100000,verbose=2)"
   ]
  },
  {
   "cell_type": "code",
   "execution_count": 0,
   "metadata": {
    "colab": {
     "base_uri": "https://localhost:8080/",
     "height": 51
    },
    "colab_type": "code",
    "id": "tD0L46avgMUh",
    "outputId": "e0ec7b21-e418-4709-a5cb-39500d847da5"
   },
   "outputs": [
    {
     "name": "stdout",
     "output_type": "stream",
     "text": [
      "3522987/3522987 [==============================] - 143s 41us/step\n"
     ]
    },
    {
     "data": {
      "text/plain": [
       "5.5775912435869195"
      ]
     },
     "execution_count": 141,
     "metadata": {
      "tags": []
     },
     "output_type": "execute_result"
    }
   ],
   "source": [
    "model.evaluate([category_ind_attr_test, class_ind_attr_test, loc_ind_attr_test, cluster_ind_attr_test,type_ind_attr_test,day_ind_attr_test,mon_ind_attr_test,date_ind_attr_test,city_ind_attr_test,state_ind_attr_test, scaled_num_ind_attr_test], Y_test)"
   ]
  },
  {
   "cell_type": "markdown",
   "metadata": {
    "colab_type": "text",
    "id": "45dgmBsW7G2k"
   },
   "source": [
    "Prediction on validation data"
   ]
  },
  {
   "cell_type": "code",
   "execution_count": 0,
   "metadata": {
    "colab": {},
    "colab_type": "code",
    "id": "6Xg8v3Cba3kR"
   },
   "outputs": [],
   "source": [
    "p = model.predict([category_ind_attr_test, class_ind_attr_test, loc_ind_attr_test, cluster_ind_attr_test,type_ind_attr_test,day_ind_attr_test,mon_ind_attr_test,date_ind_attr_test,city_ind_attr_test,state_ind_attr_test, scaled_num_ind_attr_test])"
   ]
  },
  {
   "cell_type": "code",
   "execution_count": 0,
   "metadata": {
    "colab": {
     "base_uri": "https://localhost:8080/",
     "height": 102
    },
    "colab_type": "code",
    "id": "Z-SiTCawa_iH",
    "outputId": "6fdaba4f-61c1-49f3-b276-960f22b0ac4b"
   },
   "outputs": [
    {
     "data": {
      "text/plain": [
       "array([[3.4850914],\n",
       "       [2.2349005],\n",
       "       [8.638496 ],\n",
       "       [1.850769 ],\n",
       "       [3.6067455]], dtype=float32)"
      ]
     },
     "execution_count": 143,
     "metadata": {
      "tags": []
     },
     "output_type": "execute_result"
    }
   ],
   "source": [
    "p[:5]"
   ]
  },
  {
   "cell_type": "code",
   "execution_count": 0,
   "metadata": {
    "colab": {},
    "colab_type": "code",
    "id": "yLarp8VEbt1R"
   },
   "outputs": [],
   "source": [
    "test = pd.read_csv('/content/drive/My Drive/PHD/test.csv')  # Reading Test Data"
   ]
  },
  {
   "cell_type": "code",
   "execution_count": 0,
   "metadata": {
    "colab": {
     "base_uri": "https://localhost:8080/",
     "height": 34
    },
    "colab_type": "code",
    "id": "1Y3qPlBub6JM",
    "outputId": "81d6e078-f3ff-4a4a-d2b5-100b1091bd07"
   },
   "outputs": [
    {
     "data": {
      "text/plain": [
       "(1482295, 5)"
      ]
     },
     "execution_count": 145,
     "metadata": {
      "tags": []
     },
     "output_type": "execute_result"
    }
   ],
   "source": [
    "test.shape"
   ]
  },
  {
   "cell_type": "code",
   "execution_count": 0,
   "metadata": {
    "colab": {},
    "colab_type": "code",
    "id": "9tEqX202b9Ye"
   },
   "outputs": [],
   "source": [
    "item_data = pd.read_csv(\"/content/drive/My Drive/PHD/item_details.csv\")\n",
    "location_data = pd.read_csv('/content/drive/My Drive/PHD/location_details.csv')"
   ]
  },
  {
   "cell_type": "code",
   "execution_count": 0,
   "metadata": {
    "colab": {},
    "colab_type": "code",
    "id": "6Y5vzj72cWXX"
   },
   "outputs": [],
   "source": [
    "test = pd.merge(test,location_data,left_on=\"locationId\",right_on=\"location_id\")"
   ]
  },
  {
   "cell_type": "code",
   "execution_count": 0,
   "metadata": {
    "colab": {},
    "colab_type": "code",
    "id": "aoOoGVgCdJMh"
   },
   "outputs": [],
   "source": [
    "del test['location_id']"
   ]
  },
  {
   "cell_type": "code",
   "execution_count": 0,
   "metadata": {
    "colab": {
     "base_uri": "https://localhost:8080/",
     "height": 204
    },
    "colab_type": "code",
    "id": "zycH3F74dLcg",
    "outputId": "532466b4-7051-4322-afc4-4a704f28c8d1"
   },
   "outputs": [
    {
     "data": {
      "text/html": [
       "<div>\n",
       "<style scoped>\n",
       "    .dataframe tbody tr th:only-of-type {\n",
       "        vertical-align: middle;\n",
       "    }\n",
       "\n",
       "    .dataframe tbody tr th {\n",
       "        vertical-align: top;\n",
       "    }\n",
       "\n",
       "    .dataframe thead th {\n",
       "        text-align: right;\n",
       "    }\n",
       "</style>\n",
       "<table border=\"1\" class=\"dataframe\">\n",
       "  <thead>\n",
       "    <tr style=\"text-align: right;\">\n",
       "      <th></th>\n",
       "      <th>id</th>\n",
       "      <th>date</th>\n",
       "      <th>locationId</th>\n",
       "      <th>item_id</th>\n",
       "      <th>onpromotion</th>\n",
       "      <th>city</th>\n",
       "      <th>state</th>\n",
       "      <th>type</th>\n",
       "      <th>cluster</th>\n",
       "    </tr>\n",
       "  </thead>\n",
       "  <tbody>\n",
       "    <tr>\n",
       "      <th>0</th>\n",
       "      <td>0</td>\n",
       "      <td>2019-01-01</td>\n",
       "      <td>location_25</td>\n",
       "      <td>item_99197</td>\n",
       "      <td>False</td>\n",
       "      <td>Kanpur</td>\n",
       "      <td>Uttar Pradesh</td>\n",
       "      <td>D</td>\n",
       "      <td>1</td>\n",
       "    </tr>\n",
       "    <tr>\n",
       "      <th>1</th>\n",
       "      <td>1</td>\n",
       "      <td>2019-01-01</td>\n",
       "      <td>location_25</td>\n",
       "      <td>item_103665</td>\n",
       "      <td>False</td>\n",
       "      <td>Kanpur</td>\n",
       "      <td>Uttar Pradesh</td>\n",
       "      <td>D</td>\n",
       "      <td>1</td>\n",
       "    </tr>\n",
       "    <tr>\n",
       "      <th>2</th>\n",
       "      <td>2</td>\n",
       "      <td>2019-01-01</td>\n",
       "      <td>location_25</td>\n",
       "      <td>item_105574</td>\n",
       "      <td>False</td>\n",
       "      <td>Kanpur</td>\n",
       "      <td>Uttar Pradesh</td>\n",
       "      <td>D</td>\n",
       "      <td>1</td>\n",
       "    </tr>\n",
       "    <tr>\n",
       "      <th>3</th>\n",
       "      <td>3</td>\n",
       "      <td>2019-01-01</td>\n",
       "      <td>location_25</td>\n",
       "      <td>item_105857</td>\n",
       "      <td>False</td>\n",
       "      <td>Kanpur</td>\n",
       "      <td>Uttar Pradesh</td>\n",
       "      <td>D</td>\n",
       "      <td>1</td>\n",
       "    </tr>\n",
       "    <tr>\n",
       "      <th>4</th>\n",
       "      <td>4</td>\n",
       "      <td>2019-01-01</td>\n",
       "      <td>location_25</td>\n",
       "      <td>item_106716</td>\n",
       "      <td>False</td>\n",
       "      <td>Kanpur</td>\n",
       "      <td>Uttar Pradesh</td>\n",
       "      <td>D</td>\n",
       "      <td>1</td>\n",
       "    </tr>\n",
       "  </tbody>\n",
       "</table>\n",
       "</div>"
      ],
      "text/plain": [
       "   id        date   locationId  ...          state  type cluster\n",
       "0   0  2019-01-01  location_25  ...  Uttar Pradesh     D       1\n",
       "1   1  2019-01-01  location_25  ...  Uttar Pradesh     D       1\n",
       "2   2  2019-01-01  location_25  ...  Uttar Pradesh     D       1\n",
       "3   3  2019-01-01  location_25  ...  Uttar Pradesh     D       1\n",
       "4   4  2019-01-01  location_25  ...  Uttar Pradesh     D       1\n",
       "\n",
       "[5 rows x 9 columns]"
      ]
     },
     "execution_count": 149,
     "metadata": {
      "tags": []
     },
     "output_type": "execute_result"
    }
   ],
   "source": [
    "test.head()"
   ]
  },
  {
   "cell_type": "code",
   "execution_count": 0,
   "metadata": {
    "colab": {},
    "colab_type": "code",
    "id": "lCU7nH7SdOTB"
   },
   "outputs": [],
   "source": [
    "test = pd.merge(test,item_data,left_on=\"item_id\",right_on=\"item_id\")"
   ]
  },
  {
   "cell_type": "code",
   "execution_count": 0,
   "metadata": {
    "colab": {
     "base_uri": "https://localhost:8080/",
     "height": 309
    },
    "colab_type": "code",
    "id": "hnBqI3X1dTA2",
    "outputId": "85c5af8b-4489-4125-a400-8be19853ac12"
   },
   "outputs": [
    {
     "data": {
      "text/html": [
       "<div>\n",
       "<style scoped>\n",
       "    .dataframe tbody tr th:only-of-type {\n",
       "        vertical-align: middle;\n",
       "    }\n",
       "\n",
       "    .dataframe tbody tr th {\n",
       "        vertical-align: top;\n",
       "    }\n",
       "\n",
       "    .dataframe thead th {\n",
       "        text-align: right;\n",
       "    }\n",
       "</style>\n",
       "<table border=\"1\" class=\"dataframe\">\n",
       "  <thead>\n",
       "    <tr style=\"text-align: right;\">\n",
       "      <th></th>\n",
       "      <th>id</th>\n",
       "      <th>date</th>\n",
       "      <th>locationId</th>\n",
       "      <th>item_id</th>\n",
       "      <th>onpromotion</th>\n",
       "      <th>city</th>\n",
       "      <th>state</th>\n",
       "      <th>type</th>\n",
       "      <th>cluster</th>\n",
       "      <th>category_of_item</th>\n",
       "      <th>class</th>\n",
       "      <th>perishable</th>\n",
       "    </tr>\n",
       "  </thead>\n",
       "  <tbody>\n",
       "    <tr>\n",
       "      <th>0</th>\n",
       "      <td>0</td>\n",
       "      <td>2019-01-01</td>\n",
       "      <td>location_25</td>\n",
       "      <td>item_99197</td>\n",
       "      <td>False</td>\n",
       "      <td>Kanpur</td>\n",
       "      <td>Uttar Pradesh</td>\n",
       "      <td>D</td>\n",
       "      <td>1</td>\n",
       "      <td>grocery_items</td>\n",
       "      <td>class_1067</td>\n",
       "      <td>0</td>\n",
       "    </tr>\n",
       "    <tr>\n",
       "      <th>1</th>\n",
       "      <td>164818</td>\n",
       "      <td>2019-01-03</td>\n",
       "      <td>location_25</td>\n",
       "      <td>item_99197</td>\n",
       "      <td>False</td>\n",
       "      <td>Kanpur</td>\n",
       "      <td>Uttar Pradesh</td>\n",
       "      <td>D</td>\n",
       "      <td>1</td>\n",
       "      <td>grocery_items</td>\n",
       "      <td>class_1067</td>\n",
       "      <td>0</td>\n",
       "    </tr>\n",
       "    <tr>\n",
       "      <th>2</th>\n",
       "      <td>273422</td>\n",
       "      <td>2019-01-04</td>\n",
       "      <td>location_25</td>\n",
       "      <td>item_99197</td>\n",
       "      <td>False</td>\n",
       "      <td>Kanpur</td>\n",
       "      <td>Uttar Pradesh</td>\n",
       "      <td>D</td>\n",
       "      <td>1</td>\n",
       "      <td>grocery_items</td>\n",
       "      <td>class_1067</td>\n",
       "      <td>0</td>\n",
       "    </tr>\n",
       "    <tr>\n",
       "      <th>3</th>\n",
       "      <td>378240</td>\n",
       "      <td>2019-01-05</td>\n",
       "      <td>location_25</td>\n",
       "      <td>item_99197</td>\n",
       "      <td>False</td>\n",
       "      <td>Kanpur</td>\n",
       "      <td>Uttar Pradesh</td>\n",
       "      <td>D</td>\n",
       "      <td>1</td>\n",
       "      <td>grocery_items</td>\n",
       "      <td>class_1067</td>\n",
       "      <td>0</td>\n",
       "    </tr>\n",
       "    <tr>\n",
       "      <th>4</th>\n",
       "      <td>587109</td>\n",
       "      <td>2019-01-07</td>\n",
       "      <td>location_25</td>\n",
       "      <td>item_99197</td>\n",
       "      <td>False</td>\n",
       "      <td>Kanpur</td>\n",
       "      <td>Uttar Pradesh</td>\n",
       "      <td>D</td>\n",
       "      <td>1</td>\n",
       "      <td>grocery_items</td>\n",
       "      <td>class_1067</td>\n",
       "      <td>0</td>\n",
       "    </tr>\n",
       "  </tbody>\n",
       "</table>\n",
       "</div>"
      ],
      "text/plain": [
       "       id        date   locationId  ... category_of_item       class perishable\n",
       "0       0  2019-01-01  location_25  ...    grocery_items  class_1067          0\n",
       "1  164818  2019-01-03  location_25  ...    grocery_items  class_1067          0\n",
       "2  273422  2019-01-04  location_25  ...    grocery_items  class_1067          0\n",
       "3  378240  2019-01-05  location_25  ...    grocery_items  class_1067          0\n",
       "4  587109  2019-01-07  location_25  ...    grocery_items  class_1067          0\n",
       "\n",
       "[5 rows x 12 columns]"
      ]
     },
     "execution_count": 151,
     "metadata": {
      "tags": []
     },
     "output_type": "execute_result"
    }
   ],
   "source": [
    "test.head()"
   ]
  },
  {
   "cell_type": "code",
   "execution_count": 0,
   "metadata": {
    "colab": {},
    "colab_type": "code",
    "id": "lijtDVEUdWhE"
   },
   "outputs": [],
   "source": [
    "test = test.sort_values(by='id')"
   ]
  },
  {
   "cell_type": "code",
   "execution_count": 0,
   "metadata": {
    "colab": {},
    "colab_type": "code",
    "id": "9yPG92lvdbLl"
   },
   "outputs": [],
   "source": [
    "test['date'] = pd.to_datetime(test['date'])\n",
    "test['mon'] = test['date'].dt.month\n",
    "test['day'] = test['date'].dt.day\n",
    "test['date'] = test['date'].dt.dayofweek"
   ]
  },
  {
   "cell_type": "code",
   "execution_count": 0,
   "metadata": {
    "colab": {},
    "colab_type": "code",
    "id": "gSvsMhTHdh9F"
   },
   "outputs": [],
   "source": [
    "test = test.drop(['item_id'],axis=1)"
   ]
  },
  {
   "cell_type": "code",
   "execution_count": 0,
   "metadata": {
    "colab": {},
    "colab_type": "code",
    "id": "I-KsIshidv1y"
   },
   "outputs": [],
   "source": [
    "test['type'] = test['type'].astype('object')\n",
    "test['cluster'] = test['cluster'].astype('object')\n",
    "test['class'] = test['class'].astype('object')\n",
    "test['category_of_item'] = test['category_of_item'].astype('object')\n",
    "test['onpromotion'] = test['onpromotion'].astype('object')\n",
    "test['locationId'] = test['locationId'].astype('object')\n",
    "test['day'] = test['day'].astype('object')\n",
    "test['date'] = test['onpromotion'].astype('object')\n",
    "test['mon'] = test['mon'].astype('object')\n",
    "test['perishable'] = test['perishable'].astype('int8')\n",
    "test['city'] = test['city'].astype('object')\n",
    "test['state'] = test['state'].astype('object')"
   ]
  },
  {
   "cell_type": "code",
   "execution_count": 0,
   "metadata": {
    "colab": {
     "base_uri": "https://localhost:8080/",
     "height": 204
    },
    "colab_type": "code",
    "id": "Blb6LcF7eW_4",
    "outputId": "6591c4ed-1293-4f17-b408-32536941a8d7"
   },
   "outputs": [
    {
     "name": "stdout",
     "output_type": "stream",
     "text": [
      "date\n",
      "locationId\n",
      "onpromotion\n",
      "city\n",
      "state\n",
      "type\n",
      "cluster\n",
      "category_of_item\n",
      "class\n",
      "mon\n",
      "day\n"
     ]
    }
   ],
   "source": [
    "test = df_lbl_enc(test)   #label encoding"
   ]
  },
  {
   "cell_type": "code",
   "execution_count": 0,
   "metadata": {
    "colab": {
     "base_uri": "https://localhost:8080/",
     "height": 255
    },
    "colab_type": "code",
    "id": "8q08gkZOfjpJ",
    "outputId": "b583fc77-141a-400f-cbb6-075af748a867"
   },
   "outputs": [
    {
     "data": {
      "text/plain": [
       "id                  int64\n",
       "date                int64\n",
       "locationId          int64\n",
       "onpromotion         int64\n",
       "city                int64\n",
       "state               int64\n",
       "type                int64\n",
       "cluster             int64\n",
       "category_of_item    int64\n",
       "class               int64\n",
       "perishable           int8\n",
       "mon                 int64\n",
       "day                 int64\n",
       "dtype: object"
      ]
     },
     "execution_count": 157,
     "metadata": {
      "tags": []
     },
     "output_type": "execute_result"
    }
   ],
   "source": [
    "test.dtypes"
   ]
  },
  {
   "cell_type": "code",
   "execution_count": 0,
   "metadata": {
    "colab": {},
    "colab_type": "code",
    "id": "yJdSTgwdfwzE"
   },
   "outputs": [],
   "source": [
    "for col in ['date', 'locationId', 'type', 'cluster', 'category_of_item','class','mon','day','city','state']:\n",
    "    test[col] = test[col].astype('category')"
   ]
  },
  {
   "cell_type": "code",
   "execution_count": 0,
   "metadata": {
    "colab": {
     "base_uri": "https://localhost:8080/",
     "height": 255
    },
    "colab_type": "code",
    "id": "yVF4K90df2oD",
    "outputId": "f946c236-39bd-4e9b-c341-407d1fe7b9c1"
   },
   "outputs": [
    {
     "data": {
      "text/plain": [
       "id                     int64\n",
       "date                category\n",
       "locationId          category\n",
       "onpromotion            int64\n",
       "city                category\n",
       "state               category\n",
       "type                category\n",
       "cluster             category\n",
       "category_of_item    category\n",
       "class               category\n",
       "perishable              int8\n",
       "mon                 category\n",
       "day                 category\n",
       "dtype: object"
      ]
     },
     "execution_count": 159,
     "metadata": {
      "tags": []
     },
     "output_type": "execute_result"
    }
   ],
   "source": [
    "test.dtypes"
   ]
  },
  {
   "cell_type": "code",
   "execution_count": 0,
   "metadata": {
    "colab": {},
    "colab_type": "code",
    "id": "CJv1Bw41gOQn"
   },
   "outputs": [],
   "source": [
    "submission = test[['id']].copy()"
   ]
  },
  {
   "cell_type": "code",
   "execution_count": 0,
   "metadata": {
    "colab": {
     "base_uri": "https://localhost:8080/",
     "height": 111
    },
    "colab_type": "code",
    "id": "MwLqChlIgQG4",
    "outputId": "e5370fc9-b5b5-4441-8324-708f4cbda977"
   },
   "outputs": [
    {
     "data": {
      "text/html": [
       "<div>\n",
       "<style scoped>\n",
       "    .dataframe tbody tr th:only-of-type {\n",
       "        vertical-align: middle;\n",
       "    }\n",
       "\n",
       "    .dataframe tbody tr th {\n",
       "        vertical-align: top;\n",
       "    }\n",
       "\n",
       "    .dataframe thead th {\n",
       "        text-align: right;\n",
       "    }\n",
       "</style>\n",
       "<table border=\"1\" class=\"dataframe\">\n",
       "  <thead>\n",
       "    <tr style=\"text-align: right;\">\n",
       "      <th></th>\n",
       "      <th>id</th>\n",
       "      <th>date</th>\n",
       "      <th>locationId</th>\n",
       "      <th>onpromotion</th>\n",
       "      <th>city</th>\n",
       "      <th>state</th>\n",
       "      <th>type</th>\n",
       "      <th>cluster</th>\n",
       "      <th>category_of_item</th>\n",
       "      <th>class</th>\n",
       "      <th>perishable</th>\n",
       "      <th>mon</th>\n",
       "      <th>day</th>\n",
       "    </tr>\n",
       "  </thead>\n",
       "  <tbody>\n",
       "    <tr>\n",
       "      <th>0</th>\n",
       "      <td>0</td>\n",
       "      <td>0</td>\n",
       "      <td>17</td>\n",
       "      <td>0</td>\n",
       "      <td>10</td>\n",
       "      <td>11</td>\n",
       "      <td>3</td>\n",
       "      <td>0</td>\n",
       "      <td>8</td>\n",
       "      <td>42</td>\n",
       "      <td>0</td>\n",
       "      <td>0</td>\n",
       "      <td>0</td>\n",
       "    </tr>\n",
       "    <tr>\n",
       "      <th>173</th>\n",
       "      <td>1</td>\n",
       "      <td>0</td>\n",
       "      <td>17</td>\n",
       "      <td>0</td>\n",
       "      <td>10</td>\n",
       "      <td>11</td>\n",
       "      <td>3</td>\n",
       "      <td>0</td>\n",
       "      <td>0</td>\n",
       "      <td>179</td>\n",
       "      <td>1</td>\n",
       "      <td>0</td>\n",
       "      <td>0</td>\n",
       "    </tr>\n",
       "  </tbody>\n",
       "</table>\n",
       "</div>"
      ],
      "text/plain": [
       "     id date locationId  onpromotion  ... class perishable mon day\n",
       "0     0    0         17            0  ...    42          0   0   0\n",
       "173   1    0         17            0  ...   179          1   0   0\n",
       "\n",
       "[2 rows x 13 columns]"
      ]
     },
     "execution_count": 162,
     "metadata": {
      "tags": []
     },
     "output_type": "execute_result"
    }
   ],
   "source": [
    "test.head(2)"
   ]
  },
  {
   "cell_type": "code",
   "execution_count": 0,
   "metadata": {
    "colab": {},
    "colab_type": "code",
    "id": "ZK7wE2m_gUFh"
   },
   "outputs": [],
   "source": [
    "del test['id']"
   ]
  },
  {
   "cell_type": "code",
   "execution_count": 0,
   "metadata": {
    "colab": {},
    "colab_type": "code",
    "id": "eFO8IBQ7f6wn"
   },
   "outputs": [],
   "source": [
    "num_ind_attr_names_test = test.select_dtypes(include=['int64','int8']).columns"
   ]
  },
  {
   "cell_type": "code",
   "execution_count": 0,
   "metadata": {
    "colab": {
     "base_uri": "https://localhost:8080/",
     "height": 204
    },
    "colab_type": "code",
    "id": "SXqzfSMQgeEN",
    "outputId": "312eb72f-6a85-484f-eca7-4d0c9086d805"
   },
   "outputs": [
    {
     "data": {
      "text/html": [
       "<div>\n",
       "<style scoped>\n",
       "    .dataframe tbody tr th:only-of-type {\n",
       "        vertical-align: middle;\n",
       "    }\n",
       "\n",
       "    .dataframe tbody tr th {\n",
       "        vertical-align: top;\n",
       "    }\n",
       "\n",
       "    .dataframe thead th {\n",
       "        text-align: right;\n",
       "    }\n",
       "</style>\n",
       "<table border=\"1\" class=\"dataframe\">\n",
       "  <thead>\n",
       "    <tr style=\"text-align: right;\">\n",
       "      <th></th>\n",
       "      <th>onpromotion</th>\n",
       "      <th>perishable</th>\n",
       "    </tr>\n",
       "  </thead>\n",
       "  <tbody>\n",
       "    <tr>\n",
       "      <th>0</th>\n",
       "      <td>0</td>\n",
       "      <td>0</td>\n",
       "    </tr>\n",
       "    <tr>\n",
       "      <th>173</th>\n",
       "      <td>0</td>\n",
       "      <td>1</td>\n",
       "    </tr>\n",
       "    <tr>\n",
       "      <th>637</th>\n",
       "      <td>0</td>\n",
       "      <td>0</td>\n",
       "    </tr>\n",
       "    <tr>\n",
       "      <th>990</th>\n",
       "      <td>0</td>\n",
       "      <td>0</td>\n",
       "    </tr>\n",
       "    <tr>\n",
       "      <th>1518</th>\n",
       "      <td>0</td>\n",
       "      <td>0</td>\n",
       "    </tr>\n",
       "  </tbody>\n",
       "</table>\n",
       "</div>"
      ],
      "text/plain": [
       "      onpromotion  perishable\n",
       "0               0           0\n",
       "173             0           1\n",
       "637             0           0\n",
       "990             0           0\n",
       "1518            0           0"
      ]
     },
     "execution_count": 165,
     "metadata": {
      "tags": []
     },
     "output_type": "execute_result"
    }
   ],
   "source": [
    "num_ind_attr_test = test[num_ind_attr_names]\n",
    "num_ind_attr_test.head()"
   ]
  },
  {
   "cell_type": "code",
   "execution_count": 0,
   "metadata": {
    "colab": {},
    "colab_type": "code",
    "id": "tLWRpDaQgs1U"
   },
   "outputs": [],
   "source": [
    "scaler = MinMaxScaler()\n",
    "\n",
    "scaled_num_ind_attr1 = scaler.fit_transform(num_ind_attr_test) "
   ]
  },
  {
   "cell_type": "code",
   "execution_count": 0,
   "metadata": {
    "colab": {},
    "colab_type": "code",
    "id": "k39-9Uc5hMGH"
   },
   "outputs": [],
   "source": [
    "category_ind_attr1 = test.category_of_item.values\n",
    "class_ind_attr1 = test['class'].values\n",
    "loc_ind_attr1 = test.locationId.values\n",
    "cluster_ind_attr1 = test.cluster.values \n",
    "type_ind_attr1 = test['type'].values\n",
    "day_ind_attr1 = test.day.values\n",
    "mon_ind_attr1 = test.mon.values\n",
    "date_ind_attr1 = test.date.values\n",
    "city_ind_attr1 = test.city.values\n",
    "state_ind_attr1 = test.state.values"
   ]
  },
  {
   "cell_type": "markdown",
   "metadata": {
    "colab_type": "text",
    "id": "PHCYJLIT7mRY"
   },
   "source": [
    "Prediction on Test Data"
   ]
  },
  {
   "cell_type": "code",
   "execution_count": 0,
   "metadata": {
    "colab": {},
    "colab_type": "code",
    "id": "QCtCCNvqhgIb"
   },
   "outputs": [],
   "source": [
    "prediction = model.predict([category_ind_attr1, class_ind_attr1, loc_ind_attr1, cluster_ind_attr1,type_ind_attr1,day_ind_attr1,mon_ind_attr1,date_ind_attr1,city_ind_attr1,state_ind_attr1, scaled_num_ind_attr1])"
   ]
  },
  {
   "cell_type": "code",
   "execution_count": 0,
   "metadata": {
    "colab": {
     "base_uri": "https://localhost:8080/",
     "height": 136
    },
    "colab_type": "code",
    "id": "PZR8tfzxh_H0",
    "outputId": "83b0b0b9-68ca-4e88-fbbd-c76113a40602"
   },
   "outputs": [
    {
     "data": {
      "text/plain": [
       "array([[1.3641617],\n",
       "       [3.10124  ],\n",
       "       [3.3014731],\n",
       "       ...,\n",
       "       [2.2457972],\n",
       "       [2.2457972],\n",
       "       [2.2457972]], dtype=float32)"
      ]
     },
     "execution_count": 169,
     "metadata": {
      "tags": []
     },
     "output_type": "execute_result"
    }
   ],
   "source": [
    "prediction"
   ]
  },
  {
   "cell_type": "code",
   "execution_count": 0,
   "metadata": {
    "colab": {},
    "colab_type": "code",
    "id": "5PBMIIEKiX6P"
   },
   "outputs": [],
   "source": [
    "submission['unit_sales'] = prediction"
   ]
  },
  {
   "cell_type": "code",
   "execution_count": 0,
   "metadata": {
    "colab": {
     "base_uri": "https://localhost:8080/",
     "height": 34
    },
    "colab_type": "code",
    "id": "gD1WnlSwinkZ",
    "outputId": "3d4d6571-e704-4622-9dcd-b4a55892efab"
   },
   "outputs": [
    {
     "data": {
      "text/plain": [
       "(1482295, 2)"
      ]
     },
     "execution_count": 172,
     "metadata": {
      "tags": []
     },
     "output_type": "execute_result"
    }
   ],
   "source": [
    "submission.shape"
   ]
  },
  {
   "cell_type": "markdown",
   "metadata": {
    "colab_type": "text",
    "id": "ajfijvW3mjII"
   },
   "source": [
    "Submission File:"
   ]
  },
  {
   "cell_type": "code",
   "execution_count": 0,
   "metadata": {
    "colab": {},
    "colab_type": "code",
    "id": "bVF0PrnZird0"
   },
   "outputs": [],
   "source": [
    "submission.to_csv('submissionnnwithout_idnewstate.csv',index=False)"
   ]
  },
  {
   "cell_type": "markdown",
   "metadata": {
    "colab_type": "text",
    "id": "az6mrKY5A0X3"
   },
   "source": [
    "# **Answering Operations Team at Small Basket**"
   ]
  },
  {
   "cell_type": "code",
   "execution_count": 0,
   "metadata": {
    "colab": {},
    "colab_type": "code",
    "id": "CGPYXZoxjGdM"
   },
   "outputs": [],
   "source": [
    "test1 = pd.read_csv('/content/drive/My Drive/PHD/test.csv')"
   ]
  },
  {
   "cell_type": "code",
   "execution_count": 0,
   "metadata": {
    "colab": {},
    "colab_type": "code",
    "id": "UlkRaUovBF-T"
   },
   "outputs": [],
   "source": [
    "item_data = pd.read_csv(\"/content/drive/My Drive/PHD/item_details.csv\")\n",
    "location_data = pd.read_csv('/content/drive/My Drive/PHD/location_details.csv')"
   ]
  },
  {
   "cell_type": "code",
   "execution_count": 0,
   "metadata": {
    "colab": {},
    "colab_type": "code",
    "id": "MMtVkGvZBNCD"
   },
   "outputs": [],
   "source": [
    "test_loc = pd.merge(test1,location_data,left_on=\"locationId\",right_on=\"location_id\")"
   ]
  },
  {
   "cell_type": "code",
   "execution_count": 14,
   "metadata": {
    "colab": {
     "base_uri": "https://localhost:8080/",
     "height": 204
    },
    "colab_type": "code",
    "id": "jGBvSRQkBTgH",
    "outputId": "64183e31-2a4f-4a55-dd76-522928f0cd0f"
   },
   "outputs": [
    {
     "data": {
      "text/html": [
       "<div>\n",
       "<style scoped>\n",
       "    .dataframe tbody tr th:only-of-type {\n",
       "        vertical-align: middle;\n",
       "    }\n",
       "\n",
       "    .dataframe tbody tr th {\n",
       "        vertical-align: top;\n",
       "    }\n",
       "\n",
       "    .dataframe thead th {\n",
       "        text-align: right;\n",
       "    }\n",
       "</style>\n",
       "<table border=\"1\" class=\"dataframe\">\n",
       "  <thead>\n",
       "    <tr style=\"text-align: right;\">\n",
       "      <th></th>\n",
       "      <th>id</th>\n",
       "      <th>date</th>\n",
       "      <th>locationId</th>\n",
       "      <th>item_id</th>\n",
       "      <th>onpromotion</th>\n",
       "      <th>location_id</th>\n",
       "      <th>city</th>\n",
       "      <th>state</th>\n",
       "      <th>type</th>\n",
       "      <th>cluster</th>\n",
       "    </tr>\n",
       "  </thead>\n",
       "  <tbody>\n",
       "    <tr>\n",
       "      <th>0</th>\n",
       "      <td>0</td>\n",
       "      <td>2019-01-01</td>\n",
       "      <td>location_25</td>\n",
       "      <td>item_99197</td>\n",
       "      <td>False</td>\n",
       "      <td>location_25</td>\n",
       "      <td>Kanpur</td>\n",
       "      <td>Uttar Pradesh</td>\n",
       "      <td>D</td>\n",
       "      <td>1</td>\n",
       "    </tr>\n",
       "    <tr>\n",
       "      <th>1</th>\n",
       "      <td>1</td>\n",
       "      <td>2019-01-01</td>\n",
       "      <td>location_25</td>\n",
       "      <td>item_103665</td>\n",
       "      <td>False</td>\n",
       "      <td>location_25</td>\n",
       "      <td>Kanpur</td>\n",
       "      <td>Uttar Pradesh</td>\n",
       "      <td>D</td>\n",
       "      <td>1</td>\n",
       "    </tr>\n",
       "    <tr>\n",
       "      <th>2</th>\n",
       "      <td>2</td>\n",
       "      <td>2019-01-01</td>\n",
       "      <td>location_25</td>\n",
       "      <td>item_105574</td>\n",
       "      <td>False</td>\n",
       "      <td>location_25</td>\n",
       "      <td>Kanpur</td>\n",
       "      <td>Uttar Pradesh</td>\n",
       "      <td>D</td>\n",
       "      <td>1</td>\n",
       "    </tr>\n",
       "    <tr>\n",
       "      <th>3</th>\n",
       "      <td>3</td>\n",
       "      <td>2019-01-01</td>\n",
       "      <td>location_25</td>\n",
       "      <td>item_105857</td>\n",
       "      <td>False</td>\n",
       "      <td>location_25</td>\n",
       "      <td>Kanpur</td>\n",
       "      <td>Uttar Pradesh</td>\n",
       "      <td>D</td>\n",
       "      <td>1</td>\n",
       "    </tr>\n",
       "    <tr>\n",
       "      <th>4</th>\n",
       "      <td>4</td>\n",
       "      <td>2019-01-01</td>\n",
       "      <td>location_25</td>\n",
       "      <td>item_106716</td>\n",
       "      <td>False</td>\n",
       "      <td>location_25</td>\n",
       "      <td>Kanpur</td>\n",
       "      <td>Uttar Pradesh</td>\n",
       "      <td>D</td>\n",
       "      <td>1</td>\n",
       "    </tr>\n",
       "  </tbody>\n",
       "</table>\n",
       "</div>"
      ],
      "text/plain": [
       "   id        date   locationId  ...          state  type cluster\n",
       "0   0  2019-01-01  location_25  ...  Uttar Pradesh     D       1\n",
       "1   1  2019-01-01  location_25  ...  Uttar Pradesh     D       1\n",
       "2   2  2019-01-01  location_25  ...  Uttar Pradesh     D       1\n",
       "3   3  2019-01-01  location_25  ...  Uttar Pradesh     D       1\n",
       "4   4  2019-01-01  location_25  ...  Uttar Pradesh     D       1\n",
       "\n",
       "[5 rows x 10 columns]"
      ]
     },
     "execution_count": 14,
     "metadata": {
      "tags": []
     },
     "output_type": "execute_result"
    }
   ],
   "source": [
    "test_loc.head()"
   ]
  },
  {
   "cell_type": "code",
   "execution_count": 0,
   "metadata": {
    "colab": {},
    "colab_type": "code",
    "id": "jvBwfbMuBaUT"
   },
   "outputs": [],
   "source": [
    "del test_loc['location_id']"
   ]
  },
  {
   "cell_type": "code",
   "execution_count": 0,
   "metadata": {
    "colab": {},
    "colab_type": "code",
    "id": "Vz4R4sO_BmuU"
   },
   "outputs": [],
   "source": [
    "test_loc_item = pd.merge(test_loc,item_data,left_on=\"item_id\",right_on=\"item_id\")"
   ]
  },
  {
   "cell_type": "code",
   "execution_count": 17,
   "metadata": {
    "colab": {
     "base_uri": "https://localhost:8080/",
     "height": 204
    },
    "colab_type": "code",
    "id": "hu4cp54HB6aJ",
    "outputId": "07aad2be-1f40-4498-8448-01b40f0817c9"
   },
   "outputs": [
    {
     "data": {
      "text/html": [
       "<div>\n",
       "<style scoped>\n",
       "    .dataframe tbody tr th:only-of-type {\n",
       "        vertical-align: middle;\n",
       "    }\n",
       "\n",
       "    .dataframe tbody tr th {\n",
       "        vertical-align: top;\n",
       "    }\n",
       "\n",
       "    .dataframe thead th {\n",
       "        text-align: right;\n",
       "    }\n",
       "</style>\n",
       "<table border=\"1\" class=\"dataframe\">\n",
       "  <thead>\n",
       "    <tr style=\"text-align: right;\">\n",
       "      <th></th>\n",
       "      <th>id</th>\n",
       "      <th>date</th>\n",
       "      <th>locationId</th>\n",
       "      <th>item_id</th>\n",
       "      <th>onpromotion</th>\n",
       "      <th>city</th>\n",
       "      <th>state</th>\n",
       "      <th>type</th>\n",
       "      <th>cluster</th>\n",
       "      <th>category_of_item</th>\n",
       "      <th>class</th>\n",
       "      <th>perishable</th>\n",
       "    </tr>\n",
       "  </thead>\n",
       "  <tbody>\n",
       "    <tr>\n",
       "      <th>0</th>\n",
       "      <td>0</td>\n",
       "      <td>2019-01-01</td>\n",
       "      <td>location_25</td>\n",
       "      <td>item_99197</td>\n",
       "      <td>False</td>\n",
       "      <td>Kanpur</td>\n",
       "      <td>Uttar Pradesh</td>\n",
       "      <td>D</td>\n",
       "      <td>1</td>\n",
       "      <td>grocery_items</td>\n",
       "      <td>class_1067</td>\n",
       "      <td>0</td>\n",
       "    </tr>\n",
       "    <tr>\n",
       "      <th>1</th>\n",
       "      <td>164818</td>\n",
       "      <td>2019-01-03</td>\n",
       "      <td>location_25</td>\n",
       "      <td>item_99197</td>\n",
       "      <td>False</td>\n",
       "      <td>Kanpur</td>\n",
       "      <td>Uttar Pradesh</td>\n",
       "      <td>D</td>\n",
       "      <td>1</td>\n",
       "      <td>grocery_items</td>\n",
       "      <td>class_1067</td>\n",
       "      <td>0</td>\n",
       "    </tr>\n",
       "    <tr>\n",
       "      <th>2</th>\n",
       "      <td>273422</td>\n",
       "      <td>2019-01-04</td>\n",
       "      <td>location_25</td>\n",
       "      <td>item_99197</td>\n",
       "      <td>False</td>\n",
       "      <td>Kanpur</td>\n",
       "      <td>Uttar Pradesh</td>\n",
       "      <td>D</td>\n",
       "      <td>1</td>\n",
       "      <td>grocery_items</td>\n",
       "      <td>class_1067</td>\n",
       "      <td>0</td>\n",
       "    </tr>\n",
       "    <tr>\n",
       "      <th>3</th>\n",
       "      <td>378240</td>\n",
       "      <td>2019-01-05</td>\n",
       "      <td>location_25</td>\n",
       "      <td>item_99197</td>\n",
       "      <td>False</td>\n",
       "      <td>Kanpur</td>\n",
       "      <td>Uttar Pradesh</td>\n",
       "      <td>D</td>\n",
       "      <td>1</td>\n",
       "      <td>grocery_items</td>\n",
       "      <td>class_1067</td>\n",
       "      <td>0</td>\n",
       "    </tr>\n",
       "    <tr>\n",
       "      <th>4</th>\n",
       "      <td>587109</td>\n",
       "      <td>2019-01-07</td>\n",
       "      <td>location_25</td>\n",
       "      <td>item_99197</td>\n",
       "      <td>False</td>\n",
       "      <td>Kanpur</td>\n",
       "      <td>Uttar Pradesh</td>\n",
       "      <td>D</td>\n",
       "      <td>1</td>\n",
       "      <td>grocery_items</td>\n",
       "      <td>class_1067</td>\n",
       "      <td>0</td>\n",
       "    </tr>\n",
       "  </tbody>\n",
       "</table>\n",
       "</div>"
      ],
      "text/plain": [
       "       id        date   locationId  ... category_of_item       class perishable\n",
       "0       0  2019-01-01  location_25  ...    grocery_items  class_1067          0\n",
       "1  164818  2019-01-03  location_25  ...    grocery_items  class_1067          0\n",
       "2  273422  2019-01-04  location_25  ...    grocery_items  class_1067          0\n",
       "3  378240  2019-01-05  location_25  ...    grocery_items  class_1067          0\n",
       "4  587109  2019-01-07  location_25  ...    grocery_items  class_1067          0\n",
       "\n",
       "[5 rows x 12 columns]"
      ]
     },
     "execution_count": 17,
     "metadata": {
      "tags": []
     },
     "output_type": "execute_result"
    }
   ],
   "source": [
    "test_loc_item.head()"
   ]
  },
  {
   "cell_type": "code",
   "execution_count": 0,
   "metadata": {
    "colab": {},
    "colab_type": "code",
    "id": "-gR9K4hMB9d7"
   },
   "outputs": [],
   "source": [
    "test_loc_item = test_loc_item.sort_values(by = 'id')"
   ]
  },
  {
   "cell_type": "code",
   "execution_count": 19,
   "metadata": {
    "colab": {
     "base_uri": "https://localhost:8080/",
     "height": 204
    },
    "colab_type": "code",
    "id": "NLX5StHcCIZn",
    "outputId": "9693605a-5ceb-4b6a-a3c1-0137cba119ea"
   },
   "outputs": [
    {
     "data": {
      "text/html": [
       "<div>\n",
       "<style scoped>\n",
       "    .dataframe tbody tr th:only-of-type {\n",
       "        vertical-align: middle;\n",
       "    }\n",
       "\n",
       "    .dataframe tbody tr th {\n",
       "        vertical-align: top;\n",
       "    }\n",
       "\n",
       "    .dataframe thead th {\n",
       "        text-align: right;\n",
       "    }\n",
       "</style>\n",
       "<table border=\"1\" class=\"dataframe\">\n",
       "  <thead>\n",
       "    <tr style=\"text-align: right;\">\n",
       "      <th></th>\n",
       "      <th>id</th>\n",
       "      <th>date</th>\n",
       "      <th>locationId</th>\n",
       "      <th>item_id</th>\n",
       "      <th>onpromotion</th>\n",
       "      <th>city</th>\n",
       "      <th>state</th>\n",
       "      <th>type</th>\n",
       "      <th>cluster</th>\n",
       "      <th>category_of_item</th>\n",
       "      <th>class</th>\n",
       "      <th>perishable</th>\n",
       "    </tr>\n",
       "  </thead>\n",
       "  <tbody>\n",
       "    <tr>\n",
       "      <th>0</th>\n",
       "      <td>0</td>\n",
       "      <td>2019-01-01</td>\n",
       "      <td>location_25</td>\n",
       "      <td>item_99197</td>\n",
       "      <td>False</td>\n",
       "      <td>Kanpur</td>\n",
       "      <td>Uttar Pradesh</td>\n",
       "      <td>D</td>\n",
       "      <td>1</td>\n",
       "      <td>grocery_items</td>\n",
       "      <td>class_1067</td>\n",
       "      <td>0</td>\n",
       "    </tr>\n",
       "    <tr>\n",
       "      <th>173</th>\n",
       "      <td>1</td>\n",
       "      <td>2019-01-01</td>\n",
       "      <td>location_25</td>\n",
       "      <td>item_103665</td>\n",
       "      <td>False</td>\n",
       "      <td>Kanpur</td>\n",
       "      <td>Uttar Pradesh</td>\n",
       "      <td>D</td>\n",
       "      <td>1</td>\n",
       "      <td>baked_items / bread_based</td>\n",
       "      <td>class_2712</td>\n",
       "      <td>1</td>\n",
       "    </tr>\n",
       "    <tr>\n",
       "      <th>637</th>\n",
       "      <td>2</td>\n",
       "      <td>2019-01-01</td>\n",
       "      <td>location_25</td>\n",
       "      <td>item_105574</td>\n",
       "      <td>False</td>\n",
       "      <td>Kanpur</td>\n",
       "      <td>Uttar Pradesh</td>\n",
       "      <td>D</td>\n",
       "      <td>1</td>\n",
       "      <td>grocery_items</td>\n",
       "      <td>class_1045</td>\n",
       "      <td>0</td>\n",
       "    </tr>\n",
       "    <tr>\n",
       "      <th>990</th>\n",
       "      <td>3</td>\n",
       "      <td>2019-01-01</td>\n",
       "      <td>location_25</td>\n",
       "      <td>item_105857</td>\n",
       "      <td>False</td>\n",
       "      <td>Kanpur</td>\n",
       "      <td>Uttar Pradesh</td>\n",
       "      <td>D</td>\n",
       "      <td>1</td>\n",
       "      <td>grocery_items</td>\n",
       "      <td>class_1092</td>\n",
       "      <td>0</td>\n",
       "    </tr>\n",
       "    <tr>\n",
       "      <th>1518</th>\n",
       "      <td>4</td>\n",
       "      <td>2019-01-01</td>\n",
       "      <td>location_25</td>\n",
       "      <td>item_106716</td>\n",
       "      <td>False</td>\n",
       "      <td>Kanpur</td>\n",
       "      <td>Uttar Pradesh</td>\n",
       "      <td>D</td>\n",
       "      <td>1</td>\n",
       "      <td>grocery_items</td>\n",
       "      <td>class_1032</td>\n",
       "      <td>0</td>\n",
       "    </tr>\n",
       "  </tbody>\n",
       "</table>\n",
       "</div>"
      ],
      "text/plain": [
       "      id        date  ...       class perishable\n",
       "0      0  2019-01-01  ...  class_1067          0\n",
       "173    1  2019-01-01  ...  class_2712          1\n",
       "637    2  2019-01-01  ...  class_1045          0\n",
       "990    3  2019-01-01  ...  class_1092          0\n",
       "1518   4  2019-01-01  ...  class_1032          0\n",
       "\n",
       "[5 rows x 12 columns]"
      ]
     },
     "execution_count": 19,
     "metadata": {
      "tags": []
     },
     "output_type": "execute_result"
    }
   ],
   "source": [
    "test_loc_item.head()"
   ]
  },
  {
   "cell_type": "code",
   "execution_count": 0,
   "metadata": {
    "colab": {},
    "colab_type": "code",
    "id": "74Mc-Y_LCfpm"
   },
   "outputs": [],
   "source": [
    "submission = pd.read_csv('/content/drive/My Drive/PHD/submissionnnwithout_idnewstate.csv')"
   ]
  },
  {
   "cell_type": "code",
   "execution_count": 0,
   "metadata": {
    "colab": {},
    "colab_type": "code",
    "id": "4BPVW0Y3K8AJ"
   },
   "outputs": [],
   "source": [
    "test_final = pd.merge(test_loc_item,submission,left_on=\"id\",right_on=\"id\")"
   ]
  },
  {
   "cell_type": "code",
   "execution_count": 0,
   "metadata": {
    "colab": {},
    "colab_type": "code",
    "id": "01KL9tgcMgi8"
   },
   "outputs": [],
   "source": [
    "test_final['date'] = pd.to_datetime(test_final.date)"
   ]
  },
  {
   "cell_type": "code",
   "execution_count": 0,
   "metadata": {
    "colab": {},
    "colab_type": "code",
    "id": "t5MP3V4rLnJV"
   },
   "outputs": [],
   "source": [
    "test_final['week']=test_final.date.dt.week"
   ]
  },
  {
   "cell_type": "code",
   "execution_count": 24,
   "metadata": {
    "colab": {
     "base_uri": "https://localhost:8080/",
     "height": 272
    },
    "colab_type": "code",
    "id": "RhYFe2h5QblF",
    "outputId": "e5aa2e09-e51a-4dfc-99db-b8f64d640bd6"
   },
   "outputs": [
    {
     "data": {
      "text/plain": [
       "id                           int64\n",
       "date                datetime64[ns]\n",
       "locationId                  object\n",
       "item_id                     object\n",
       "onpromotion                   bool\n",
       "city                        object\n",
       "state                       object\n",
       "type                        object\n",
       "cluster                      int64\n",
       "category_of_item            object\n",
       "class                       object\n",
       "perishable                   int64\n",
       "unit_sales                 float64\n",
       "week                         int64\n",
       "dtype: object"
      ]
     },
     "execution_count": 24,
     "metadata": {
      "tags": []
     },
     "output_type": "execute_result"
    }
   ],
   "source": [
    "test_final.dtypes"
   ]
  },
  {
   "cell_type": "code",
   "execution_count": 0,
   "metadata": {
    "colab": {},
    "colab_type": "code",
    "id": "V1n2BvtvQiZ2"
   },
   "outputs": [],
   "source": [
    "test_final['id'] = test_final['id'].astype('object')\n",
    "test_final['onpromotion'] = test_final['onpromotion'].astype('object')\n",
    "test_final['cluster'] = test_final['cluster'].astype('object')\n",
    "test_final['perishable'] = test_final['perishable'].astype('object')\n",
    "test_final['week'] = test_final['week'].astype('object')"
   ]
  },
  {
   "cell_type": "markdown",
   "metadata": {
    "colab_type": "text",
    "id": "qRPDAm59D7-8"
   },
   "source": [
    "**Top Performing Cluster and Business Unit**"
   ]
  },
  {
   "cell_type": "code",
   "execution_count": 1,
   "metadata": {
    "colab": {
     "base_uri": "https://localhost:8080/",
     "height": 74,
     "resources": {
      "http://localhost:8080/nbextensions/google.colab/files.js": {
       "data": "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",
       "headers": [
        [
         "content-type",
         "application/javascript"
        ]
       ],
       "ok": true,
       "status": 200,
       "status_text": ""
      }
     }
    },
    "colab_type": "code",
    "id": "QCzy5tdI8rlM",
    "outputId": "3bf944e1-886f-4b11-9eba-2e4d111e0b36"
   },
   "outputs": [
    {
     "data": {
      "text/html": [
       "\n",
       "     <input type=\"file\" id=\"files-83b83499-7f97-4295-b496-b8c1dbe09c43\" name=\"files[]\" multiple disabled />\n",
       "     <output id=\"result-83b83499-7f97-4295-b496-b8c1dbe09c43\">\n",
       "      Upload widget is only available when the cell has been executed in the\n",
       "      current browser session. Please rerun this cell to enable.\n",
       "      </output>\n",
       "      <script src=\"/nbextensions/google.colab/files.js\"></script> "
      ],
      "text/plain": [
       "<IPython.core.display.HTML object>"
      ]
     },
     "metadata": {
      "tags": []
     },
     "output_type": "display_data"
    },
    {
     "name": "stdout",
     "output_type": "stream",
     "text": [
      "Saving Sheet 3.png to Sheet 3.png\n"
     ]
    }
   ],
   "source": [
    "from google.colab import files\n",
    "from IPython.display import Image\n",
    "uploaded = files.upload()"
   ]
  },
  {
   "cell_type": "code",
   "execution_count": 4,
   "metadata": {
    "colab": {
     "base_uri": "https://localhost:8080/",
     "height": 411
    },
    "colab_type": "code",
    "id": "p3SoQlH28-YW",
    "outputId": "e8c9864b-f78d-4d3a-c51f-f522aba119ef"
   },
   "outputs": [
    {
     "data": {
      "image/png": "[encoded data removed]",
      "text/plain": [
       "<IPython.core.display.Image object>"
      ]
     },
     "execution_count": 4,
     "metadata": {
      "image/png": {
       "width": 600
      },
      "tags": []
     },
     "output_type": "execute_result"
    }
   ],
   "source": [
    "Image(\"Sheet 3.png\", width=600)"
   ]
  },
  {
   "cell_type": "markdown",
   "metadata": {
    "colab_type": "text",
    "id": "jvCtEPI19MJA"
   },
   "source": [
    "From this plot we can find that Cluster 14 will see the highest amount of sales and Cluster 14 belongs to Type 'A' business unit for the first 15 days of January 2019."
   ]
  },
  {
   "cell_type": "code",
   "execution_count": 0,
   "metadata": {
    "colab": {},
    "colab_type": "code",
    "id": "l16Z3u8suz4u"
   },
   "outputs": [],
   "source": [
    "test_final.to_csv('test_final.csv')"
   ]
  },
  {
   "cell_type": "code",
   "execution_count": 0,
   "metadata": {
    "colab": {},
    "colab_type": "code",
    "id": "KYW8BOWfTim6"
   },
   "outputs": [],
   "source": [
    "analysis_data = test_final[test_final['cluster']== 14 ]"
   ]
  },
  {
   "cell_type": "code",
   "execution_count": 0,
   "metadata": {
    "colab": {},
    "colab_type": "code",
    "id": "YtzM061u3e17"
   },
   "outputs": [],
   "source": [
    "analysis_data.to_csv('analysis_data.csv')"
   ]
  },
  {
   "cell_type": "markdown",
   "metadata": {
    "colab_type": "text",
    "id": "EKqB-K1V-y4q"
   },
   "source": [
    "**Top Performing Categories of Item**"
   ]
  },
  {
   "cell_type": "code",
   "execution_count": 27,
   "metadata": {
    "colab": {
     "base_uri": "https://localhost:8080/",
     "height": 424
    },
    "colab_type": "code",
    "id": "69fn002CalAT",
    "outputId": "04fe1572-4e3a-405e-d5c4-f7cc059369c0"
   },
   "outputs": [
    {
     "data": {
      "text/plain": [
       "<matplotlib.axes._subplots.AxesSubplot at 0x7efe3425ae10>"
      ]
     },
     "execution_count": 27,
     "metadata": {
      "tags": []
     },
     "output_type": "execute_result"
    },
    {
     "data": {
      "image/png": "[encoded data removed]",
      "text/plain": [
       "<Figure size 432x288 with 1 Axes>"
      ]
     },
     "metadata": {
      "tags": []
     },
     "output_type": "display_data"
    }
   ],
   "source": [
    "analysis_data.groupby(['category_of_item']).sum().sort_values(by='unit_sales',ascending=False).head(10).plot(kind='bar')"
   ]
  },
  {
   "cell_type": "markdown",
   "metadata": {
    "colab_type": "text",
    "id": "Xl5rK-N0ErtQ"
   },
   "source": [
    "From this plot we can infer that grocery items will be the top performing category followed by beverages for the first 15 days of 2019."
   ]
  },
  {
   "cell_type": "code",
   "execution_count": 28,
   "metadata": {
    "colab": {
     "base_uri": "https://localhost:8080/",
     "height": 390
    },
    "colab_type": "code",
    "id": "qL3TxLNDXbhN",
    "outputId": "58cb45b4-1c73-4b19-f897-36aed2eefd56"
   },
   "outputs": [
    {
     "data": {
      "text/html": [
       "<div>\n",
       "<style scoped>\n",
       "    .dataframe tbody tr th:only-of-type {\n",
       "        vertical-align: middle;\n",
       "    }\n",
       "\n",
       "    .dataframe tbody tr th {\n",
       "        vertical-align: top;\n",
       "    }\n",
       "\n",
       "    .dataframe thead th {\n",
       "        text-align: right;\n",
       "    }\n",
       "</style>\n",
       "<table border=\"1\" class=\"dataframe\">\n",
       "  <thead>\n",
       "    <tr style=\"text-align: right;\">\n",
       "      <th></th>\n",
       "      <th>unit_sales</th>\n",
       "    </tr>\n",
       "    <tr>\n",
       "      <th>category_of_item</th>\n",
       "      <th></th>\n",
       "    </tr>\n",
       "  </thead>\n",
       "  <tbody>\n",
       "    <tr>\n",
       "      <th>grocery_items</th>\n",
       "      <td>370151.391980</td>\n",
       "    </tr>\n",
       "    <tr>\n",
       "      <th>beverages</th>\n",
       "      <td>217315.332511</td>\n",
       "    </tr>\n",
       "    <tr>\n",
       "      <th>other_farm_produce</th>\n",
       "      <td>132507.638057</td>\n",
       "    </tr>\n",
       "    <tr>\n",
       "      <th>cleaning_utilities</th>\n",
       "      <td>97889.500866</td>\n",
       "    </tr>\n",
       "    <tr>\n",
       "      <th>dairy_items</th>\n",
       "      <td>75235.365664</td>\n",
       "    </tr>\n",
       "    <tr>\n",
       "      <th>baked_items / bread_based</th>\n",
       "      <td>37328.040662</td>\n",
       "    </tr>\n",
       "    <tr>\n",
       "      <th>personal_care</th>\n",
       "      <td>34168.657494</td>\n",
       "    </tr>\n",
       "    <tr>\n",
       "      <th>vegetables</th>\n",
       "      <td>33419.559601</td>\n",
       "    </tr>\n",
       "    <tr>\n",
       "      <th>home_care</th>\n",
       "      <td>26343.630794</td>\n",
       "    </tr>\n",
       "    <tr>\n",
       "      <th>meat_based_items</th>\n",
       "      <td>24911.085357</td>\n",
       "    </tr>\n",
       "  </tbody>\n",
       "</table>\n",
       "</div>"
      ],
      "text/plain": [
       "                              unit_sales\n",
       "category_of_item                        \n",
       "grocery_items              370151.391980\n",
       "beverages                  217315.332511\n",
       "other_farm_produce         132507.638057\n",
       "cleaning_utilities          97889.500866\n",
       "dairy_items                 75235.365664\n",
       "baked_items / bread_based   37328.040662\n",
       "personal_care               34168.657494\n",
       "vegetables                  33419.559601\n",
       "home_care                   26343.630794\n",
       "meat_based_items            24911.085357"
      ]
     },
     "execution_count": 28,
     "metadata": {
      "tags": []
     },
     "output_type": "execute_result"
    }
   ],
   "source": [
    "analysis_data.groupby(['category_of_item']).sum().sort_values(by='unit_sales',ascending=False).head(10)"
   ]
  },
  {
   "cell_type": "markdown",
   "metadata": {
    "colab_type": "text",
    "id": "0rojnMuHF2M1"
   },
   "source": [
    "**Item Sales**"
   ]
  },
  {
   "cell_type": "code",
   "execution_count": 0,
   "metadata": {
    "colab": {},
    "colab_type": "code",
    "id": "ULq-n0WST0_v"
   },
   "outputs": [],
   "source": [
    "item_sales = analysis_data.groupby(['item_id','category_of_item'],as_index=False).agg({'unit_sales':'sum'})\n",
    "item_sales=item_sales.sort_values(by='unit_sales',ascending=False)[:10]"
   ]
  },
  {
   "cell_type": "code",
   "execution_count": 0,
   "metadata": {
    "colab": {},
    "colab_type": "code",
    "id": "JeFhNB67k4DL"
   },
   "outputs": [],
   "source": [
    "item=[]\n",
    "item = item_sales['item_id']"
   ]
  },
  {
   "cell_type": "code",
   "execution_count": 0,
   "metadata": {
    "colab": {},
    "colab_type": "code",
    "id": "jXC4dXOCW1TK"
   },
   "outputs": [],
   "source": [
    "category_sales = analysis_data.groupby('category_of_item',as_index=False).agg({'unit_sales':'sum'})\n",
    "category_sales=category_sales.sort_values(by='unit_sales',ascending=False)[:10]"
   ]
  },
  {
   "cell_type": "code",
   "execution_count": 0,
   "metadata": {
    "colab": {},
    "colab_type": "code",
    "id": "Qx66vr4bkCwM"
   },
   "outputs": [],
   "source": [
    "category = []\n",
    "category = category_sales['category_of_item']"
   ]
  },
  {
   "cell_type": "code",
   "execution_count": 40,
   "metadata": {
    "colab": {
     "base_uri": "https://localhost:8080/",
     "height": 74,
     "resources": {
      "http://localhost:8080/nbextensions/google.colab/files.js": {
       "data": "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",
       "headers": [
        [
         "content-type",
         "application/javascript"
        ]
       ],
       "ok": true,
       "status": 200,
       "status_text": ""
      }
     }
    },
    "colab_type": "code",
    "id": "CcmnIyg0CjyU",
    "outputId": "1772535a-f768-4aa0-ab1e-ae08e61a257d"
   },
   "outputs": [
    {
     "data": {
      "text/html": [
       "\n",
       "     <input type=\"file\" id=\"files-48ebc7b8-39b4-491b-8aa9-7f2f9cbcd58e\" name=\"files[]\" multiple disabled />\n",
       "     <output id=\"result-48ebc7b8-39b4-491b-8aa9-7f2f9cbcd58e\">\n",
       "      Upload widget is only available when the cell has been executed in the\n",
       "      current browser session. Please rerun this cell to enable.\n",
       "      </output>\n",
       "      <script src=\"/nbextensions/google.colab/files.js\"></script> "
      ],
      "text/plain": [
       "<IPython.core.display.HTML object>"
      ]
     },
     "metadata": {
      "tags": []
     },
     "output_type": "display_data"
    },
    {
     "name": "stdout",
     "output_type": "stream",
     "text": [
      "Saving top10.png to top10.png\n"
     ]
    }
   ],
   "source": [
    "uploaded = files.upload()"
   ]
  },
  {
   "cell_type": "code",
   "execution_count": 43,
   "metadata": {
    "colab": {
     "base_uri": "https://localhost:8080/",
     "height": 440
    },
    "colab_type": "code",
    "id": "XJhfAR5OFXW0",
    "outputId": "b822cc21-b2cc-4272-d194-637b1f96f964"
   },
   "outputs": [
    {
     "data": {
      "image/png": "[encoded data removed]",
      "text/plain": [
       "<IPython.core.display.Image object>"
      ]
     },
     "execution_count": 43,
     "metadata": {
      "image/png": {
       "width": 600
      },
      "tags": []
     },
     "output_type": "execute_result"
    }
   ],
   "source": [
    "Image(\"top10.png\", width=600)"
   ]
  },
  {
   "cell_type": "markdown",
   "metadata": {
    "colab_type": "text",
    "id": "iJ-27W9UFTol"
   },
   "source": [
    "From this plot we can infer these are the top 10 selling items according to the predictions for cluster 14."
   ]
  },
  {
   "cell_type": "markdown",
   "metadata": {
    "colab_type": "text",
    "id": "vPHhWvguGFnJ"
   },
   "source": [
    "**Rate of Purchase per Week**"
   ]
  },
  {
   "cell_type": "code",
   "execution_count": 0,
   "metadata": {
    "colab": {},
    "colab_type": "code",
    "id": "AX5C7SQiZWo5"
   },
   "outputs": [],
   "source": [
    "analysis_data.groupby([\"category_of_item\",'week']).sum().sort_values(\"unit_sales\", ascending=False).head(5)"
   ]
  },
  {
   "cell_type": "code",
   "execution_count": 56,
   "metadata": {
    "colab": {
     "base_uri": "https://localhost:8080/",
     "height": 74,
     "resources": {
      "http://localhost:8080/nbextensions/google.colab/files.js": {
       "data": "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",
       "headers": [
        [
         "content-type",
         "application/javascript"
        ]
       ],
       "ok": true,
       "status": 200,
       "status_text": ""
      }
     }
    },
    "colab_type": "code",
    "id": "PpOmXkDcGYQl",
    "outputId": "ec940e6e-1f65-49f1-ef7f-6281709e6a65"
   },
   "outputs": [
    {
     "data": {
      "text/html": [
       "\n",
       "     <input type=\"file\" id=\"files-deb76f8a-4b55-4e5b-af0d-3447e80995ff\" name=\"files[]\" multiple disabled />\n",
       "     <output id=\"result-deb76f8a-4b55-4e5b-af0d-3447e80995ff\">\n",
       "      Upload widget is only available when the cell has been executed in the\n",
       "      current browser session. Please rerun this cell to enable.\n",
       "      </output>\n",
       "      <script src=\"/nbextensions/google.colab/files.js\"></script> "
      ],
      "text/plain": [
       "<IPython.core.display.HTML object>"
      ]
     },
     "metadata": {
      "tags": []
     },
     "output_type": "display_data"
    },
    {
     "name": "stdout",
     "output_type": "stream",
     "text": [
      "Saving item10.png to item10.png\n"
     ]
    }
   ],
   "source": [
    "uploaded = files.upload()"
   ]
  },
  {
   "cell_type": "code",
   "execution_count": 60,
   "metadata": {
    "colab": {
     "base_uri": "https://localhost:8080/",
     "height": 526
    },
    "colab_type": "code",
    "id": "PU8mlkbBGlRn",
    "outputId": "d5fe93d1-60d9-4252-f2f8-bd987610b9cd"
   },
   "outputs": [
    {
     "data": {
      "image/png": "[encoded data removed]",
      "text/plain": [
       "<IPython.core.display.Image object>"
      ]
     },
     "execution_count": 60,
     "metadata": {
      "image/png": {
       "width": 1200
      },
      "tags": []
     },
     "output_type": "execute_result"
    }
   ],
   "source": [
    "Image(\"item10.png\", width=1200)"
   ]
  },
  {
   "cell_type": "markdown",
   "metadata": {
    "colab_type": "text",
    "id": "3R6i16EoIlGS"
   },
   "source": [
    "From this plot we can infer that these are the weekwise rate of purchase for the top 10 items of cluster 14."
   ]
  },
  {
   "cell_type": "code",
   "execution_count": 0,
   "metadata": {
    "colab": {},
    "colab_type": "code",
    "id": "MVFNq80HgPi3"
   },
   "outputs": [],
   "source": [
    "analysis_data2 = analysis_data[analysis_data['item_id'].isin(item)].groupby(['item_id','week'],as_index=False).agg({'unit_sales':'sum'})"
   ]
  },
  {
   "cell_type": "code",
   "execution_count": 0,
   "metadata": {
    "colab": {},
    "colab_type": "code",
    "id": "r1gW76zPvIi-"
   },
   "outputs": [],
   "source": [
    "wk1sales = analysis_data2[analysis_data2['week']==1].unit_sales.sum()\n",
    "wk2sales = analysis_data2[analysis_data2['week']==2].unit_sales.sum()\n",
    "wk3sales = analysis_data2[analysis_data2['week']==3].unit_sales.sum()"
   ]
  },
  {
   "cell_type": "code",
   "execution_count": 0,
   "metadata": {
    "colab": {},
    "colab_type": "code",
    "id": "pIzJW-k3g8ov"
   },
   "outputs": [],
   "source": [
    "analysis_data2.loc[analysis_data2['week']==1, 'rt_of_purchase'] = (analysis_data2['unit_sales']/wk1sales)*100\n",
    "analysis_data2.loc[analysis_data2['week']==2, 'rt_of_purchase'] = (analysis_data2['unit_sales']/wk2sales)*100\n",
    "analysis_data2.loc[analysis_data2['week']==3, 'rt_of_purchase'] = (analysis_data2['unit_sales']/wk3sales)*100"
   ]
  },
  {
   "cell_type": "code",
   "execution_count": 54,
   "metadata": {
    "colab": {
     "base_uri": "https://localhost:8080/",
     "height": 204
    },
    "colab_type": "code",
    "id": "qB0Ec-SJpXdQ",
    "outputId": "191bac9c-f8c0-4b72-e598-579ba3695ed6"
   },
   "outputs": [
    {
     "data": {
      "text/html": [
       "<div>\n",
       "<style scoped>\n",
       "    .dataframe tbody tr th:only-of-type {\n",
       "        vertical-align: middle;\n",
       "    }\n",
       "\n",
       "    .dataframe tbody tr th {\n",
       "        vertical-align: top;\n",
       "    }\n",
       "\n",
       "    .dataframe thead th {\n",
       "        text-align: right;\n",
       "    }\n",
       "</style>\n",
       "<table border=\"1\" class=\"dataframe\">\n",
       "  <thead>\n",
       "    <tr style=\"text-align: right;\">\n",
       "      <th></th>\n",
       "      <th>item_id</th>\n",
       "      <th>week</th>\n",
       "      <th>unit_sales</th>\n",
       "      <th>rt_of_purchase</th>\n",
       "    </tr>\n",
       "  </thead>\n",
       "  <tbody>\n",
       "    <tr>\n",
       "      <th>0</th>\n",
       "      <td>item_1309246</td>\n",
       "      <td>1</td>\n",
       "      <td>563.357943</td>\n",
       "      <td>10.162031</td>\n",
       "    </tr>\n",
       "    <tr>\n",
       "      <th>1</th>\n",
       "      <td>item_1309246</td>\n",
       "      <td>2</td>\n",
       "      <td>728.085712</td>\n",
       "      <td>9.827551</td>\n",
       "    </tr>\n",
       "    <tr>\n",
       "      <th>2</th>\n",
       "      <td>item_1309246</td>\n",
       "      <td>3</td>\n",
       "      <td>210.257790</td>\n",
       "      <td>10.112416</td>\n",
       "    </tr>\n",
       "    <tr>\n",
       "      <th>3</th>\n",
       "      <td>item_1333307</td>\n",
       "      <td>1</td>\n",
       "      <td>563.357943</td>\n",
       "      <td>10.162031</td>\n",
       "    </tr>\n",
       "    <tr>\n",
       "      <th>4</th>\n",
       "      <td>item_1333307</td>\n",
       "      <td>2</td>\n",
       "      <td>728.085728</td>\n",
       "      <td>9.827552</td>\n",
       "    </tr>\n",
       "  </tbody>\n",
       "</table>\n",
       "</div>"
      ],
      "text/plain": [
       "        item_id  week  unit_sales  rt_of_purchase\n",
       "0  item_1309246     1  563.357943       10.162031\n",
       "1  item_1309246     2  728.085712        9.827551\n",
       "2  item_1309246     3  210.257790       10.112416\n",
       "3  item_1333307     1  563.357943       10.162031\n",
       "4  item_1333307     2  728.085728        9.827552"
      ]
     },
     "execution_count": 54,
     "metadata": {
      "tags": []
     },
     "output_type": "execute_result"
    }
   ],
   "source": [
    "analysis_data2.head(5)"
   ]
  },
  {
   "cell_type": "code",
   "execution_count": 0,
   "metadata": {
    "colab": {},
    "colab_type": "code",
    "id": "j3SvqCd9E4Bi"
   },
   "outputs": [],
   "source": [
    "analysis_data2.to_csv('analysis_data2.csv')"
   ]
  },
  {
   "cell_type": "code",
   "execution_count": 0,
   "metadata": {
    "colab": {},
    "colab_type": "code",
    "id": "5xDcFrvqh0iF"
   },
   "outputs": [],
   "source": [
    "analysis_data3 = analysis_data[analysis_data['category_of_item'].isin(category)].groupby(['category_of_item','week'],as_index=False).agg({'unit_sales':'sum'})"
   ]
  },
  {
   "cell_type": "code",
   "execution_count": 0,
   "metadata": {
    "colab": {},
    "colab_type": "code",
    "id": "NUzS1vzhkt5z"
   },
   "outputs": [],
   "source": [
    "analysis_data3.head()"
   ]
  },
  {
   "cell_type": "code",
   "execution_count": 58,
   "metadata": {
    "colab": {
     "base_uri": "https://localhost:8080/",
     "height": 74,
     "resources": {
      "http://localhost:8080/nbextensions/google.colab/files.js": {
       "data": "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",
       "headers": [
        [
         "content-type",
         "application/javascript"
        ]
       ],
       "ok": true,
       "status": 200,
       "status_text": ""
      }
     }
    },
    "colab_type": "code",
    "id": "2Ki7pdcyJtnN",
    "outputId": "5bac9a00-8e9b-4f5b-f6eb-90496686eba4"
   },
   "outputs": [
    {
     "data": {
      "text/html": [
       "\n",
       "     <input type=\"file\" id=\"files-6afe1a5b-3957-4b1f-a3eb-3a3b7b612a9d\" name=\"files[]\" multiple disabled />\n",
       "     <output id=\"result-6afe1a5b-3957-4b1f-a3eb-3a3b7b612a9d\">\n",
       "      Upload widget is only available when the cell has been executed in the\n",
       "      current browser session. Please rerun this cell to enable.\n",
       "      </output>\n",
       "      <script src=\"/nbextensions/google.colab/files.js\"></script> "
      ],
      "text/plain": [
       "<IPython.core.display.HTML object>"
      ]
     },
     "metadata": {
      "tags": []
     },
     "output_type": "display_data"
    },
    {
     "name": "stdout",
     "output_type": "stream",
     "text": [
      "Saving cat.png to cat (1).png\n"
     ]
    }
   ],
   "source": [
    "uploaded = files.upload()"
   ]
  },
  {
   "cell_type": "code",
   "execution_count": 61,
   "metadata": {
    "colab": {
     "base_uri": "https://localhost:8080/",
     "height": 526
    },
    "colab_type": "code",
    "id": "NkeSkofOJ7w-",
    "outputId": "3b30d5e4-97a3-4594-9759-59a03c3eec4f"
   },
   "outputs": [
    {
     "data": {
      "image/png": "[encoded data removed]",
      "text/plain": [
       "<IPython.core.display.Image object>"
      ]
     },
     "execution_count": 61,
     "metadata": {
      "image/png": {
       "width": 1200
      },
      "tags": []
     },
     "output_type": "execute_result"
    }
   ],
   "source": [
    "Image(\"cat.png\", width=1200)"
   ]
  },
  {
   "cell_type": "markdown",
   "metadata": {
    "colab_type": "text",
    "id": "AVs6Yxc-KTSc"
   },
   "source": [
    "From this plot we can infer that these are the weekwise rate of purchase for the top 10 category of items of cluster 14. Week 2 is having more contribution than week1."
   ]
  },
  {
   "cell_type": "code",
   "execution_count": 0,
   "metadata": {
    "colab": {},
    "colab_type": "code",
    "id": "SNydsag1lFZr"
   },
   "outputs": [],
   "source": [
    "wk1cat = analysis_data3[analysis_data3['week']==1].unit_sales.sum()\n",
    "wk2cat = analysis_data3[analysis_data3['week']==2].unit_sales.sum()\n",
    "wk3cat = analysis_data3[analysis_data3['week']==3].unit_sales.sum()"
   ]
  },
  {
   "cell_type": "code",
   "execution_count": 0,
   "metadata": {
    "colab": {},
    "colab_type": "code",
    "id": "Okm-czuXlXOk"
   },
   "outputs": [],
   "source": [
    "analysis_data3.loc[analysis_data2['week']==1, 'rt_of_purchase'] = (analysis_data3['unit_sales']/wk1cat)*100\n",
    "analysis_data3.loc[analysis_data2['week']==2, 'rt_of_purchase'] = (analysis_data3['unit_sales']/wk2cat)*100\n",
    "analysis_data3.loc[analysis_data2['week']==3, 'rt_of_purchase'] = (analysis_data3['unit_sales']/wk3cat)*100"
   ]
  },
  {
   "cell_type": "code",
   "execution_count": 0,
   "metadata": {
    "colab": {},
    "colab_type": "code",
    "id": "GrIgykeOluK9"
   },
   "outputs": [],
   "source": [
    "analysis_data3.sort_values('week')"
   ]
  },
  {
   "cell_type": "markdown",
   "metadata": {
    "colab_type": "text",
    "id": "7U7EHWK_oaX1"
   },
   "source": [
    "# ***THANK YOU.***"
   ]
  }
 ],
 "metadata": {
  "accelerator": "TPU",
  "colab": {
   "collapsed_sections": [],
   "machine_shape": "hm",
   "name": "Manojkumar_3460_model.ipynb",
   "provenance": []
  },
  "kernelspec": {
   "display_name": "Python 3",
   "language": "python",
   "name": "python3"
  },
  "language_info": {
   "codemirror_mode": {
    "name": "ipython",
    "version": 3
   },
   "file_extension": ".py",
   "mimetype": "text/x-python",
   "name": "python",
   "nbconvert_exporter": "python",
   "pygments_lexer": "ipython3",
   "version": "3.7.1"
  }
 },
 "nbformat": 4,
 "nbformat_minor": 1
}
